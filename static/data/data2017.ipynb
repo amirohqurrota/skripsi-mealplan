{
 "cells": [
  {
   "cell_type": "code",
   "execution_count": 1,
   "metadata": {},
   "outputs": [],
   "source": [
    "import csv\n",
    "import pandas as pd\n",
    "import numpy as np\n",
    "import random"
   ]
  },
  {
   "cell_type": "code",
   "execution_count": 2,
   "metadata": {},
   "outputs": [
    {
     "ename": "InvalidIndexError",
     "evalue": "Reindexing only valid with uniquely valued Index objects",
     "output_type": "error",
     "traceback": [
      "\u001b[1;31m---------------------------------------------------------------------------\u001b[0m",
      "\u001b[1;31mInvalidIndexError\u001b[0m                         Traceback (most recent call last)",
      "\u001b[1;32md:\\school-college\\skripsi\\proposal\\sistem\\diet-meal-plan\\static\\data\\data2017.ipynb Cell 2\u001b[0m in \u001b[0;36m<cell line: 6>\u001b[1;34m()\u001b[0m\n\u001b[0;32m     <a href='vscode-notebook-cell:/d%3A/school-college/skripsi/proposal/sistem/diet-meal-plan/static/data/data2017.ipynb#W1sZmlsZQ%3D%3D?line=13'>14</a>\u001b[0m         \u001b[39mif\u001b[39;00m(single \u001b[39m==\u001b[39m \u001b[39mFalse\u001b[39;00m) :\n\u001b[0;32m     <a href='vscode-notebook-cell:/d%3A/school-college/skripsi/proposal/sistem/diet-meal-plan/static/data/data2017.ipynb#W1sZmlsZQ%3D%3D?line=14'>15</a>\u001b[0m             df\u001b[39m.\u001b[39mat[i, \u001b[39m'\u001b[39m\u001b[39mType\u001b[39m\u001b[39m'\u001b[39m] \u001b[39m=\u001b[39m \u001b[39m\"\u001b[39m\u001b[39mprocessed food\u001b[39m\u001b[39m\"\u001b[39m\n\u001b[1;32m---> <a href='vscode-notebook-cell:/d%3A/school-college/skripsi/proposal/sistem/diet-meal-plan/static/data/data2017.ipynb#W1sZmlsZQ%3D%3D?line=16'>17</a>\u001b[0m     finalDf \u001b[39m=\u001b[39m pd\u001b[39m.\u001b[39;49mconcat([finalDf,df], ignore_index\u001b[39m=\u001b[39;49m\u001b[39mTrue\u001b[39;49;00m)\n\u001b[0;32m     <a href='vscode-notebook-cell:/d%3A/school-college/skripsi/proposal/sistem/diet-meal-plan/static/data/data2017.ipynb#W1sZmlsZQ%3D%3D?line=18'>19</a>\u001b[0m finalDf\u001b[39m.\u001b[39mto_csv(\u001b[39m'\u001b[39m\u001b[39mfinalData.csv\u001b[39m\u001b[39m'\u001b[39m)\n",
      "File \u001b[1;32mc:\\Python310\\lib\\site-packages\\pandas\\core\\reshape\\concat.py:385\u001b[0m, in \u001b[0;36mconcat\u001b[1;34m(objs, axis, join, ignore_index, keys, levels, names, verify_integrity, sort, copy)\u001b[0m\n\u001b[0;32m    370\u001b[0m     copy \u001b[39m=\u001b[39m \u001b[39mFalse\u001b[39;00m\n\u001b[0;32m    372\u001b[0m op \u001b[39m=\u001b[39m _Concatenator(\n\u001b[0;32m    373\u001b[0m     objs,\n\u001b[0;32m    374\u001b[0m     axis\u001b[39m=\u001b[39maxis,\n\u001b[1;32m   (...)\u001b[0m\n\u001b[0;32m    382\u001b[0m     sort\u001b[39m=\u001b[39msort,\n\u001b[0;32m    383\u001b[0m )\n\u001b[1;32m--> 385\u001b[0m \u001b[39mreturn\u001b[39;00m op\u001b[39m.\u001b[39;49mget_result()\n",
      "File \u001b[1;32mc:\\Python310\\lib\\site-packages\\pandas\\core\\reshape\\concat.py:612\u001b[0m, in \u001b[0;36m_Concatenator.get_result\u001b[1;34m(self)\u001b[0m\n\u001b[0;32m    610\u001b[0m         obj_labels \u001b[39m=\u001b[39m obj\u001b[39m.\u001b[39maxes[\u001b[39m1\u001b[39m \u001b[39m-\u001b[39m ax]\n\u001b[0;32m    611\u001b[0m         \u001b[39mif\u001b[39;00m \u001b[39mnot\u001b[39;00m new_labels\u001b[39m.\u001b[39mequals(obj_labels):\n\u001b[1;32m--> 612\u001b[0m             indexers[ax] \u001b[39m=\u001b[39m obj_labels\u001b[39m.\u001b[39;49mget_indexer(new_labels)\n\u001b[0;32m    614\u001b[0m     mgrs_indexers\u001b[39m.\u001b[39mappend((obj\u001b[39m.\u001b[39m_mgr, indexers))\n\u001b[0;32m    616\u001b[0m new_data \u001b[39m=\u001b[39m concatenate_managers(\n\u001b[0;32m    617\u001b[0m     mgrs_indexers, \u001b[39mself\u001b[39m\u001b[39m.\u001b[39mnew_axes, concat_axis\u001b[39m=\u001b[39m\u001b[39mself\u001b[39m\u001b[39m.\u001b[39mbm_axis, copy\u001b[39m=\u001b[39m\u001b[39mself\u001b[39m\u001b[39m.\u001b[39mcopy\n\u001b[0;32m    618\u001b[0m )\n",
      "File \u001b[1;32mc:\\Python310\\lib\\site-packages\\pandas\\core\\indexes\\base.py:3731\u001b[0m, in \u001b[0;36mIndex.get_indexer\u001b[1;34m(self, target, method, limit, tolerance)\u001b[0m\n\u001b[0;32m   3728\u001b[0m \u001b[39mself\u001b[39m\u001b[39m.\u001b[39m_check_indexing_method(method, limit, tolerance)\n\u001b[0;32m   3730\u001b[0m \u001b[39mif\u001b[39;00m \u001b[39mnot\u001b[39;00m \u001b[39mself\u001b[39m\u001b[39m.\u001b[39m_index_as_unique:\n\u001b[1;32m-> 3731\u001b[0m     \u001b[39mraise\u001b[39;00m InvalidIndexError(\u001b[39mself\u001b[39m\u001b[39m.\u001b[39m_requires_unique_msg)\n\u001b[0;32m   3733\u001b[0m \u001b[39mif\u001b[39;00m \u001b[39mlen\u001b[39m(target) \u001b[39m==\u001b[39m \u001b[39m0\u001b[39m:\n\u001b[0;32m   3734\u001b[0m     \u001b[39mreturn\u001b[39;00m np\u001b[39m.\u001b[39marray([], dtype\u001b[39m=\u001b[39mnp\u001b[39m.\u001b[39mintp)\n",
      "\u001b[1;31mInvalidIndexError\u001b[0m: Reindexing only valid with uniquely valued Index objects"
     ]
    }
   ],
   "source": [
    "import glob\n",
    "import os\n",
    "\n",
    "finalDf = pd.DataFrame()\n",
    "path = \"*.csv\"\n",
    "for fname in glob.glob(path):\n",
    "    df=pd.read_csv(fname)\n",
    "    df.insert(3,\"Food Group\",os.path.basename(fname).split('.')[0],True)\n",
    "    df.insert(4,\"Type\",\"single\",True)\n",
    "    single = True\n",
    "    for i in df.index:\n",
    "        if(df['KODE'][i]==\"OLAHAN/PRODUK/KOMPOSIT\") :\n",
    "            single = False\n",
    "        if(single == False) :\n",
    "            df.at[i, 'Type'] = \"processed food\"\n",
    "            \n",
    "    finalDf = pd.concat([finalDf,df], ignore_index=True)\n",
    "\n",
    "finalDf.to_csv('finalData.csv')"
   ]
  },
  {
   "cell_type": "code",
   "execution_count": 3,
   "metadata": {},
   "outputs": [
    {
     "data": {
      "text/html": [
       "<div>\n",
       "<style scoped>\n",
       "    .dataframe tbody tr th:only-of-type {\n",
       "        vertical-align: middle;\n",
       "    }\n",
       "\n",
       "    .dataframe tbody tr th {\n",
       "        vertical-align: top;\n",
       "    }\n",
       "\n",
       "    .dataframe thead th {\n",
       "        text-align: right;\n",
       "    }\n",
       "</style>\n",
       "<table border=\"1\" class=\"dataframe\">\n",
       "  <thead>\n",
       "    <tr style=\"text-align: right;\">\n",
       "      <th></th>\n",
       "      <th>Unnamed: 0</th>\n",
       "      <th>KODE</th>\n",
       "      <th>NAMA BAHAN</th>\n",
       "      <th>SUMBER</th>\n",
       "      <th>Food Group</th>\n",
       "      <th>Type</th>\n",
       "      <th>AIR (g)</th>\n",
       "      <th>ENERGI (Kal)</th>\n",
       "      <th>PROTEIN (g)</th>\n",
       "      <th>LEMAK (g)</th>\n",
       "      <th>...</th>\n",
       "      <th>TEMBAGA(mg)</th>\n",
       "      <th>SENG (mg)</th>\n",
       "      <th>RETINOL (mcg)</th>\n",
       "      <th>B-KAR (mcg)</th>\n",
       "      <th>KAR -TOTAL (mcg)</th>\n",
       "      <th>THIAMIN (mg)</th>\n",
       "      <th>RIBOFLAVIN (mg)</th>\n",
       "      <th>NIASIN (mg)</th>\n",
       "      <th>VIT_C (mg)</th>\n",
       "      <th>Unnamed: 24</th>\n",
       "    </tr>\n",
       "  </thead>\n",
       "  <tbody>\n",
       "    <tr>\n",
       "      <th>0</th>\n",
       "      <td>0</td>\n",
       "      <td>TUNGGAL/SINGLE</td>\n",
       "      <td>NaN</td>\n",
       "      <td>NaN</td>\n",
       "      <td>biji bijian</td>\n",
       "      <td>single</td>\n",
       "      <td>NaN</td>\n",
       "      <td>NaN</td>\n",
       "      <td>NaN</td>\n",
       "      <td>NaN</td>\n",
       "      <td>...</td>\n",
       "      <td>NaN</td>\n",
       "      <td>NaN</td>\n",
       "      <td>NaN</td>\n",
       "      <td>NaN</td>\n",
       "      <td>NaN</td>\n",
       "      <td>NaN</td>\n",
       "      <td>NaN</td>\n",
       "      <td>NaN</td>\n",
       "      <td>NaN</td>\n",
       "      <td>NaN</td>\n",
       "    </tr>\n",
       "    <tr>\n",
       "      <th>1</th>\n",
       "      <td>1</td>\n",
       "      <td>CR001</td>\n",
       "      <td>Kacang arab, kering</td>\n",
       "      <td>DABM-1964</td>\n",
       "      <td>biji bijian</td>\n",
       "      <td>single</td>\n",
       "      <td>11.6</td>\n",
       "      <td>330.0</td>\n",
       "      <td>23.8</td>\n",
       "      <td>1.4</td>\n",
       "      <td>...</td>\n",
       "      <td>0.85</td>\n",
       "      <td>3.4</td>\n",
       "      <td>NaN</td>\n",
       "      <td>40</td>\n",
       "      <td>140.0</td>\n",
       "      <td>0.77</td>\n",
       "      <td>0.21</td>\n",
       "      <td>1.5</td>\n",
       "      <td>2.0</td>\n",
       "      <td>100.0</td>\n",
       "    </tr>\n",
       "    <tr>\n",
       "      <th>2</th>\n",
       "      <td>2</td>\n",
       "      <td>CR002</td>\n",
       "      <td>Kacang babi, kering</td>\n",
       "      <td>KZGPI-1990</td>\n",
       "      <td>biji bijian</td>\n",
       "      <td>single</td>\n",
       "      <td>11.6</td>\n",
       "      <td>341.0</td>\n",
       "      <td>30.4</td>\n",
       "      <td>3.2</td>\n",
       "      <td>...</td>\n",
       "      <td>0.82</td>\n",
       "      <td>3.1</td>\n",
       "      <td>NaN</td>\n",
       "      <td>NaN</td>\n",
       "      <td>87.0</td>\n",
       "      <td>0.23</td>\n",
       "      <td>0.33</td>\n",
       "      <td>2.8</td>\n",
       "      <td>NaN</td>\n",
       "      <td>80.0</td>\n",
       "    </tr>\n",
       "    <tr>\n",
       "      <th>3</th>\n",
       "      <td>3</td>\n",
       "      <td>CR003</td>\n",
       "      <td>Kacang belimbing\\n(kecipir), kering</td>\n",
       "      <td>KZGPI-1990</td>\n",
       "      <td>biji bijian</td>\n",
       "      <td>single</td>\n",
       "      <td>10.4</td>\n",
       "      <td>400.0</td>\n",
       "      <td>34.4</td>\n",
       "      <td>16.9</td>\n",
       "      <td>...</td>\n",
       "      <td>2.82</td>\n",
       "      <td>2.0</td>\n",
       "      <td>NaN</td>\n",
       "      <td>NaN</td>\n",
       "      <td>NaN</td>\n",
       "      <td>0.3</td>\n",
       "      <td>0.44</td>\n",
       "      <td>3.0</td>\n",
       "      <td>NaN</td>\n",
       "      <td>100.0</td>\n",
       "    </tr>\n",
       "  </tbody>\n",
       "</table>\n",
       "<p>4 rows × 28 columns</p>\n",
       "</div>"
      ],
      "text/plain": [
       "   Unnamed: 0            KODE                           NAMA BAHAN   \n",
       "0           0  TUNGGAL/SINGLE                                  NaN  \\\n",
       "1           1           CR001                  Kacang arab, kering   \n",
       "2           2           CR002                  Kacang babi, kering   \n",
       "3           3           CR003  Kacang belimbing\\n(kecipir), kering   \n",
       "\n",
       "       SUMBER   Food Group    Type  AIR (g)  ENERGI (Kal)  PROTEIN (g)   \n",
       "0         NaN  biji bijian  single      NaN           NaN          NaN  \\\n",
       "1   DABM-1964  biji bijian  single     11.6         330.0         23.8   \n",
       "2  KZGPI-1990  biji bijian  single     11.6         341.0         30.4   \n",
       "3  KZGPI-1990  biji bijian  single     10.4         400.0         34.4   \n",
       "\n",
       "  LEMAK (g)  ...  TEMBAGA(mg) SENG (mg) RETINOL (mcg) B-KAR (mcg)   \n",
       "0       NaN  ...          NaN       NaN           NaN         NaN  \\\n",
       "1       1.4  ...         0.85       3.4           NaN          40   \n",
       "2       3.2  ...         0.82       3.1           NaN         NaN   \n",
       "3      16.9  ...         2.82       2.0           NaN         NaN   \n",
       "\n",
       "  KAR -TOTAL (mcg) THIAMIN (mg) RIBOFLAVIN (mg) NIASIN (mg) VIT_C (mg)   \n",
       "0              NaN          NaN             NaN         NaN        NaN  \\\n",
       "1            140.0         0.77            0.21         1.5        2.0   \n",
       "2             87.0         0.23            0.33         2.8        NaN   \n",
       "3              NaN          0.3            0.44         3.0        NaN   \n",
       "\n",
       "  Unnamed: 24  \n",
       "0         NaN  \n",
       "1       100.0  \n",
       "2        80.0  \n",
       "3       100.0  \n",
       "\n",
       "[4 rows x 28 columns]"
      ]
     },
     "execution_count": 3,
     "metadata": {},
     "output_type": "execute_result"
    }
   ],
   "source": [
    "finalData = pd.read_csv(\"finalData.csv\")\n",
    "finalData.head(4)"
   ]
  },
  {
   "cell_type": "code",
   "execution_count": 8,
   "metadata": {},
   "outputs": [
    {
     "data": {
      "text/html": [
       "<div>\n",
       "<style scoped>\n",
       "    .dataframe tbody tr th:only-of-type {\n",
       "        vertical-align: middle;\n",
       "    }\n",
       "\n",
       "    .dataframe tbody tr th {\n",
       "        vertical-align: top;\n",
       "    }\n",
       "\n",
       "    .dataframe thead th {\n",
       "        text-align: right;\n",
       "    }\n",
       "</style>\n",
       "<table border=\"1\" class=\"dataframe\">\n",
       "  <thead>\n",
       "    <tr style=\"text-align: right;\">\n",
       "      <th></th>\n",
       "      <th>Unnamed: 0</th>\n",
       "      <th>KODE</th>\n",
       "      <th>NAMA BAHAN</th>\n",
       "      <th>SUMBER</th>\n",
       "      <th>Food Group</th>\n",
       "      <th>Type</th>\n",
       "      <th>AIR (g)</th>\n",
       "      <th>ENERGI (Kal)</th>\n",
       "      <th>PROTEIN (g)</th>\n",
       "      <th>LEMAK (g)</th>\n",
       "      <th>...</th>\n",
       "      <th>TEMBAGA(mg)</th>\n",
       "      <th>SENG (mg)</th>\n",
       "      <th>RETINOL (mcg)</th>\n",
       "      <th>B-KAR (mcg)</th>\n",
       "      <th>KAR -TOTAL (mcg)</th>\n",
       "      <th>THIAMIN (mg)</th>\n",
       "      <th>RIBOFLAVIN (mg)</th>\n",
       "      <th>NIASIN (mg)</th>\n",
       "      <th>VIT_C (mg)</th>\n",
       "      <th>Unnamed: 24</th>\n",
       "    </tr>\n",
       "  </thead>\n",
       "  <tbody>\n",
       "    <tr>\n",
       "      <th>0</th>\n",
       "      <td>0</td>\n",
       "      <td>TUNGGAL/SINGLE</td>\n",
       "      <td>NaN</td>\n",
       "      <td>NaN</td>\n",
       "      <td>biji bijian</td>\n",
       "      <td>single</td>\n",
       "      <td>NaN</td>\n",
       "      <td>NaN</td>\n",
       "      <td>NaN</td>\n",
       "      <td>NaN</td>\n",
       "      <td>...</td>\n",
       "      <td>NaN</td>\n",
       "      <td>NaN</td>\n",
       "      <td>NaN</td>\n",
       "      <td>NaN</td>\n",
       "      <td>NaN</td>\n",
       "      <td>NaN</td>\n",
       "      <td>NaN</td>\n",
       "      <td>NaN</td>\n",
       "      <td>NaN</td>\n",
       "      <td>NaN</td>\n",
       "    </tr>\n",
       "    <tr>\n",
       "      <th>1</th>\n",
       "      <td>1</td>\n",
       "      <td>CR001</td>\n",
       "      <td>Kacang arab, kering</td>\n",
       "      <td>DABM-1964</td>\n",
       "      <td>biji bijian</td>\n",
       "      <td>single</td>\n",
       "      <td>11.6</td>\n",
       "      <td>330.0</td>\n",
       "      <td>23.8</td>\n",
       "      <td>1.4</td>\n",
       "      <td>...</td>\n",
       "      <td>0.85</td>\n",
       "      <td>3.4</td>\n",
       "      <td>NaN</td>\n",
       "      <td>40</td>\n",
       "      <td>140.0</td>\n",
       "      <td>0.77</td>\n",
       "      <td>0.21</td>\n",
       "      <td>1.5</td>\n",
       "      <td>2.0</td>\n",
       "      <td>100.0</td>\n",
       "    </tr>\n",
       "    <tr>\n",
       "      <th>2</th>\n",
       "      <td>2</td>\n",
       "      <td>CR002</td>\n",
       "      <td>Kacang babi, kering</td>\n",
       "      <td>KZGPI-1990</td>\n",
       "      <td>biji bijian</td>\n",
       "      <td>single</td>\n",
       "      <td>11.6</td>\n",
       "      <td>341.0</td>\n",
       "      <td>30.4</td>\n",
       "      <td>3.2</td>\n",
       "      <td>...</td>\n",
       "      <td>0.82</td>\n",
       "      <td>3.1</td>\n",
       "      <td>NaN</td>\n",
       "      <td>NaN</td>\n",
       "      <td>87.0</td>\n",
       "      <td>0.23</td>\n",
       "      <td>0.33</td>\n",
       "      <td>2.8</td>\n",
       "      <td>NaN</td>\n",
       "      <td>80.0</td>\n",
       "    </tr>\n",
       "    <tr>\n",
       "      <th>3</th>\n",
       "      <td>3</td>\n",
       "      <td>CR003</td>\n",
       "      <td>Kacang belimbing\\n(kecipir), kering</td>\n",
       "      <td>KZGPI-1990</td>\n",
       "      <td>biji bijian</td>\n",
       "      <td>single</td>\n",
       "      <td>10.4</td>\n",
       "      <td>400.0</td>\n",
       "      <td>34.4</td>\n",
       "      <td>16.9</td>\n",
       "      <td>...</td>\n",
       "      <td>2.82</td>\n",
       "      <td>2.0</td>\n",
       "      <td>NaN</td>\n",
       "      <td>NaN</td>\n",
       "      <td>NaN</td>\n",
       "      <td>0.3</td>\n",
       "      <td>0.44</td>\n",
       "      <td>3.0</td>\n",
       "      <td>NaN</td>\n",
       "      <td>100.0</td>\n",
       "    </tr>\n",
       "  </tbody>\n",
       "</table>\n",
       "<p>4 rows × 28 columns</p>\n",
       "</div>"
      ],
      "text/plain": [
       "   Unnamed: 0            KODE                           NAMA BAHAN   \n",
       "0           0  TUNGGAL/SINGLE                                  NaN  \\\n",
       "1           1           CR001                  Kacang arab, kering   \n",
       "2           2           CR002                  Kacang babi, kering   \n",
       "3           3           CR003  Kacang belimbing\\n(kecipir), kering   \n",
       "\n",
       "       SUMBER   Food Group    Type  AIR (g)  ENERGI (Kal)  PROTEIN (g)   \n",
       "0         NaN  biji bijian  single      NaN           NaN          NaN  \\\n",
       "1   DABM-1964  biji bijian  single     11.6         330.0         23.8   \n",
       "2  KZGPI-1990  biji bijian  single     11.6         341.0         30.4   \n",
       "3  KZGPI-1990  biji bijian  single     10.4         400.0         34.4   \n",
       "\n",
       "  LEMAK (g)  ...  TEMBAGA(mg) SENG (mg) RETINOL (mcg) B-KAR (mcg)   \n",
       "0       NaN  ...          NaN       NaN           NaN         NaN  \\\n",
       "1       1.4  ...         0.85       3.4           NaN          40   \n",
       "2       3.2  ...         0.82       3.1           NaN         NaN   \n",
       "3      16.9  ...         2.82       2.0           NaN         NaN   \n",
       "\n",
       "  KAR -TOTAL (mcg) THIAMIN (mg) RIBOFLAVIN (mg) NIASIN (mg) VIT_C (mg)   \n",
       "0              NaN          NaN             NaN         NaN        NaN  \\\n",
       "1            140.0         0.77            0.21         1.5        2.0   \n",
       "2             87.0         0.23            0.33         2.8        NaN   \n",
       "3              NaN          0.3            0.44         3.0        NaN   \n",
       "\n",
       "  Unnamed: 24  \n",
       "0         NaN  \n",
       "1       100.0  \n",
       "2        80.0  \n",
       "3       100.0  \n",
       "\n",
       "[4 rows x 28 columns]"
      ]
     },
     "execution_count": 8,
     "metadata": {},
     "output_type": "execute_result"
    }
   ],
   "source": [
    "newDatframe = finalData.head(4)\n",
    "newDatframe"
   ]
  },
  {
   "cell_type": "code",
   "execution_count": 197,
   "metadata": {},
   "outputs": [
    {
     "ename": "PermissionError",
     "evalue": "[Errno 13] Permission denied: 'finalData_eliminated.csv'",
     "output_type": "error",
     "traceback": [
      "\u001b[1;31m---------------------------------------------------------------------------\u001b[0m",
      "\u001b[1;31mPermissionError\u001b[0m                           Traceback (most recent call last)",
      "\u001b[1;32md:\\school-college\\skripsi\\proposal\\sistem\\ipynb\\data 2017 bahan pangan\\data2017.ipynb Cell 4\u001b[0m in \u001b[0;36m<cell line: 16>\u001b[1;34m()\u001b[0m\n\u001b[0;32m     <a href='vscode-notebook-cell:/d%3A/school-college/skripsi/proposal/sistem/ipynb/data%202017%20bahan%20pangan/data2017.ipynb#W3sZmlsZQ%3D%3D?line=13'>14</a>\u001b[0m column_name \u001b[39m=\u001b[39m \u001b[39m'\u001b[39m\u001b[39mNAMA BAHAN\u001b[39m\u001b[39m'\u001b[39m\n\u001b[0;32m     <a href='vscode-notebook-cell:/d%3A/school-college/skripsi/proposal/sistem/ipynb/data%202017%20bahan%20pangan/data2017.ipynb#W3sZmlsZQ%3D%3D?line=14'>15</a>\u001b[0m target_words \u001b[39m=\u001b[39m [\u001b[39m'\u001b[39m\u001b[39mtepung\u001b[39m\u001b[39m'\u001b[39m,\u001b[39m'\u001b[39m\u001b[39mmentah\u001b[39m\u001b[39m'\u001b[39m,\u001b[39m'\u001b[39m\u001b[39mdarah\u001b[39m\u001b[39m'\u001b[39m,\u001b[39m'\u001b[39m\u001b[39mberas\u001b[39m\u001b[39m'\u001b[39m,\u001b[39m'\u001b[39m\u001b[39mtikus\u001b[39m\u001b[39m'\u001b[39m, \u001b[39m'\u001b[39m\u001b[39mberacun\u001b[39m\u001b[39m'\u001b[39m]\n\u001b[1;32m---> <a href='vscode-notebook-cell:/d%3A/school-college/skripsi/proposal/sistem/ipynb/data%202017%20bahan%20pangan/data2017.ipynb#W3sZmlsZQ%3D%3D?line=15'>16</a>\u001b[0m eliminate_data(input_file, output_file, column_name, target_words)\n",
      "\u001b[1;32md:\\school-college\\skripsi\\proposal\\sistem\\ipynb\\data 2017 bahan pangan\\data2017.ipynb Cell 4\u001b[0m in \u001b[0;36meliminate_data\u001b[1;34m(input_file, output_file, column_name, target_words)\u001b[0m\n\u001b[0;32m      <a href='vscode-notebook-cell:/d%3A/school-college/skripsi/proposal/sistem/ipynb/data%202017%20bahan%20pangan/data2017.ipynb#W3sZmlsZQ%3D%3D?line=0'>1</a>\u001b[0m \u001b[39mdef\u001b[39;00m \u001b[39meliminate_data\u001b[39m(input_file, output_file, column_name, target_words):\n\u001b[1;32m----> <a href='vscode-notebook-cell:/d%3A/school-college/skripsi/proposal/sistem/ipynb/data%202017%20bahan%20pangan/data2017.ipynb#W3sZmlsZQ%3D%3D?line=1'>2</a>\u001b[0m     \u001b[39mwith\u001b[39;00m \u001b[39mopen\u001b[39m(input_file, \u001b[39m'\u001b[39m\u001b[39mr\u001b[39m\u001b[39m'\u001b[39m) \u001b[39mas\u001b[39;00m file_in, \u001b[39mopen\u001b[39;49m(output_file, \u001b[39m'\u001b[39;49m\u001b[39mw\u001b[39;49m\u001b[39m'\u001b[39;49m, newline\u001b[39m=\u001b[39;49m\u001b[39m'\u001b[39;49m\u001b[39m'\u001b[39;49m) \u001b[39mas\u001b[39;00m file_out:\n\u001b[0;32m      <a href='vscode-notebook-cell:/d%3A/school-college/skripsi/proposal/sistem/ipynb/data%202017%20bahan%20pangan/data2017.ipynb#W3sZmlsZQ%3D%3D?line=2'>3</a>\u001b[0m         reader \u001b[39m=\u001b[39m csv\u001b[39m.\u001b[39mDictReader(file_in)\n\u001b[0;32m      <a href='vscode-notebook-cell:/d%3A/school-college/skripsi/proposal/sistem/ipynb/data%202017%20bahan%20pangan/data2017.ipynb#W3sZmlsZQ%3D%3D?line=3'>4</a>\u001b[0m         writer \u001b[39m=\u001b[39m csv\u001b[39m.\u001b[39mDictWriter(file_out, fieldnames\u001b[39m=\u001b[39mreader\u001b[39m.\u001b[39mfieldnames)\n",
      "\u001b[1;31mPermissionError\u001b[0m: [Errno 13] Permission denied: 'finalData_eliminated.csv'"
     ]
    }
   ],
   "source": [
    "\n",
    "def eliminate_data(input_file, output_file, column_name, target_words):\n",
    "    with open(input_file, 'r') as file_in, open(output_file, 'w', newline='') as file_out:\n",
    "        reader = csv.DictReader(file_in)\n",
    "        writer = csv.DictWriter(file_out, fieldnames=reader.fieldnames)\n",
    "        writer.writeheader()\n",
    "\n",
    "        for row in reader:\n",
    "            if not any(word in row[column_name].lower() for word in list(map(str.lower,target_words))):\n",
    "                writer.writerow(row)\n",
    "\n",
    "input_file = 'finalData.csv'\n",
    "output_file = 'finalData_eliminated.csv'\n",
    "column_name = 'NAMA BAHAN'\n",
    "target_words = ['tepung','mentah','darah','beras','tikus', 'beracun']\n",
    "eliminate_data(input_file, output_file, column_name, target_words)\n"
   ]
  },
  {
   "cell_type": "code",
   "execution_count": 4,
   "metadata": {},
   "outputs": [
    {
     "data": {
      "text/plain": [
       "(933, 28)"
      ]
     },
     "execution_count": 4,
     "metadata": {},
     "output_type": "execute_result"
    }
   ],
   "source": [
    "dfFinalEliminated = pd.read_csv(\"final_data_done.csv\")\n",
    "dfFinalEliminated.shape\n",
    "# dfFinalEliminated.iloc[[732]]"
   ]
  },
  {
   "cell_type": "code",
   "execution_count": 5,
   "metadata": {},
   "outputs": [
    {
     "data": {
      "text/plain": [
       "(910, 28)"
      ]
     },
     "execution_count": 5,
     "metadata": {},
     "output_type": "execute_result"
    }
   ],
   "source": [
    "dfFinalEliminated = dfFinalEliminated.dropna(subset=['NAMA BAHAN', 'SUMBER', 'ENERGI (Kal)', 'PROTEIN (g)', 'LEMAK (g)', 'KH (g)'])\n",
    "dfFinalEliminated = dfFinalEliminated.reset_index(drop=True)\n",
    "dfFinalEliminated.shape"
   ]
  },
  {
   "cell_type": "code",
   "execution_count": 6,
   "metadata": {},
   "outputs": [
    {
     "name": "stdout",
     "output_type": "stream",
     "text": [
      "Index([461, 520, 332], dtype='int64')\n",
      "Index([536, 385, 489], dtype='int64')\n",
      "Index([501, 459, 348], dtype='int64')\n",
      "Index([337, 539, 342], dtype='int64')\n",
      "Index([444, 525, 498], dtype='int64')\n"
     ]
    }
   ],
   "source": [
    "# createPopulation\n",
    "# represented two meals\n",
    "\n",
    "def createPopulation(dfFinalEliminated, n_population):\n",
    "    # pop = np.random.randint(n_meal, size=(n_genes,n_population))\n",
    "    pop=[]\n",
    "    for i in range(n_population) :\n",
    "        sourceCarbs = dfFinalEliminated[dfFinalEliminated['Food Group']=='serealia'].sample(n=3).index\n",
    "        \n",
    "        proteinDaging =  dfFinalEliminated[dfFinalEliminated['Food Group']=='daging dan unggas']\n",
    "        proteinSeafood = dfFinalEliminated[dfFinalEliminated['Food Group']=='prooduk laut']\n",
    "        proteinDataframe = pd.concat([proteinDaging,proteinSeafood])\n",
    "        sourceProtAnim = proteinDataframe.sample(n=3).index\n",
    "        print (sourceProtAnim)\n",
    "        \n",
    "        sourceVeggies = dfFinalEliminated[dfFinalEliminated['Food Group']=='sayuran'].sample(n=3).index\n",
    "        sourceSnacks = dfFinalEliminated[dfFinalEliminated['Food Group']=='camilan'].sample(n=1).index\n",
    "        FruitData = (dfFinalEliminated.loc[(dfFinalEliminated['Food Group']=='buah') & (dfFinalEliminated['Type']=='single')])\n",
    "        sourceFruit = FruitData.sample(n=1).index\n",
    "        # pembentukan kromosom\n",
    "        pop.append([sourceCarbs[0],sourceProtAnim[0],sourceVeggies[0],sourceCarbs[1],sourceProtAnim[1],sourceVeggies[1],sourceCarbs[2],sourceProtAnim[2],sourceVeggies[2],sourceSnacks[0],sourceFruit[0]])\n",
    "    pop = pd.DataFrame(pop)\n",
    "    pop.columns = ['breakfast_carbSource','breakfast_protAnimSource','breakfast_veggSource','lunch_carbSource','lunch_protAnimSource','lunch_veggSource','dinner_carbSource','dinner_protAnimSource','dinner_veggSource','snack','fruit']\n",
    "    return pop\n",
    "    # return sourceProtAnim\n",
    "\n",
    "pop=createPopulation(dfFinalEliminated, 5)"
   ]
  },
  {
   "cell_type": "code",
   "execution_count": 7,
   "metadata": {},
   "outputs": [],
   "source": [
    "def viewResult(df,dfFinalEliminated):\n",
    "    column_name= df.columns\n",
    "    for i in column_name:\n",
    "        indexOfSource = df._get_value(0,i)\n",
    "        print (i , \" : \",dfFinalEliminated._get_value(indexOfSource, 'NAMA BAHAN') )\n",
    "    # return dfFinalEliminated.iloc[[0]]['NAMA BAHAN'].Name\n",
    "    \n",
    "# viewResult(dfPop.iloc[[0]],dfFinalEliminated)"
   ]
  },
  {
   "cell_type": "code",
   "execution_count": 8,
   "metadata": {},
   "outputs": [
    {
     "data": {
      "text/plain": [
       "(2, 1)"
      ]
     },
     "execution_count": 8,
     "metadata": {},
     "output_type": "execute_result"
    }
   ],
   "source": [
    "def randomSelectionParent(n_population):\n",
    "    position = np.random.permutation(n_population)\n",
    "    # print(position)\n",
    "    \n",
    "    return position[0], position[1]\n",
    "\n",
    "randomSelectionParent(5)"
   ]
  },
  {
   "cell_type": "code",
   "execution_count": 9,
   "metadata": {},
   "outputs": [],
   "source": [
    "def rouletteWheelSelectionParent(pop):\n",
    "    sizeOfPopulation=pop.shape[0]\n",
    "    sumOfFitnessPop = sum([chromosome['fitness BaseOn Menu'] for i,chromosome in pop.iterrows()])\n",
    "    chromosomeProbabilities = [chromosome['fitness BaseOn Menu']/sumOfFitnessPop for i,chromosome in pop.iterrows()]\n",
    "    arrayIndexPop = [i for i,chromosome in pop.iterrows()]\n",
    "    choiceParent = np.random.choice(arrayIndexPop,2, p=chromosomeProbabilities)\n",
    "    return choiceParent[0], choiceParent[1]\n"
   ]
  },
  {
   "cell_type": "code",
   "execution_count": 10,
   "metadata": {},
   "outputs": [
    {
     "data": {
      "text/plain": [
       "array(['dinner_protAnimSource', 'fruit'], dtype='<U24')"
      ]
     },
     "execution_count": 10,
     "metadata": {},
     "output_type": "execute_result"
    }
   ],
   "source": [
    "def randomSelectionPosition():\n",
    "  columns= ['breakfast_carbSource','breakfast_protAnimSource','breakfast_veggSource','lunch_carbSource','lunch_protAnimSource','lunch_veggSource','dinner_carbSource','dinner_protAnimSource','dinner_veggSource','snack','fruit']\n",
    "  n_pointSize = random.randint(1,3)\n",
    "  return np.random.choice(columns, size=n_pointSize, replace=False)\n",
    "randomSelectionPosition()"
   ]
  },
  {
   "cell_type": "code",
   "execution_count": 11,
   "metadata": {},
   "outputs": [],
   "source": [
    "def twopointSelectionPosition():\n",
    "    n_pointSize = random.randint(1,3)\n",
    "    position = np.random.choice(range(0,11),2,replace=False)\n",
    "    position = np.sort(position)\n",
    "    \n",
    "    return position[0], position[1]\n",
    "\n",
    "# twopointSelectionPosition()"
   ]
  },
  {
   "cell_type": "code",
   "execution_count": 12,
   "metadata": {},
   "outputs": [],
   "source": [
    "def crossover(pop,n_population):\n",
    "    # multipoint crossover\n",
    "    popc = pop.copy()\n",
    "    for i in range(n_population):\n",
    "        # inisiasi parent a dan b\n",
    "        a,b = rouletteWheelSelectionParent(pop)\n",
    "        c1,c2 = twopointSelectionPosition()\n",
    "        for i in range(c1,c2) :\n",
    "             popc.iloc[a][pop.columns[i]], popc.iloc[b][pop.columns[i]] = pop.iloc[b][pop.columns[i]], pop.iloc[a][pop.columns[i]]\n",
    "    return popc\n"
   ]
  },
  {
   "cell_type": "code",
   "execution_count": 13,
   "metadata": {},
   "outputs": [],
   "source": [
    "def mutation(popc,n_population):\n",
    "    popm = popc.copy()\n",
    "    mutationIn = ['breakfast_carbSource','breakfast_protAnimSource','breakfast_veggSource','lunch_carbSource','lunch_protAnimSource','lunch_veggSource','dinner_carbSource','dinner_protAnimSource','dinner_veggSource','snack','fruit']\n",
    "    source=0\n",
    "    for i in range(n_population):\n",
    "        mutation = np.random.choice(mutationIn)\n",
    "        mutation = str(mutation)\n",
    "        if (mutation == 'breakfast_carbSource' or mutation == 'lunch_carbSource' or mutation == 'dinner_carbSource'):\n",
    "            source = dfFinalEliminated[dfFinalEliminated['Food Group']=='serealia'].sample(n=1).index\n",
    "        elif(mutation == 'breakfast_protAnimSource' or mutation == 'lunch_protAnimSource' or mutation == 'dinner_protAnimSource') :\n",
    "            source = dfFinalEliminated[dfFinalEliminated['Food Group']=='daging dan unggas'].sample(n=1).index\n",
    "        elif(mutation == 'breakfast_veggSource' or mutation == 'lunch_veggSource' or mutation == 'dinner_veggSource') :\n",
    "            source = dfFinalEliminated[dfFinalEliminated['Food Group']=='sayuran'].sample(n=1).index\n",
    "        elif(mutation=='snack'):\n",
    "            source = dfFinalEliminated[dfFinalEliminated['Food Group']=='camilan'].sample(n=1).index\n",
    "        else:\n",
    "            FruitData = (dfFinalEliminated.loc[(dfFinalEliminated['Food Group']=='buah') & (dfFinalEliminated['Type']=='single')])\n",
    "            source = FruitData.sample(n=1).index\n",
    "        popm.iloc[i][mutation]=source[0]\n",
    "    return popm"
   ]
  },
  {
   "cell_type": "code",
   "execution_count": 14,
   "metadata": {},
   "outputs": [],
   "source": [
    "\n",
    "def countFitnessMenu(pop,calNeeds):\n",
    "    arrayOfPop = pop.to_numpy()\n",
    "    carboNeeds = 0.6*calNeeds/4\n",
    "    protNeeds = 0.15*calNeeds/4\n",
    "    fatNeeds = 0.15*calNeeds/9\n",
    "    fitnessArray=[]\n",
    "    caloriesTotalArray=[]\n",
    "    for chromosome in arrayOfPop:\n",
    "        index=0\n",
    "        carboTotal = 0\n",
    "        protTotal = 0\n",
    "        fatTotal = 0\n",
    "        calTotal =0\n",
    "        for i in (chromosome):\n",
    "            carbs = dfFinalEliminated.iloc[i]['KH (g)']\n",
    "            prot = dfFinalEliminated.iloc[i]['PROTEIN (g)']\n",
    "            fat = dfFinalEliminated.iloc[i]['LEMAK (g)']\n",
    "            cal = dfFinalEliminated.iloc[i]['ENERGI (Kal)']\n",
    "            carboTotal+=float(carbs)\n",
    "            protTotal+=float(prot)\n",
    "            calTotal+=float(cal)\n",
    "            fatTotal+=float(fat)\n",
    "            index+=1\n",
    "    \n",
    "        fitness = 1/(abs(carboTotal-carboNeeds)+abs(calTotal-calNeeds)+abs(protNeeds-protTotal)+abs(fatNeeds-fatTotal))\n",
    "        fitnessArray.append(fitness)\n",
    "        caloriesTotalArray.append(calTotal)\n",
    "    \n",
    "    pop['fitness BaseOn Menu'] = fitnessArray\n",
    "    pop['calories total Based on Menu'] = caloriesTotalArray\n",
    "    return pop\n",
    "    \n",
    "\n",
    "    "
   ]
  },
  {
   "cell_type": "code",
   "execution_count": 15,
   "metadata": {},
   "outputs": [],
   "source": [
    "def createPopulationAmount(sizeOfPopulation):\n",
    "    # sizeOfPopulation = 5\n",
    "    sizeOfChromosomes = 11\n",
    "    pop = np.random.uniform(low = 0.5, high=1.5, size=(sizeOfPopulation,sizeOfChromosomes))\n",
    "    pop = np.round_(pop, decimals=1)\n",
    "    pop = pd.DataFrame(pop)\n",
    "    pop.columns = ['nCarbs_br','nProt_br','nVeggies_br','nCarbs_lunch','nProt_lunch','nVeggies_lunch','nCarbs_dinner','nProt_dinner','nVeggies_dinner','n_snack','n_fruit']\n",
    "    return pop\n",
    "# p =createPopulationAmount()"
   ]
  },
  {
   "cell_type": "code",
   "execution_count": 16,
   "metadata": {},
   "outputs": [],
   "source": [
    "def randomSelectionParentAmount(sizeOfPopulation):\n",
    "    position = np.random.permutation(sizeOfPopulation)\n",
    "    return position[0], position[1]\n",
    "\n",
    "\n",
    "\n",
    "# randomSelectionParentAmount()\n",
    "# print(a)"
   ]
  },
  {
   "cell_type": "code",
   "execution_count": null,
   "metadata": {},
   "outputs": [],
   "source": [
    "# def rouletteWheelSelectionParent(pop):\n",
    "    #     sizeOfPopulation=pop.shape[0]\n",
    "#     position = np.random.permutation(sizeOfPopulation)\n",
    "#     # print(position)\n",
    "    \n",
    "#     return position[0], position[1]\n",
    "\n",
    "# pop = createPopulation(dfFinalEliminated, 5)\n",
    "# pop\n",
    "# # dfFinalEliminated.shape"
   ]
  },
  {
   "cell_type": "code",
   "execution_count": 17,
   "metadata": {},
   "outputs": [],
   "source": [
    "import random\n",
    "def randomSelectionPositionAmount():\n",
    "  a=['nCarbs_br','nProt_br','nVeggies_br','nCarbs_lunch','nProt_lunch','nVeggies_lunch','nCarbs_dinner','nProt_dinner','nVeggies_dinner','n_snack','n_fruit']\n",
    "  return np.random.choice(a, size=1, replace=False)[0]\n",
    "# randomSelectionPosition()"
   ]
  },
  {
   "cell_type": "code",
   "execution_count": 18,
   "metadata": {},
   "outputs": [],
   "source": [
    "def crossoverAmount(pop,sizeOfPopulation):\n",
    "    popc = pop.copy()\n",
    "    for i in range(sizeOfPopulation):\n",
    "      # inisiasi parent a dan b\n",
    "        a,b = randomSelectionParentAmount(sizeOfPopulation)\n",
    "        swap = randomSelectionPositionAmount()\n",
    "        # crossover\n",
    "        popc.iloc[a][swap], popc.iloc[b][swap] = pop.iloc[b][swap], pop.iloc[a][swap]\n",
    "    return popc\n",
    "\n"
   ]
  },
  {
   "cell_type": "code",
   "execution_count": 19,
   "metadata": {},
   "outputs": [],
   "source": [
    "def arithmeticCrossoverAmount(pop,sizeOfPopulation):\n",
    "    alpha=random.uniform(0.1,0.9)\n",
    "    alpha=round(alpha, 1)\n",
    "    betha=1-alpha\n",
    "    betha=round(betha, 1)\n",
    "    \n",
    "    popc = pop.copy()\n",
    "    for i in range (sizeOfPopulation):\n",
    "        a,b = randomSelectionParentAmount(sizeOfPopulation)\n",
    "        crossoverResult = []\n",
    "        for j in range (11):\n",
    "            value = round(alpha * pop.iloc[a][pop.columns[j]] + betha * pop.iloc[b][pop.columns[j]],1)\n",
    "            crossoverResult.append(value)\n",
    "            popc.loc[i , pop.columns[j]]=value\n",
    "    return popc\n",
    "\n",
    "# arithmeticCrossoverAmount(p,5)"
   ]
  },
  {
   "cell_type": "code",
   "execution_count": 20,
   "metadata": {},
   "outputs": [],
   "source": [
    "def mutationAmount(pop, sizeOfPopulation):\n",
    "    for i in range(sizeOfPopulation):\n",
    "        a,b = twopointSelectionPosition()\n",
    "        for j in range(a,b) :\n",
    "            alpha=random.uniform(-0.5,0.4)\n",
    "            alpha=round(alpha, 1)\n",
    "            pop.iloc[i][pop.columns[j]]=abs(round(pop.iloc[i][pop.columns[j]] + alpha ,1))\n",
    "    return pop\n",
    "\n",
    "# pop=createPopulationAmount()\n",
    "# mutationAmount(pop, 5)"
   ]
  },
  {
   "cell_type": "code",
   "execution_count": 21,
   "metadata": {},
   "outputs": [],
   "source": [
    "def fitnessAmount(popAmount,chromosomesMenu,calNeeds):\n",
    "    arrayOfAmount = popAmount.to_numpy()\n",
    "    carboNeeds = 0.6*calNeeds/4\n",
    "    protNeeds = 0.15*calNeeds/4\n",
    "    fatNeeds = 0.15*calNeeds/9\n",
    "    fitnessArray=[]\n",
    "    caloriesTotalArray=[]\n",
    "    for amount in arrayOfAmount:\n",
    "        index=0\n",
    "        carboTotal = 0\n",
    "        protTotal = 0\n",
    "        fatTotal = 0\n",
    "        calTotal =0\n",
    "        for i in range(11):\n",
    "            carbs = float(dfFinalEliminated.iloc[int(chromosomesMenu[i])]['KH (g)'])*amount[index]\n",
    "            prot = float(dfFinalEliminated.iloc[int(chromosomesMenu[i])]['PROTEIN (g)'])*amount[index]\n",
    "            fat = float(dfFinalEliminated.iloc[int(chromosomesMenu[i])]['LEMAK (g)'])*amount[index]\n",
    "            cal = float(dfFinalEliminated.iloc[int(chromosomesMenu[i])]['ENERGI (Kal)'])*amount[index]\n",
    "            carboTotal+=carbs\n",
    "            protTotal+=prot\n",
    "            calTotal+=cal\n",
    "            fatTotal+=float(fat)\n",
    "            index+=1\n",
    "        fitness = 1/(abs(carboTotal-carboNeeds)+abs(calTotal-calNeeds)+abs(protNeeds-protTotal)+abs(fatNeeds-fatTotal))\n",
    "        fitnessArray.append(fitness)\n",
    "        caloriesTotalArray.append(calTotal)\n",
    "        \n",
    "    popAmount['fitness'] = fitnessArray\n",
    "    popAmount['calories total'] = caloriesTotalArray\n",
    "    return popAmount\n",
    "        \n",
    "# pop=createPopulationAmount() \n",
    "# chromosomesMenu = popm.iloc[[0]]\n",
    "# fitnessAmount(pop,chromosomes)"
   ]
  },
  {
   "cell_type": "code",
   "execution_count": 22,
   "metadata": {},
   "outputs": [],
   "source": [
    "\n",
    "def decideAmountThroughGeneticAlgorithm(chromosomes,calNeeds,n_iteration_inner,popSize_inner):\n",
    "    # Carbohydrates provide 4 calories per gram, protein provides 4 calories per gram, and fat provides 9 calories per gram.\n",
    "    carboNeeds = 0.6*calNeeds/4\n",
    "    protNeeds = 0.15*calNeeds/4\n",
    "    fatNeeds = 0.15*calNeeds/9\n",
    "    goal_amount={\n",
    "      'nCarbs_br': [-1], 'nProt_br': [-1],'nVeggies_br': [-1],\n",
    "      'nCarbs_lunch':[-1],'nProt_lunch':[-1],'nVeggies_lunch':[-1],\n",
    "      'nCarbs_dinner':[-1],'nProt_dinner':[-1],'nVeggies_dinner':[-1],'nSnack':[-1],'nFruit':[-1],\n",
    "      'fitness': [-1000000], 'caloriesTot':[0]}\n",
    "    goal_amount=pd.DataFrame(goal_amount)\n",
    "    current_amount=pd.DataFrame()\n",
    "    chromosomes = chromosomes.to_numpy(dtype = int)[0]\n",
    "    chromosomes = chromosomes[0:11]\n",
    "    # iteration=50\n",
    "    # for i in range(iteration):\n",
    "    # isGlobalOptimum=falses\n",
    "    n=0\n",
    "    for i in range(n_iteration_inner):\n",
    "        pop=createPopulationAmount(popSize_inner)\n",
    "        pop=fitnessAmount(pop,chromosomes,calNeeds)\n",
    "        # popc=crossoverAmount(pop,5)\n",
    "        popc=arithmeticCrossoverAmount(pop,5)\n",
    "        popc=fitnessAmount(popc,chromosomes,calNeeds)\n",
    "        # popm=mutationAmount(popc,5)\n",
    "        current_amount = popc.sort_values(by = 'fitness',ascending = True).iloc[[0]]\n",
    "        if goal_amount.iloc[0][\"fitness\"]<current_amount.iloc[0][\"fitness\"]:\n",
    "            goal_amount.iloc[[0]]=current_amount.iloc[[0]]\n",
    "        # if (n==10):\n",
    "        #       isGlobalOptimum=True\n",
    "        # if ():\n",
    "        #       n+=1\n",
    "        # print(current_amount.iloc[0][\"fitness\"], \" ==== \", i_chromosomes)\n",
    "    return goal_amount\n",
    "\n",
    "# decideAmountThroughGeneticAlgorithm(pop.iloc[[0]],1900)"
   ]
  },
  {
   "cell_type": "code",
   "execution_count": 23,
   "metadata": {},
   "outputs": [],
   "source": [
    "def viewResultByOptimalAmount(popFinalAmount,chromosomes,calNeeds):\n",
    "    carboNeeds = 0.6*calNeeds/4\n",
    "    protNeeds = 0.15*calNeeds/4\n",
    "    fatNeeds = 0.15*calNeeds/9\n",
    "    # chromosomes = chromosomes.pop[\"fitness\"]\n",
    "    amountArray=popFinalAmount.to_numpy()[0]\n",
    "    chromosomes = chromosomes.to_numpy()[0]\n",
    "    chromosomes = chromosomes[0:11]\n",
    "    index=0\n",
    "    finalCarbs = 0\n",
    "    finalProt = 0\n",
    "    finalFat = 0\n",
    "    finalCal = 0\n",
    "    for i in (chromosomes):\n",
    "        carbs = float(dfFinalEliminated.iloc[int(i)]['KH (g)'])*amountArray[index]\n",
    "        prot = float(dfFinalEliminated.iloc[int(i)]['PROTEIN (g)'])*amountArray[index]\n",
    "        fat = float(dfFinalEliminated.iloc[int(i)]['LEMAK (g)'])*amountArray[index]\n",
    "        cal = float(dfFinalEliminated.iloc[int(i)]['ENERGI (Kal)'])*amountArray[index]\n",
    "        finalCarbs += carbs\n",
    "        finalProt += prot\n",
    "        finalFat += fat\n",
    "        finalCal += cal\n",
    "        index+=1\n",
    "    print (\"kebutuhan kalori - real kalori : \" ,calNeeds , \" - \", finalCal)\n",
    "    print (\"kebutuhan karbo - real karbo : \" ,carboNeeds , \" - \", finalCarbs)\n",
    "    print (\"kebutuhan prot - real prot : \" ,protNeeds , \" - \", finalProt)\n",
    "    print (\"kebutuhan lemak - real lemak : \" ,fatNeeds , \" - \", finalFat)\n",
    "    print(\"\\n\")\n",
    "    print (\"===BREAKFAST===\")\n",
    "    print(\"sumber karbohidrat : \" ,dfFinalEliminated.iloc[int(chromosomes[0])]['NAMA BAHAN'], \" \",100*amountArray[0], \"gr\")\n",
    "    print(\"sumber protein : \" , dfFinalEliminated.iloc[int(chromosomes[1])]['NAMA BAHAN'], \" \",100*amountArray[1], \"gr\")\n",
    "    print(\"sumber sayuran/protein nabati : \" , dfFinalEliminated.iloc[int(chromosomes[2])]['NAMA BAHAN'], \" \",100*amountArray[2], \"gr\")\n",
    "    print (\"===LUNCH===\")\n",
    "    print(\"sumber karbohidrat : \" ,dfFinalEliminated.iloc[int(chromosomes[3])]['NAMA BAHAN'], \" \",100*amountArray[3], \"gr\")\n",
    "    print(\"sumber protein : \" , dfFinalEliminated.iloc[int(chromosomes[4])]['NAMA BAHAN'], \" \",100*amountArray[4], \"gr\")\n",
    "    print(\"sumber sayuran/protein nabati : \" , dfFinalEliminated.iloc[int(chromosomes[5])]['NAMA BAHAN'], \" \",100*amountArray[5], \"gr\")\n",
    "    print (\"===DINNER===\")\n",
    "    print(\"sumber karbohidrat : \" ,dfFinalEliminated.iloc[int(chromosomes[6])]['NAMA BAHAN'], \" \",100*amountArray[6], \"gr\")\n",
    "    print(\"sumber protein : \" , dfFinalEliminated.iloc[int(chromosomes[7])]['NAMA BAHAN'], \" \",100*amountArray[7], \"gr\")\n",
    "    print(\"sumber sayuran/protein nabati : \" , dfFinalEliminated.iloc[int(chromosomes[8])]['NAMA BAHAN'], \" \",100*amountArray[8], \"gr\")\n",
    "    print(\"===CAMILAN===\")\n",
    "    print(\"camilan pagi (buah) : \" , dfFinalEliminated.iloc[int(chromosomes[9])]['NAMA BAHAN'], \" \",100*amountArray[9], \"gr\")\n",
    "    print(\"camilan sore : \" , dfFinalEliminated.iloc[int(chromosomes[10])]['NAMA BAHAN'], \" \",100*amountArray[10], \"gr\")\n",
    "\n",
    "# viewResultByOptimalAmount(amountFinal,popm.iloc[[0]])"
   ]
  },
  {
   "cell_type": "code",
   "execution_count": 24,
   "metadata": {},
   "outputs": [
    {
     "ename": "TypeError",
     "evalue": "main() missing 1 required positional argument: 'calNeeds'",
     "output_type": "error",
     "traceback": [
      "\u001b[1;31m---------------------------------------------------------------------------\u001b[0m",
      "\u001b[1;31mTypeError\u001b[0m                                 Traceback (most recent call last)",
      "\u001b[1;32md:\\school-college\\skripsi\\proposal\\sistem\\diet-meal-plan\\static\\data\\data2017.ipynb Cell 27\u001b[0m in \u001b[0;36m<cell line: 74>\u001b[1;34m()\u001b[0m\n\u001b[0;32m     <a href='vscode-notebook-cell:/d%3A/school-college/skripsi/proposal/sistem/diet-meal-plan/static/data/data2017.ipynb#X36sZmlsZQ%3D%3D?line=64'>65</a>\u001b[0m               \u001b[39m# print(goal_menu.iloc[[0]])\u001b[39;00m\n\u001b[0;32m     <a href='vscode-notebook-cell:/d%3A/school-college/skripsi/proposal/sistem/diet-meal-plan/static/data/data2017.ipynb#X36sZmlsZQ%3D%3D?line=65'>66</a>\u001b[0m     \u001b[39m# print(goal_amount)\u001b[39;00m\n\u001b[0;32m     <a href='vscode-notebook-cell:/d%3A/school-college/skripsi/proposal/sistem/diet-meal-plan/static/data/data2017.ipynb#X36sZmlsZQ%3D%3D?line=66'>67</a>\u001b[0m     \u001b[39m# print(goal_menu)\u001b[39;00m\n\u001b[0;32m     <a href='vscode-notebook-cell:/d%3A/school-college/skripsi/proposal/sistem/diet-meal-plan/static/data/data2017.ipynb#X36sZmlsZQ%3D%3D?line=67'>68</a>\u001b[0m     \u001b[39m# print(menuPopM)\u001b[39;00m\n\u001b[0;32m     <a href='vscode-notebook-cell:/d%3A/school-college/skripsi/proposal/sistem/diet-meal-plan/static/data/data2017.ipynb#X36sZmlsZQ%3D%3D?line=68'>69</a>\u001b[0m     \u001b[39m# print(\"====================\")\u001b[39;00m\n\u001b[0;32m     <a href='vscode-notebook-cell:/d%3A/school-college/skripsi/proposal/sistem/diet-meal-plan/static/data/data2017.ipynb#X36sZmlsZQ%3D%3D?line=69'>70</a>\u001b[0m     \u001b[39m# print(popAmount)\u001b[39;00m\n\u001b[0;32m     <a href='vscode-notebook-cell:/d%3A/school-college/skripsi/proposal/sistem/diet-meal-plan/static/data/data2017.ipynb#X36sZmlsZQ%3D%3D?line=70'>71</a>\u001b[0m     viewResultByOptimalAmount(goal_amount\u001b[39m.\u001b[39miloc[[\u001b[39m0\u001b[39m]],goal_menu\u001b[39m.\u001b[39miloc[[\u001b[39m0\u001b[39m]],calNeeds)\n\u001b[1;32m---> <a href='vscode-notebook-cell:/d%3A/school-college/skripsi/proposal/sistem/diet-meal-plan/static/data/data2017.ipynb#X36sZmlsZQ%3D%3D?line=73'>74</a>\u001b[0m main()\n",
      "\u001b[1;31mTypeError\u001b[0m: main() missing 1 required positional argument: 'calNeeds'"
     ]
    }
   ],
   "source": [
    "\n",
    "def main(calNeeds):\n",
    "    n_iteration=10\n",
    "    defCal=False\n",
    "    calNeeds = 1700\n",
    "    # popAmount=[]\n",
    "    popAmount={\n",
    "      'nCarbs_br': [], 'nProt_br': [],'nVeggies_br': [],\n",
    "      'nCarbs_lunch':[],'nProt_lunch':[],'nVeggies_lunch':[],\n",
    "      'nCarbs_dinner':[],'nProt_dinner':[],'nVeggies_dinner':[],'nSnack':[],'nFruit':[],\n",
    "      'fitness': [], 'caloriesTot':[]\n",
    "      }\n",
    "    goal_menu={\n",
    "      'sourceCarbs_br': [-1], 'sourceProt_br': [-1],'sourceVeggies_br': [-1],\n",
    "      'sourceCarbs_lunch':[-1],'sourceProt_lunch':[-1],'sourceVeggies_lunch':[-1],\n",
    "      'sourceCarbs_dinner':[-1],'sourceProt_dinner':[-1],'sourceVeggies_dinner':[-1],'sourceSnack':[],'sourceFruit':[],\n",
    "      'fitness optimal': [-1000000]\n",
    "      }\n",
    "    goal_amount={\n",
    "      'nCarbs_br': [-1], 'nProt_br': [-1],'nVeggies_br': [-1],\n",
    "      'nCarbs_lunch':[-1],'nProt_lunch':[-1],'nVeggies_lunch':[-1],\n",
    "      'nCarbs_dinner':[-1],'nProt_dinner':[-1],'nVeggies_dinner':[-1],'nSnack':[],'nFruit':[],\n",
    "      'fitness': [-1000000], 'caloriesTot':[0]\n",
    "      }\n",
    "    goal_menu=pd.DataFrame(goal_menu)\n",
    "    goal_amount=pd.DataFrame(goal_amount)\n",
    "    popAmount=pd.DataFrame(popAmount)\n",
    "    \n",
    "    menuPop = createPopulation(dfFinalEliminated,5)\n",
    "    for i in range (n_iteration):\n",
    "        fitnessArray=[]\n",
    "        menuPop = countFitnessMenu(menuPop)\n",
    "        menuPop=crossover(menuPop,5)\n",
    "        menuPop=mutation(menuPop,5)\n",
    "        for i in range(len(menuPopM)):\n",
    "            bestAmount = decideAmountThroughGeneticAlgorithm(menuPopM.iloc[[i]],calNeeds)\n",
    "            # input final amount to amount dataframe to save best amount in current menu\n",
    "            popAmount = pd.concat([popAmount,bestAmount.iloc[[0]]], ignore_index = True)\n",
    "              # add fitness to dataframe menu\n",
    "            fitnessArray.append(bestAmount._get_value(0,'fitness'))\n",
    "            # menuPopM.iloc[i]['fitness']= bestAmount._get_value(0,'fitness')\n",
    "        \n",
    "        menuPopM['fitness optimal'] = fitnessArray   \n",
    "        conditionArray=np.array([])\n",
    "        for i in range (len(popAmount)):\n",
    "            if (defCal):\n",
    "                condition=True\n",
    "                if (popAmount.iloc[i]['caloriesTot']>calNeeds):\n",
    "                    # takeout chromosomes\n",
    "                    condition=False\n",
    "                np.append(conditionArray,condition)\n",
    "            else :\n",
    "                condition=True\n",
    "                if (popAmount.iloc[i]['caloriesTot']<calNeeds):\n",
    "                    # takeout chromosomes\n",
    "                    condition=False\n",
    "                np.append(conditionArray,condition)\n",
    "        getIndexOfCondition=np.where(conditionArray==False)[0]\n",
    "        menuPopM.drop(getIndexOfCondition)\n",
    "        popAmount.drop(getIndexOfCondition)\n",
    "\n",
    "        \n",
    "        if goal_menu.iloc[0]['fitness optimal'] < menuPopM.sort_values(by = 'fitness optimal',ascending = False).iloc[0]['fitness optimal']:\n",
    "              goal_menu = menuPopM.sort_values(by = 'fitness optimal',ascending = False).iloc[[0]]\n",
    "              goal_amount = popAmount.sort_values(by = 'fitness',ascending = False).iloc[[0]]\n",
    "              # print(goal_menu.iloc[[0]])\n",
    "    # print(goal_amount)\n",
    "    # print(goal_menu)\n",
    "    # print(menuPopM)\n",
    "    # print(\"====================\")\n",
    "    # print(popAmount)\n",
    "    viewResultByOptimalAmount(goal_amount.iloc[[0]],goal_menu.iloc[[0]],calNeeds)\n",
    "\n",
    "\n",
    "main()\n",
    "    \n"
   ]
  },
  {
   "cell_type": "code",
   "execution_count": 32,
   "metadata": {},
   "outputs": [],
   "source": [
    "\n",
    "def generateMealPlan(calNeeds,n):\n",
    "    n_iteration=5\n",
    "    arrayOfIteration = []\n",
    "    arrayOfFitness = []\n",
    "    defCal=False\n",
    "    carboNeeds = 0.6*calNeeds/4\n",
    "    protNeeds = 0.15*calNeeds/4\n",
    "    fatNeeds = 0.15*calNeeds/9\n",
    "    # popAmount=[]\n",
    "    popAmount={\n",
    "      'nCarbs_br': [], 'nProt_br': [],'nVeggies_br': [],\n",
    "      'nCarbs_lunch':[],'nProt_lunch':[],'nVeggies_lunch':[],\n",
    "      'nCarbs_dinner':[],'nProt_dinner':[],'nVeggies_dinner':[],'nSnack':[],'nFruit':[],\n",
    "      'fitness': [], 'caloriesTot':[]\n",
    "      }\n",
    "    goal_menu={\n",
    "      'sourceCarbs_br': [-1], 'sourceProt_br': [-1],'sourceVeggies_br': [-1],\n",
    "      'sourceCarbs_lunch':[-1],'sourceProt_lunch':[-1],'sourceVeggies_lunch':[-1],\n",
    "      'sourceCarbs_dinner':[-1],'sourceProt_dinner':[-1],'sourceVeggies_dinner':[-1],'sourceSnack':[-1],'sourceFruit':[-1],\n",
    "      'fitness optimal': [-1000000]\n",
    "      }\n",
    "    goal_amount={\n",
    "      'nCarbs_br': [-1], 'nProt_br': [-1],'nVeggies_br': [-1],\n",
    "      'nCarbs_lunch':[-1],'nProt_lunch':[-1],'nVeggies_lunch':[-1],\n",
    "      'nCarbs_dinner':[-1],'nProt_dinner':[-1],'nVeggies_dinner':[-1],'nSnack':[-1],'nFruit':[-1],\n",
    "      'fitness': [-1000000], 'caloriesTot':[0]\n",
    "      }\n",
    "    goal_menu=pd.DataFrame(goal_menu)\n",
    "    goal_amount=pd.DataFrame(goal_amount)\n",
    "    popAmount=pd.DataFrame(popAmount)\n",
    "    for i in range (n_iteration):\n",
    "        fitnessArray=[]\n",
    "        menuPop = createPopulation(dfFinalEliminated,5)\n",
    "        menuPop = countFitnessMenu(menuPop,calNeeds)\n",
    "        menuPopC=crossover(menuPop,5)\n",
    "        menuPopM=mutation(menuPop,5)\n",
    "        for j in range(len(menuPopM)):\n",
    "            bestAmount = decideAmountThroughGeneticAlgorithm(menuPopM.iloc[[j]],calNeeds)\n",
    "            # input final amount to amount dataframe to save best amount in current menu\n",
    "            popAmount = pd.concat([popAmount,bestAmount.iloc[[0]]], ignore_index = True)\n",
    "              # add fitness to dataframe menu\n",
    "            fitnessArray.append(bestAmount._get_value(0,'fitness'))\n",
    "            # menuPopM.iloc[i]['fitness']= bestAmount._get_value(0,'fitness')\n",
    "        \n",
    "        menuPopM['fitness optimal'] = fitnessArray   \n",
    "        conditionArray=np.array([])\n",
    "        for k in range (len(popAmount)):\n",
    "            if (defCal):\n",
    "                condition=True\n",
    "                if (popAmount.iloc[k]['caloriesTot']>calNeeds):\n",
    "                    # takeout chromosomes\n",
    "                    condition=False\n",
    "                np.append(conditionArray,condition)\n",
    "            else :\n",
    "                condition=True\n",
    "                if (popAmount.iloc[k]['caloriesTot']<calNeeds):\n",
    "                    # takeout chromosomes\n",
    "                    condition=False\n",
    "                np.append(conditionArray,condition)\n",
    "            \n",
    "        getIndexOfCondition=np.where(conditionArray==False)[0]\n",
    "        menuPopM.drop(getIndexOfCondition)\n",
    "        popAmount.drop(getIndexOfCondition)\n",
    "\n",
    "        \n",
    "        if goal_menu.iloc[0]['fitness optimal'] < menuPopM.sort_values(by = 'fitness optimal',ascending = False).iloc[0]['fitness optimal']:\n",
    "              goal_menu = menuPopM.sort_values(by = 'fitness optimal',ascending = False).iloc[[0]]\n",
    "              goal_amount = popAmount.sort_values(by = 'fitness',ascending = False).iloc[[0]]\n",
    "        \n",
    "        arrayOfFitness.append(goal_menu.iloc[0]['fitness optimal'])\n",
    "        arrayOfIteration.append(i)\n",
    "    \n",
    "    print(goal_amount.iloc[0]['fitness'])\n",
    "    viewResultByOptimalAmount(goal_amount.iloc[[0]],goal_menu.iloc[[0]],calNeeds)\n",
    "    return arrayOfFitness,arrayOfIteration\n",
    "\n",
    "\n",
    "# main2()\n",
    "    \n"
   ]
  },
  {
   "cell_type": "code",
   "execution_count": 33,
   "metadata": {},
   "outputs": [
    {
     "name": "stdout",
     "output_type": "stream",
     "text": [
      "Index([473, 485, 517], dtype='int64')\n",
      "Index([367, 503, 473], dtype='int64')\n",
      "Index([484, 476, 297], dtype='int64')\n",
      "Index([491, 400, 402], dtype='int64')\n",
      "Index([454, 349, 342], dtype='int64')\n"
     ]
    },
    {
     "name": "stderr",
     "output_type": "stream",
     "text": [
      "C:\\Users\\Asus\\AppData\\Local\\Temp\\ipykernel_9884\\2229102978.py:9: SettingWithCopyWarning: \n",
      "A value is trying to be set on a copy of a slice from a DataFrame\n",
      "\n",
      "See the caveats in the documentation: https://pandas.pydata.org/pandas-docs/stable/user_guide/indexing.html#returning-a-view-versus-a-copy\n",
      "  popc.iloc[a][pop.columns[i]], popc.iloc[b][pop.columns[i]] = pop.iloc[b][pop.columns[i]], pop.iloc[a][pop.columns[i]]\n",
      "C:\\Users\\Asus\\AppData\\Local\\Temp\\ipykernel_9884\\3626351311.py:19: SettingWithCopyWarning: \n",
      "A value is trying to be set on a copy of a slice from a DataFrame\n",
      "\n",
      "See the caveats in the documentation: https://pandas.pydata.org/pandas-docs/stable/user_guide/indexing.html#returning-a-view-versus-a-copy\n",
      "  popm.iloc[i][mutation]=source[0]\n"
     ]
    },
    {
     "name": "stdout",
     "output_type": "stream",
     "text": [
      "Index([383, 521, 333], dtype='int64')\n",
      "Index([539, 380, 475], dtype='int64')\n",
      "Index([521, 294, 400], dtype='int64')\n",
      "Index([484, 461, 359], dtype='int64')\n",
      "Index([539, 465, 518], dtype='int64')\n"
     ]
    },
    {
     "name": "stderr",
     "output_type": "stream",
     "text": [
      "C:\\Users\\Asus\\AppData\\Local\\Temp\\ipykernel_9884\\2229102978.py:9: SettingWithCopyWarning: \n",
      "A value is trying to be set on a copy of a slice from a DataFrame\n",
      "\n",
      "See the caveats in the documentation: https://pandas.pydata.org/pandas-docs/stable/user_guide/indexing.html#returning-a-view-versus-a-copy\n",
      "  popc.iloc[a][pop.columns[i]], popc.iloc[b][pop.columns[i]] = pop.iloc[b][pop.columns[i]], pop.iloc[a][pop.columns[i]]\n",
      "C:\\Users\\Asus\\AppData\\Local\\Temp\\ipykernel_9884\\3626351311.py:19: SettingWithCopyWarning: \n",
      "A value is trying to be set on a copy of a slice from a DataFrame\n",
      "\n",
      "See the caveats in the documentation: https://pandas.pydata.org/pandas-docs/stable/user_guide/indexing.html#returning-a-view-versus-a-copy\n",
      "  popm.iloc[i][mutation]=source[0]\n"
     ]
    },
    {
     "name": "stdout",
     "output_type": "stream",
     "text": [
      "Index([300, 317, 507], dtype='int64')\n",
      "Index([327, 446, 329], dtype='int64')\n",
      "Index([364, 391, 371], dtype='int64')\n",
      "Index([444, 312, 361], dtype='int64')\n",
      "Index([534, 463, 379], dtype='int64')\n"
     ]
    },
    {
     "name": "stderr",
     "output_type": "stream",
     "text": [
      "C:\\Users\\Asus\\AppData\\Local\\Temp\\ipykernel_9884\\2229102978.py:9: SettingWithCopyWarning: \n",
      "A value is trying to be set on a copy of a slice from a DataFrame\n",
      "\n",
      "See the caveats in the documentation: https://pandas.pydata.org/pandas-docs/stable/user_guide/indexing.html#returning-a-view-versus-a-copy\n",
      "  popc.iloc[a][pop.columns[i]], popc.iloc[b][pop.columns[i]] = pop.iloc[b][pop.columns[i]], pop.iloc[a][pop.columns[i]]\n",
      "C:\\Users\\Asus\\AppData\\Local\\Temp\\ipykernel_9884\\3626351311.py:19: SettingWithCopyWarning: \n",
      "A value is trying to be set on a copy of a slice from a DataFrame\n",
      "\n",
      "See the caveats in the documentation: https://pandas.pydata.org/pandas-docs/stable/user_guide/indexing.html#returning-a-view-versus-a-copy\n",
      "  popm.iloc[i][mutation]=source[0]\n"
     ]
    },
    {
     "name": "stdout",
     "output_type": "stream",
     "text": [
      "Index([467, 460, 463], dtype='int64')\n",
      "Index([345, 439, 352], dtype='int64')\n",
      "Index([515, 525, 325], dtype='int64')\n",
      "Index([386, 484, 441], dtype='int64')\n",
      "Index([447, 310, 507], dtype='int64')\n"
     ]
    },
    {
     "name": "stderr",
     "output_type": "stream",
     "text": [
      "C:\\Users\\Asus\\AppData\\Local\\Temp\\ipykernel_9884\\2229102978.py:9: SettingWithCopyWarning: \n",
      "A value is trying to be set on a copy of a slice from a DataFrame\n",
      "\n",
      "See the caveats in the documentation: https://pandas.pydata.org/pandas-docs/stable/user_guide/indexing.html#returning-a-view-versus-a-copy\n",
      "  popc.iloc[a][pop.columns[i]], popc.iloc[b][pop.columns[i]] = pop.iloc[b][pop.columns[i]], pop.iloc[a][pop.columns[i]]\n",
      "C:\\Users\\Asus\\AppData\\Local\\Temp\\ipykernel_9884\\3626351311.py:19: SettingWithCopyWarning: \n",
      "A value is trying to be set on a copy of a slice from a DataFrame\n",
      "\n",
      "See the caveats in the documentation: https://pandas.pydata.org/pandas-docs/stable/user_guide/indexing.html#returning-a-view-versus-a-copy\n",
      "  popm.iloc[i][mutation]=source[0]\n"
     ]
    },
    {
     "name": "stdout",
     "output_type": "stream",
     "text": [
      "Index([364, 398, 392], dtype='int64')\n",
      "Index([452, 298, 480], dtype='int64')\n",
      "Index([290, 335, 397], dtype='int64')\n",
      "Index([391, 463, 332], dtype='int64')\n",
      "Index([369, 296, 484], dtype='int64')\n"
     ]
    },
    {
     "name": "stderr",
     "output_type": "stream",
     "text": [
      "C:\\Users\\Asus\\AppData\\Local\\Temp\\ipykernel_9884\\2229102978.py:9: SettingWithCopyWarning: \n",
      "A value is trying to be set on a copy of a slice from a DataFrame\n",
      "\n",
      "See the caveats in the documentation: https://pandas.pydata.org/pandas-docs/stable/user_guide/indexing.html#returning-a-view-versus-a-copy\n",
      "  popc.iloc[a][pop.columns[i]], popc.iloc[b][pop.columns[i]] = pop.iloc[b][pop.columns[i]], pop.iloc[a][pop.columns[i]]\n",
      "C:\\Users\\Asus\\AppData\\Local\\Temp\\ipykernel_9884\\3626351311.py:19: SettingWithCopyWarning: \n",
      "A value is trying to be set on a copy of a slice from a DataFrame\n",
      "\n",
      "See the caveats in the documentation: https://pandas.pydata.org/pandas-docs/stable/user_guide/indexing.html#returning-a-view-versus-a-copy\n",
      "  popm.iloc[i][mutation]=source[0]\n"
     ]
    },
    {
     "name": "stdout",
     "output_type": "stream",
     "text": [
      "0.01678063514704032\n",
      "kebutuhan kalori - real kalori :  1477.8  -  1498.0\n",
      "kebutuhan karbo - real karbo :  221.67  -  239.31999999999994\n",
      "kebutuhan prot - real prot :  55.4175  -  73.46\n",
      "kebutuhan lemak - real lemak :  24.63  -  28.33\n",
      "\n",
      "\n",
      "===BREAKFAST===\n",
      "sumber karbohidrat :  Amparan tatak   90.0 gr\n",
      "sumber protein :  Ikan kawalinya, segar   150.0 gr\n",
      "sumber sayuran/protein nabati :  Labu siam, segar   100.0 gr\n",
      "===LUNCH===\n",
      "sumber karbohidrat :  Mie aceh rebus   120.0 gr\n",
      "sumber protein :  Ikan mayong, segar   130.0 gr\n",
      "sumber sayuran/protein nabati :  Paria putih, segar   100.0 gr\n",
      "===DINNER===\n",
      "sumber karbohidrat :  Masekat   100.0 gr\n",
      "sumber protein :  Rajungan, segar   120.0 gr\n",
      "sumber sayuran/protein nabati :  Pepaya muda, segar   120.0 gr\n",
      "===CAMILAN===\n",
      "camilan pagi (buah) :  Bantal   120.0 gr\n",
      "camilan sore :  Embacang, segar   130.0 gr\n"
     ]
    }
   ],
   "source": [
    "def inputData() :\n",
    "    age=int(input(\"masukkan umur\"))\n",
    "    weight=int(input(\"masukkan berat badan\"))\n",
    "    height=int(input(\"masukkan tinggi badan\"))\n",
    "    isFemale=bool(input(\"perempuan?\"))\n",
    "    activityLevel=str(input(\"level aktivitas?\"))\n",
    "\n",
    "    if isFemale:\n",
    "        constanta = -161\n",
    "    else:\n",
    "        constanta = 5\n",
    "    caloriesDaily = (10* weight) + (6.25*height) - (5*age) + constanta\n",
    "    if (activityLevel==\"sedentary\"):\n",
    "        caloriesDaily = caloriesDaily*1.2\n",
    "    elif(activityLevel==\"lightly\"):\n",
    "        caloriesDaily = caloriesDaily*1.375\n",
    "    elif(activityLevel==\"moderately\"):\n",
    "        caloriesDaily = caloriesDaily*1.55\n",
    "    elif(activityLevel==\"very active\"):\n",
    "        caloriesDaily = caloriesDaily*1.725\n",
    "    elif(activityLevel==\"extra active\"):\n",
    "        caloriesDaily = caloriesDaily*1.9\n",
    "    else :\n",
    "        print(\"doenst match\")\n",
    "    \n",
    "    return caloriesDaily\n",
    "calNeed = inputData()\n",
    "xIteration,yFitness= main2(calNeed)\n",
    "# import matplotlib.pyplot as plt\n",
    "# plt.plot(yFitness,xIteration)\n",
    "\n",
    "# plt.show()"
   ]
  },
  {
   "cell_type": "code",
   "execution_count": 27,
   "metadata": {},
   "outputs": [
    {
     "name": "stdout",
     "output_type": "stream",
     "text": [
      "Index([374, 299, 307], dtype='int64')\n",
      "Index([291, 458, 537], dtype='int64')\n",
      "Index([346, 304, 305], dtype='int64')\n",
      "Index([355, 497, 531], dtype='int64')\n",
      "Index([467, 474, 496], dtype='int64')\n"
     ]
    },
    {
     "name": "stderr",
     "output_type": "stream",
     "text": [
      "C:\\Users\\Asus\\AppData\\Local\\Temp\\ipykernel_31788\\2229102978.py:9: SettingWithCopyWarning: \n",
      "A value is trying to be set on a copy of a slice from a DataFrame\n",
      "\n",
      "See the caveats in the documentation: https://pandas.pydata.org/pandas-docs/stable/user_guide/indexing.html#returning-a-view-versus-a-copy\n",
      "  popc.iloc[a][pop.columns[i]], popc.iloc[b][pop.columns[i]] = pop.iloc[b][pop.columns[i]], pop.iloc[a][pop.columns[i]]\n",
      "C:\\Users\\Asus\\AppData\\Local\\Temp\\ipykernel_31788\\3626351311.py:19: SettingWithCopyWarning: \n",
      "A value is trying to be set on a copy of a slice from a DataFrame\n",
      "\n",
      "See the caveats in the documentation: https://pandas.pydata.org/pandas-docs/stable/user_guide/indexing.html#returning-a-view-versus-a-copy\n",
      "  popm.iloc[i][mutation]=source[0]\n"
     ]
    },
    {
     "name": "stdout",
     "output_type": "stream",
     "text": [
      "Index([487, 476, 465], dtype='int64')\n",
      "Index([483, 490, 500], dtype='int64')\n",
      "Index([528, 299, 478], dtype='int64')\n",
      "Index([401, 535, 358], dtype='int64')\n",
      "Index([464, 524, 505], dtype='int64')\n"
     ]
    },
    {
     "name": "stderr",
     "output_type": "stream",
     "text": [
      "C:\\Users\\Asus\\AppData\\Local\\Temp\\ipykernel_31788\\2229102978.py:9: SettingWithCopyWarning: \n",
      "A value is trying to be set on a copy of a slice from a DataFrame\n",
      "\n",
      "See the caveats in the documentation: https://pandas.pydata.org/pandas-docs/stable/user_guide/indexing.html#returning-a-view-versus-a-copy\n",
      "  popc.iloc[a][pop.columns[i]], popc.iloc[b][pop.columns[i]] = pop.iloc[b][pop.columns[i]], pop.iloc[a][pop.columns[i]]\n",
      "C:\\Users\\Asus\\AppData\\Local\\Temp\\ipykernel_31788\\3626351311.py:19: SettingWithCopyWarning: \n",
      "A value is trying to be set on a copy of a slice from a DataFrame\n",
      "\n",
      "See the caveats in the documentation: https://pandas.pydata.org/pandas-docs/stable/user_guide/indexing.html#returning-a-view-versus-a-copy\n",
      "  popm.iloc[i][mutation]=source[0]\n"
     ]
    },
    {
     "name": "stdout",
     "output_type": "stream",
     "text": [
      "Index([303, 295, 399], dtype='int64')\n",
      "Index([396, 328, 387], dtype='int64')\n",
      "Index([396, 439, 327], dtype='int64')\n",
      "Index([530, 396, 365], dtype='int64')\n",
      "Index([327, 321, 305], dtype='int64')\n"
     ]
    },
    {
     "name": "stderr",
     "output_type": "stream",
     "text": [
      "C:\\Users\\Asus\\AppData\\Local\\Temp\\ipykernel_31788\\2229102978.py:9: SettingWithCopyWarning: \n",
      "A value is trying to be set on a copy of a slice from a DataFrame\n",
      "\n",
      "See the caveats in the documentation: https://pandas.pydata.org/pandas-docs/stable/user_guide/indexing.html#returning-a-view-versus-a-copy\n",
      "  popc.iloc[a][pop.columns[i]], popc.iloc[b][pop.columns[i]] = pop.iloc[b][pop.columns[i]], pop.iloc[a][pop.columns[i]]\n",
      "C:\\Users\\Asus\\AppData\\Local\\Temp\\ipykernel_31788\\3626351311.py:19: SettingWithCopyWarning: \n",
      "A value is trying to be set on a copy of a slice from a DataFrame\n",
      "\n",
      "See the caveats in the documentation: https://pandas.pydata.org/pandas-docs/stable/user_guide/indexing.html#returning-a-view-versus-a-copy\n",
      "  popm.iloc[i][mutation]=source[0]\n"
     ]
    },
    {
     "name": "stdout",
     "output_type": "stream",
     "text": [
      "Index([365, 535, 533], dtype='int64')\n",
      "Index([362, 322, 359], dtype='int64')\n",
      "Index([469, 488, 291], dtype='int64')\n",
      "Index([341, 439, 343], dtype='int64')\n",
      "Index([394, 532, 531], dtype='int64')\n"
     ]
    },
    {
     "name": "stderr",
     "output_type": "stream",
     "text": [
      "C:\\Users\\Asus\\AppData\\Local\\Temp\\ipykernel_31788\\2229102978.py:9: SettingWithCopyWarning: \n",
      "A value is trying to be set on a copy of a slice from a DataFrame\n",
      "\n",
      "See the caveats in the documentation: https://pandas.pydata.org/pandas-docs/stable/user_guide/indexing.html#returning-a-view-versus-a-copy\n",
      "  popc.iloc[a][pop.columns[i]], popc.iloc[b][pop.columns[i]] = pop.iloc[b][pop.columns[i]], pop.iloc[a][pop.columns[i]]\n",
      "C:\\Users\\Asus\\AppData\\Local\\Temp\\ipykernel_31788\\3626351311.py:19: SettingWithCopyWarning: \n",
      "A value is trying to be set on a copy of a slice from a DataFrame\n",
      "\n",
      "See the caveats in the documentation: https://pandas.pydata.org/pandas-docs/stable/user_guide/indexing.html#returning-a-view-versus-a-copy\n",
      "  popm.iloc[i][mutation]=source[0]\n"
     ]
    },
    {
     "name": "stdout",
     "output_type": "stream",
     "text": [
      "Index([379, 494, 361], dtype='int64')\n",
      "Index([342, 383, 500], dtype='int64')\n",
      "Index([308, 377, 333], dtype='int64')\n",
      "Index([340, 456, 463], dtype='int64')\n",
      "Index([398, 371, 315], dtype='int64')\n"
     ]
    },
    {
     "name": "stderr",
     "output_type": "stream",
     "text": [
      "C:\\Users\\Asus\\AppData\\Local\\Temp\\ipykernel_31788\\2229102978.py:9: SettingWithCopyWarning: \n",
      "A value is trying to be set on a copy of a slice from a DataFrame\n",
      "\n",
      "See the caveats in the documentation: https://pandas.pydata.org/pandas-docs/stable/user_guide/indexing.html#returning-a-view-versus-a-copy\n",
      "  popc.iloc[a][pop.columns[i]], popc.iloc[b][pop.columns[i]] = pop.iloc[b][pop.columns[i]], pop.iloc[a][pop.columns[i]]\n",
      "C:\\Users\\Asus\\AppData\\Local\\Temp\\ipykernel_31788\\3626351311.py:19: SettingWithCopyWarning: \n",
      "A value is trying to be set on a copy of a slice from a DataFrame\n",
      "\n",
      "See the caveats in the documentation: https://pandas.pydata.org/pandas-docs/stable/user_guide/indexing.html#returning-a-view-versus-a-copy\n",
      "  popm.iloc[i][mutation]=source[0]\n"
     ]
    },
    {
     "name": "stdout",
     "output_type": "stream",
     "text": [
      "Index([353, 323, 534], dtype='int64')\n",
      "Index([398, 514, 530], dtype='int64')\n",
      "Index([451, 520, 532], dtype='int64')\n",
      "Index([370, 526, 355], dtype='int64')\n",
      "Index([322, 384, 342], dtype='int64')\n"
     ]
    },
    {
     "name": "stderr",
     "output_type": "stream",
     "text": [
      "C:\\Users\\Asus\\AppData\\Local\\Temp\\ipykernel_31788\\2229102978.py:9: SettingWithCopyWarning: \n",
      "A value is trying to be set on a copy of a slice from a DataFrame\n",
      "\n",
      "See the caveats in the documentation: https://pandas.pydata.org/pandas-docs/stable/user_guide/indexing.html#returning-a-view-versus-a-copy\n",
      "  popc.iloc[a][pop.columns[i]], popc.iloc[b][pop.columns[i]] = pop.iloc[b][pop.columns[i]], pop.iloc[a][pop.columns[i]]\n",
      "C:\\Users\\Asus\\AppData\\Local\\Temp\\ipykernel_31788\\3626351311.py:19: SettingWithCopyWarning: \n",
      "A value is trying to be set on a copy of a slice from a DataFrame\n",
      "\n",
      "See the caveats in the documentation: https://pandas.pydata.org/pandas-docs/stable/user_guide/indexing.html#returning-a-view-versus-a-copy\n",
      "  popm.iloc[i][mutation]=source[0]\n"
     ]
    },
    {
     "name": "stdout",
     "output_type": "stream",
     "text": [
      "Index([295, 357, 538], dtype='int64')\n",
      "Index([488, 394, 396], dtype='int64')\n",
      "Index([454, 515, 462], dtype='int64')\n",
      "Index([377, 448, 309], dtype='int64')\n",
      "Index([354, 526, 355], dtype='int64')\n"
     ]
    },
    {
     "name": "stderr",
     "output_type": "stream",
     "text": [
      "C:\\Users\\Asus\\AppData\\Local\\Temp\\ipykernel_31788\\2229102978.py:9: SettingWithCopyWarning: \n",
      "A value is trying to be set on a copy of a slice from a DataFrame\n",
      "\n",
      "See the caveats in the documentation: https://pandas.pydata.org/pandas-docs/stable/user_guide/indexing.html#returning-a-view-versus-a-copy\n",
      "  popc.iloc[a][pop.columns[i]], popc.iloc[b][pop.columns[i]] = pop.iloc[b][pop.columns[i]], pop.iloc[a][pop.columns[i]]\n",
      "C:\\Users\\Asus\\AppData\\Local\\Temp\\ipykernel_31788\\3626351311.py:19: SettingWithCopyWarning: \n",
      "A value is trying to be set on a copy of a slice from a DataFrame\n",
      "\n",
      "See the caveats in the documentation: https://pandas.pydata.org/pandas-docs/stable/user_guide/indexing.html#returning-a-view-versus-a-copy\n",
      "  popm.iloc[i][mutation]=source[0]\n"
     ]
    },
    {
     "name": "stdout",
     "output_type": "stream",
     "text": [
      "Index([347, 480, 494], dtype='int64')\n",
      "Index([308, 317, 496], dtype='int64')\n",
      "Index([386, 479, 398], dtype='int64')\n",
      "Index([451, 512, 502], dtype='int64')\n",
      "Index([508, 500, 539], dtype='int64')\n"
     ]
    },
    {
     "name": "stderr",
     "output_type": "stream",
     "text": [
      "C:\\Users\\Asus\\AppData\\Local\\Temp\\ipykernel_31788\\2229102978.py:9: SettingWithCopyWarning: \n",
      "A value is trying to be set on a copy of a slice from a DataFrame\n",
      "\n",
      "See the caveats in the documentation: https://pandas.pydata.org/pandas-docs/stable/user_guide/indexing.html#returning-a-view-versus-a-copy\n",
      "  popc.iloc[a][pop.columns[i]], popc.iloc[b][pop.columns[i]] = pop.iloc[b][pop.columns[i]], pop.iloc[a][pop.columns[i]]\n",
      "C:\\Users\\Asus\\AppData\\Local\\Temp\\ipykernel_31788\\3626351311.py:19: SettingWithCopyWarning: \n",
      "A value is trying to be set on a copy of a slice from a DataFrame\n",
      "\n",
      "See the caveats in the documentation: https://pandas.pydata.org/pandas-docs/stable/user_guide/indexing.html#returning-a-view-versus-a-copy\n",
      "  popm.iloc[i][mutation]=source[0]\n"
     ]
    },
    {
     "name": "stdout",
     "output_type": "stream",
     "text": [
      "Index([439, 503, 399], dtype='int64')\n",
      "Index([290, 442, 527], dtype='int64')\n",
      "Index([384, 501, 306], dtype='int64')\n",
      "Index([339, 388, 377], dtype='int64')\n",
      "Index([398, 360, 340], dtype='int64')\n"
     ]
    },
    {
     "name": "stderr",
     "output_type": "stream",
     "text": [
      "C:\\Users\\Asus\\AppData\\Local\\Temp\\ipykernel_31788\\2229102978.py:9: SettingWithCopyWarning: \n",
      "A value is trying to be set on a copy of a slice from a DataFrame\n",
      "\n",
      "See the caveats in the documentation: https://pandas.pydata.org/pandas-docs/stable/user_guide/indexing.html#returning-a-view-versus-a-copy\n",
      "  popc.iloc[a][pop.columns[i]], popc.iloc[b][pop.columns[i]] = pop.iloc[b][pop.columns[i]], pop.iloc[a][pop.columns[i]]\n",
      "C:\\Users\\Asus\\AppData\\Local\\Temp\\ipykernel_31788\\3626351311.py:19: SettingWithCopyWarning: \n",
      "A value is trying to be set on a copy of a slice from a DataFrame\n",
      "\n",
      "See the caveats in the documentation: https://pandas.pydata.org/pandas-docs/stable/user_guide/indexing.html#returning-a-view-versus-a-copy\n",
      "  popm.iloc[i][mutation]=source[0]\n"
     ]
    },
    {
     "name": "stdout",
     "output_type": "stream",
     "text": [
      "Index([390, 472, 456], dtype='int64')\n",
      "Index([378, 381, 368], dtype='int64')\n",
      "Index([492, 322, 524], dtype='int64')\n",
      "Index([297, 485, 524], dtype='int64')\n",
      "Index([515, 481, 357], dtype='int64')\n"
     ]
    },
    {
     "name": "stderr",
     "output_type": "stream",
     "text": [
      "C:\\Users\\Asus\\AppData\\Local\\Temp\\ipykernel_31788\\2229102978.py:9: SettingWithCopyWarning: \n",
      "A value is trying to be set on a copy of a slice from a DataFrame\n",
      "\n",
      "See the caveats in the documentation: https://pandas.pydata.org/pandas-docs/stable/user_guide/indexing.html#returning-a-view-versus-a-copy\n",
      "  popc.iloc[a][pop.columns[i]], popc.iloc[b][pop.columns[i]] = pop.iloc[b][pop.columns[i]], pop.iloc[a][pop.columns[i]]\n",
      "C:\\Users\\Asus\\AppData\\Local\\Temp\\ipykernel_31788\\3626351311.py:19: SettingWithCopyWarning: \n",
      "A value is trying to be set on a copy of a slice from a DataFrame\n",
      "\n",
      "See the caveats in the documentation: https://pandas.pydata.org/pandas-docs/stable/user_guide/indexing.html#returning-a-view-versus-a-copy\n",
      "  popm.iloc[i][mutation]=source[0]\n"
     ]
    },
    {
     "name": "stdout",
     "output_type": "stream",
     "text": [
      "   breakfast_carbSource  breakfast_protAnimSource  breakfast_veggSource   \n",
      "2                   758                       451                   623  \\\n",
      "\n",
      "   lunch_carbSource  lunch_protAnimSource  lunch_veggSource   \n",
      "2               680                   520               588  \\\n",
      "\n",
      "   dinner_carbSource  dinner_protAnimSource  dinner_veggSource  snack  fruit   \n",
      "2                761                    532                545    870    163  \\\n",
      "\n",
      "   fitness BaseOn Menu  calories total Based on Menu  fitness optimal  \n",
      "2             0.009646                        2057.0         0.009006  \n",
      "kebutuhan kalori - real kalori :  2000  -  1944.0000000000002\n",
      "kebutuhan karbo - real karbo :  300.0  -  271.25000000000006\n",
      "kebutuhan prot - real prot :  75.0  -  59.63\n",
      "kebutuhan lemak - real lemak :  33.333333333333336  -  44.24999999999999\n",
      "\n",
      "\n",
      "===BREAKFAST===\n",
      "sumber karbohidrat :  Nasi gurih   60.0 gr\n",
      "sumber protein :  Ikan Belida, segar   80.0 gr\n",
      "sumber sayuran/protein nabati :  Eceng, segar   130.0 gr\n",
      "===LUNCH===\n",
      "sumber karbohidrat :  Jagung pipil var,\n",
      "metro, kering   110.00000000000001 gr\n",
      "sumber protein :  Udang galah, segar   70.0 gr\n",
      "sumber sayuran/protein nabati :  Daun labu\n",
      "waluh/kuning, segar   60.0 gr\n",
      "===DINNER===\n",
      "sumber karbohidrat :  Nopia spesial   80.0 gr\n",
      "sumber protein :  Ikan katombo, asin   50.0 gr\n",
      "sumber sayuran/protein nabati :  Andewi, segar   120.0 gr\n",
      "===CAMILAN===\n",
      "camilan pagi (buah) :  Ceriping getuk\n",
      "singkong   120.0 gr\n",
      "camilan sore :  Jeruk bali, segar   90.0 gr\n"
     ]
    },
    {
     "data": {
      "text/plain": [
       "0.009006034042808706"
      ]
     },
     "execution_count": 27,
     "metadata": {},
     "output_type": "execute_result"
    }
   ],
   "source": [
    "\n",
    "def generateMealPlan(calNeeds,n_iteration_outer,n_iteration_inner,popSize_outer,popSize_inner):\n",
    "    # n_iteration_outer=5\n",
    "    arrayOfIteration = []\n",
    "    arrayOfFitness = []\n",
    "    defCal=False\n",
    "    carboNeeds = 0.6*calNeeds/4\n",
    "    protNeeds = 0.15*calNeeds/4\n",
    "    fatNeeds = 0.15*calNeeds/9\n",
    "    # popAmount=[]\n",
    "    popAmount={\n",
    "      'nCarbs_br': [], 'nProt_br': [],'nVeggies_br': [],\n",
    "      'nCarbs_lunch':[],'nProt_lunch':[],'nVeggies_lunch':[],\n",
    "      'nCarbs_dinner':[],'nProt_dinner':[],'nVeggies_dinner':[],'nSnack':[],'nFruit':[],\n",
    "      'fitness': [], 'caloriesTot':[]\n",
    "      }\n",
    "    goal_menu={\n",
    "      'sourceCarbs_br': [-1], 'sourceProt_br': [-1],'sourceVeggies_br': [-1],\n",
    "      'sourceCarbs_lunch':[-1],'sourceProt_lunch':[-1],'sourceVeggies_lunch':[-1],\n",
    "      'sourceCarbs_dinner':[-1],'sourceProt_dinner':[-1],'sourceVeggies_dinner':[-1],'sourceSnack':[-1],'sourceFruit':[-1],\n",
    "      'fitness optimal': [-1000000]\n",
    "      }\n",
    "    goal_amount={\n",
    "      'nCarbs_br': [-1], 'nProt_br': [-1],'nVeggies_br': [-1],\n",
    "      'nCarbs_lunch':[-1],'nProt_lunch':[-1],'nVeggies_lunch':[-1],\n",
    "      'nCarbs_dinner':[-1],'nProt_dinner':[-1],'nVeggies_dinner':[-1],'nSnack':[-1],'nFruit':[-1],\n",
    "      'fitness': [-1000000], 'caloriesTot':[0]\n",
    "      }\n",
    "    goal_menu=pd.DataFrame(goal_menu)\n",
    "    goal_amount=pd.DataFrame(goal_amount)\n",
    "    popAmount=pd.DataFrame(popAmount)\n",
    "    for i in range (n_iteration_outer):\n",
    "        fitnessArray=[]\n",
    "        menuPop = createPopulation(dfFinalEliminated,popSize_outer)\n",
    "        menuPop = countFitnessMenu(menuPop,calNeeds)\n",
    "        menuPopC=crossover(menuPop,5)\n",
    "        menuPopM=mutation(menuPop,5)\n",
    "        for j in range(len(menuPopM)):\n",
    "            bestAmount = decideAmountThroughGeneticAlgorithm(menuPopM.iloc[[j]],calNeeds,n_iteration_inner,popSize_inner)\n",
    "            # input final amount to amount dataframe to save best amount in current menu\n",
    "            popAmount = pd.concat([popAmount,bestAmount.iloc[[0]]], ignore_index = True)\n",
    "              # add fitness to dataframe menu\n",
    "            fitnessArray.append(bestAmount._get_value(0,'fitness'))\n",
    "            # menuPopM.iloc[i]['fitness']= bestAmount._get_value(0,'fitness')\n",
    "        \n",
    "        menuPopM['fitness optimal'] = fitnessArray   \n",
    "        conditionArray=np.array([])\n",
    "        for k in range (len(popAmount)):\n",
    "            if (defCal):\n",
    "                condition=True\n",
    "                if (popAmount.iloc[k]['caloriesTot']>calNeeds):\n",
    "                    # takeout chromosomes\n",
    "                    condition=False\n",
    "                np.append(conditionArray,condition)\n",
    "            else :\n",
    "                condition=True\n",
    "                if (popAmount.iloc[k]['caloriesTot']<calNeeds):\n",
    "                    # takeout chromosomes\n",
    "                    condition=False\n",
    "                np.append(conditionArray,condition)\n",
    "            \n",
    "        getIndexOfCondition=np.where(conditionArray==False)[0]\n",
    "        menuPopM.drop(getIndexOfCondition)\n",
    "        popAmount.drop(getIndexOfCondition)\n",
    "\n",
    "        \n",
    "        if goal_menu.iloc[0]['fitness optimal'] < menuPopM.sort_values(by = 'fitness optimal',ascending = False).iloc[0]['fitness optimal']:\n",
    "              goal_menu = menuPopM.sort_values(by = 'fitness optimal',ascending = False).iloc[[0]]\n",
    "              goal_amount = popAmount.sort_values(by = 'fitness',ascending = False).iloc[[0]]\n",
    "        \n",
    "        arrayOfFitness.append(goal_menu.iloc[0]['fitness optimal'])\n",
    "        arrayOfIteration.append(i)\n",
    "    \n",
    "    print(goal_menu.iloc[[0]])\n",
    "    viewResultByOptimalAmount(goal_amount.iloc[[0]],goal_menu.iloc[[0]],calNeeds)\n",
    "    # return arrayOfFitness,arrayOfIteration\n",
    "    return goal_menu.iloc[0]['fitness optimal']\n",
    "\n",
    "\n",
    "generateMealPlan(2000,10,20,5,7)\n",
    "    \n"
   ]
  },
  {
   "cell_type": "code",
   "execution_count": 71,
   "metadata": {},
   "outputs": [
    {
     "name": "stdout",
     "output_type": "stream",
     "text": [
      "Index([350, 355, 523], dtype='int64')\n",
      "Index([496, 479, 363], dtype='int64')\n",
      "Index([523, 382, 310], dtype='int64')\n",
      "Index([306, 491, 472], dtype='int64')\n",
      "Index([369, 515, 513], dtype='int64')\n"
     ]
    },
    {
     "name": "stderr",
     "output_type": "stream",
     "text": [
      "C:\\Users\\Asus\\AppData\\Local\\Temp\\ipykernel_9884\\2229102978.py:9: SettingWithCopyWarning: \n",
      "A value is trying to be set on a copy of a slice from a DataFrame\n",
      "\n",
      "See the caveats in the documentation: https://pandas.pydata.org/pandas-docs/stable/user_guide/indexing.html#returning-a-view-versus-a-copy\n",
      "  popc.iloc[a][pop.columns[i]], popc.iloc[b][pop.columns[i]] = pop.iloc[b][pop.columns[i]], pop.iloc[a][pop.columns[i]]\n",
      "C:\\Users\\Asus\\AppData\\Local\\Temp\\ipykernel_9884\\3626351311.py:19: SettingWithCopyWarning: \n",
      "A value is trying to be set on a copy of a slice from a DataFrame\n",
      "\n",
      "See the caveats in the documentation: https://pandas.pydata.org/pandas-docs/stable/user_guide/indexing.html#returning-a-view-versus-a-copy\n",
      "  popm.iloc[i][mutation]=source[0]\n"
     ]
    },
    {
     "name": "stdout",
     "output_type": "stream",
     "text": [
      "Index([511, 309, 400], dtype='int64')\n",
      "Index([310, 367, 299], dtype='int64')\n",
      "Index([391, 348, 314], dtype='int64')\n",
      "Index([475, 458, 467], dtype='int64')\n",
      "Index([308, 492, 349], dtype='int64')\n"
     ]
    },
    {
     "name": "stderr",
     "output_type": "stream",
     "text": [
      "C:\\Users\\Asus\\AppData\\Local\\Temp\\ipykernel_9884\\2229102978.py:9: SettingWithCopyWarning: \n",
      "A value is trying to be set on a copy of a slice from a DataFrame\n",
      "\n",
      "See the caveats in the documentation: https://pandas.pydata.org/pandas-docs/stable/user_guide/indexing.html#returning-a-view-versus-a-copy\n",
      "  popc.iloc[a][pop.columns[i]], popc.iloc[b][pop.columns[i]] = pop.iloc[b][pop.columns[i]], pop.iloc[a][pop.columns[i]]\n",
      "C:\\Users\\Asus\\AppData\\Local\\Temp\\ipykernel_9884\\3626351311.py:19: SettingWithCopyWarning: \n",
      "A value is trying to be set on a copy of a slice from a DataFrame\n",
      "\n",
      "See the caveats in the documentation: https://pandas.pydata.org/pandas-docs/stable/user_guide/indexing.html#returning-a-view-versus-a-copy\n",
      "  popm.iloc[i][mutation]=source[0]\n"
     ]
    },
    {
     "name": "stdout",
     "output_type": "stream",
     "text": [
      "Index([514, 480, 521], dtype='int64')\n",
      "Index([353, 464, 308], dtype='int64')\n",
      "Index([296, 311, 476], dtype='int64')\n",
      "Index([456, 339, 515], dtype='int64')\n",
      "Index([378, 344, 481], dtype='int64')\n"
     ]
    },
    {
     "name": "stderr",
     "output_type": "stream",
     "text": [
      "C:\\Users\\Asus\\AppData\\Local\\Temp\\ipykernel_9884\\2229102978.py:9: SettingWithCopyWarning: \n",
      "A value is trying to be set on a copy of a slice from a DataFrame\n",
      "\n",
      "See the caveats in the documentation: https://pandas.pydata.org/pandas-docs/stable/user_guide/indexing.html#returning-a-view-versus-a-copy\n",
      "  popc.iloc[a][pop.columns[i]], popc.iloc[b][pop.columns[i]] = pop.iloc[b][pop.columns[i]], pop.iloc[a][pop.columns[i]]\n",
      "C:\\Users\\Asus\\AppData\\Local\\Temp\\ipykernel_9884\\3626351311.py:19: SettingWithCopyWarning: \n",
      "A value is trying to be set on a copy of a slice from a DataFrame\n",
      "\n",
      "See the caveats in the documentation: https://pandas.pydata.org/pandas-docs/stable/user_guide/indexing.html#returning-a-view-versus-a-copy\n",
      "  popm.iloc[i][mutation]=source[0]\n"
     ]
    },
    {
     "name": "stdout",
     "output_type": "stream",
     "text": [
      "Index([526, 456, 475], dtype='int64')\n",
      "Index([526, 385, 313], dtype='int64')\n",
      "Index([363, 469, 520], dtype='int64')\n",
      "Index([363, 439, 527], dtype='int64')\n",
      "Index([480, 392, 459], dtype='int64')\n"
     ]
    },
    {
     "name": "stderr",
     "output_type": "stream",
     "text": [
      "C:\\Users\\Asus\\AppData\\Local\\Temp\\ipykernel_9884\\2229102978.py:9: SettingWithCopyWarning: \n",
      "A value is trying to be set on a copy of a slice from a DataFrame\n",
      "\n",
      "See the caveats in the documentation: https://pandas.pydata.org/pandas-docs/stable/user_guide/indexing.html#returning-a-view-versus-a-copy\n",
      "  popc.iloc[a][pop.columns[i]], popc.iloc[b][pop.columns[i]] = pop.iloc[b][pop.columns[i]], pop.iloc[a][pop.columns[i]]\n",
      "C:\\Users\\Asus\\AppData\\Local\\Temp\\ipykernel_9884\\3626351311.py:19: SettingWithCopyWarning: \n",
      "A value is trying to be set on a copy of a slice from a DataFrame\n",
      "\n",
      "See the caveats in the documentation: https://pandas.pydata.org/pandas-docs/stable/user_guide/indexing.html#returning-a-view-versus-a-copy\n",
      "  popm.iloc[i][mutation]=source[0]\n"
     ]
    },
    {
     "name": "stdout",
     "output_type": "stream",
     "text": [
      "Index([502, 446, 296], dtype='int64')\n",
      "Index([521, 502, 486], dtype='int64')\n",
      "Index([540, 351, 514], dtype='int64')\n",
      "Index([322, 367, 362], dtype='int64')\n",
      "Index([462, 533, 320], dtype='int64')\n"
     ]
    },
    {
     "name": "stderr",
     "output_type": "stream",
     "text": [
      "C:\\Users\\Asus\\AppData\\Local\\Temp\\ipykernel_9884\\2229102978.py:9: SettingWithCopyWarning: \n",
      "A value is trying to be set on a copy of a slice from a DataFrame\n",
      "\n",
      "See the caveats in the documentation: https://pandas.pydata.org/pandas-docs/stable/user_guide/indexing.html#returning-a-view-versus-a-copy\n",
      "  popc.iloc[a][pop.columns[i]], popc.iloc[b][pop.columns[i]] = pop.iloc[b][pop.columns[i]], pop.iloc[a][pop.columns[i]]\n",
      "C:\\Users\\Asus\\AppData\\Local\\Temp\\ipykernel_9884\\3626351311.py:19: SettingWithCopyWarning: \n",
      "A value is trying to be set on a copy of a slice from a DataFrame\n",
      "\n",
      "See the caveats in the documentation: https://pandas.pydata.org/pandas-docs/stable/user_guide/indexing.html#returning-a-view-versus-a-copy\n",
      "  popm.iloc[i][mutation]=source[0]\n"
     ]
    },
    {
     "name": "stdout",
     "output_type": "stream",
     "text": [
      "Index([452, 375, 369], dtype='int64')\n",
      "Index([347, 490, 506], dtype='int64')\n",
      "Index([487, 290, 458], dtype='int64')\n",
      "Index([503, 335, 505], dtype='int64')\n",
      "Index([306, 439, 303], dtype='int64')\n"
     ]
    },
    {
     "name": "stderr",
     "output_type": "stream",
     "text": [
      "C:\\Users\\Asus\\AppData\\Local\\Temp\\ipykernel_9884\\2229102978.py:9: SettingWithCopyWarning: \n",
      "A value is trying to be set on a copy of a slice from a DataFrame\n",
      "\n",
      "See the caveats in the documentation: https://pandas.pydata.org/pandas-docs/stable/user_guide/indexing.html#returning-a-view-versus-a-copy\n",
      "  popc.iloc[a][pop.columns[i]], popc.iloc[b][pop.columns[i]] = pop.iloc[b][pop.columns[i]], pop.iloc[a][pop.columns[i]]\n",
      "C:\\Users\\Asus\\AppData\\Local\\Temp\\ipykernel_9884\\3626351311.py:19: SettingWithCopyWarning: \n",
      "A value is trying to be set on a copy of a slice from a DataFrame\n",
      "\n",
      "See the caveats in the documentation: https://pandas.pydata.org/pandas-docs/stable/user_guide/indexing.html#returning-a-view-versus-a-copy\n",
      "  popm.iloc[i][mutation]=source[0]\n"
     ]
    },
    {
     "name": "stdout",
     "output_type": "stream",
     "text": [
      "Index([301, 519, 508], dtype='int64')\n",
      "Index([494, 478, 367], dtype='int64')\n",
      "Index([479, 336, 401], dtype='int64')\n",
      "Index([337, 340, 461], dtype='int64')\n",
      "Index([349, 380, 401], dtype='int64')\n"
     ]
    },
    {
     "name": "stderr",
     "output_type": "stream",
     "text": [
      "C:\\Users\\Asus\\AppData\\Local\\Temp\\ipykernel_9884\\2229102978.py:9: SettingWithCopyWarning: \n",
      "A value is trying to be set on a copy of a slice from a DataFrame\n",
      "\n",
      "See the caveats in the documentation: https://pandas.pydata.org/pandas-docs/stable/user_guide/indexing.html#returning-a-view-versus-a-copy\n",
      "  popc.iloc[a][pop.columns[i]], popc.iloc[b][pop.columns[i]] = pop.iloc[b][pop.columns[i]], pop.iloc[a][pop.columns[i]]\n",
      "C:\\Users\\Asus\\AppData\\Local\\Temp\\ipykernel_9884\\3626351311.py:19: SettingWithCopyWarning: \n",
      "A value is trying to be set on a copy of a slice from a DataFrame\n",
      "\n",
      "See the caveats in the documentation: https://pandas.pydata.org/pandas-docs/stable/user_guide/indexing.html#returning-a-view-versus-a-copy\n",
      "  popm.iloc[i][mutation]=source[0]\n"
     ]
    },
    {
     "name": "stdout",
     "output_type": "stream",
     "text": [
      "Index([309, 344, 368], dtype='int64')\n",
      "Index([524, 364, 303], dtype='int64')\n",
      "Index([500, 480, 482], dtype='int64')\n",
      "Index([472, 292, 453], dtype='int64')\n",
      "Index([477, 497, 321], dtype='int64')\n"
     ]
    },
    {
     "name": "stderr",
     "output_type": "stream",
     "text": [
      "C:\\Users\\Asus\\AppData\\Local\\Temp\\ipykernel_9884\\2229102978.py:9: SettingWithCopyWarning: \n",
      "A value is trying to be set on a copy of a slice from a DataFrame\n",
      "\n",
      "See the caveats in the documentation: https://pandas.pydata.org/pandas-docs/stable/user_guide/indexing.html#returning-a-view-versus-a-copy\n",
      "  popc.iloc[a][pop.columns[i]], popc.iloc[b][pop.columns[i]] = pop.iloc[b][pop.columns[i]], pop.iloc[a][pop.columns[i]]\n",
      "C:\\Users\\Asus\\AppData\\Local\\Temp\\ipykernel_9884\\3626351311.py:19: SettingWithCopyWarning: \n",
      "A value is trying to be set on a copy of a slice from a DataFrame\n",
      "\n",
      "See the caveats in the documentation: https://pandas.pydata.org/pandas-docs/stable/user_guide/indexing.html#returning-a-view-versus-a-copy\n",
      "  popm.iloc[i][mutation]=source[0]\n"
     ]
    },
    {
     "name": "stdout",
     "output_type": "stream",
     "text": [
      "Index([443, 453, 526], dtype='int64')\n",
      "Index([355, 442, 471], dtype='int64')\n",
      "Index([397, 365, 331], dtype='int64')\n",
      "Index([460, 441, 308], dtype='int64')\n",
      "Index([337, 371, 395], dtype='int64')\n"
     ]
    },
    {
     "name": "stderr",
     "output_type": "stream",
     "text": [
      "C:\\Users\\Asus\\AppData\\Local\\Temp\\ipykernel_9884\\2229102978.py:9: SettingWithCopyWarning: \n",
      "A value is trying to be set on a copy of a slice from a DataFrame\n",
      "\n",
      "See the caveats in the documentation: https://pandas.pydata.org/pandas-docs/stable/user_guide/indexing.html#returning-a-view-versus-a-copy\n",
      "  popc.iloc[a][pop.columns[i]], popc.iloc[b][pop.columns[i]] = pop.iloc[b][pop.columns[i]], pop.iloc[a][pop.columns[i]]\n",
      "C:\\Users\\Asus\\AppData\\Local\\Temp\\ipykernel_9884\\3626351311.py:19: SettingWithCopyWarning: \n",
      "A value is trying to be set on a copy of a slice from a DataFrame\n",
      "\n",
      "See the caveats in the documentation: https://pandas.pydata.org/pandas-docs/stable/user_guide/indexing.html#returning-a-view-versus-a-copy\n",
      "  popm.iloc[i][mutation]=source[0]\n"
     ]
    },
    {
     "name": "stdout",
     "output_type": "stream",
     "text": [
      "Index([314, 526, 447], dtype='int64')\n",
      "Index([451, 383, 326], dtype='int64')\n",
      "Index([509, 374, 292], dtype='int64')\n",
      "Index([480, 530, 383], dtype='int64')\n",
      "Index([320, 316, 347], dtype='int64')\n"
     ]
    },
    {
     "name": "stderr",
     "output_type": "stream",
     "text": [
      "C:\\Users\\Asus\\AppData\\Local\\Temp\\ipykernel_9884\\2229102978.py:9: SettingWithCopyWarning: \n",
      "A value is trying to be set on a copy of a slice from a DataFrame\n",
      "\n",
      "See the caveats in the documentation: https://pandas.pydata.org/pandas-docs/stable/user_guide/indexing.html#returning-a-view-versus-a-copy\n",
      "  popc.iloc[a][pop.columns[i]], popc.iloc[b][pop.columns[i]] = pop.iloc[b][pop.columns[i]], pop.iloc[a][pop.columns[i]]\n",
      "C:\\Users\\Asus\\AppData\\Local\\Temp\\ipykernel_9884\\3626351311.py:19: SettingWithCopyWarning: \n",
      "A value is trying to be set on a copy of a slice from a DataFrame\n",
      "\n",
      "See the caveats in the documentation: https://pandas.pydata.org/pandas-docs/stable/user_guide/indexing.html#returning-a-view-versus-a-copy\n",
      "  popm.iloc[i][mutation]=source[0]\n"
     ]
    },
    {
     "name": "stdout",
     "output_type": "stream",
     "text": [
      "Index([390, 476, 355], dtype='int64')\n",
      "Index([326, 342, 362], dtype='int64')\n",
      "Index([488, 357, 380], dtype='int64')\n",
      "Index([498, 499, 489], dtype='int64')\n",
      "Index([489, 470, 455], dtype='int64')\n"
     ]
    },
    {
     "name": "stderr",
     "output_type": "stream",
     "text": [
      "C:\\Users\\Asus\\AppData\\Local\\Temp\\ipykernel_9884\\2229102978.py:9: SettingWithCopyWarning: \n",
      "A value is trying to be set on a copy of a slice from a DataFrame\n",
      "\n",
      "See the caveats in the documentation: https://pandas.pydata.org/pandas-docs/stable/user_guide/indexing.html#returning-a-view-versus-a-copy\n",
      "  popc.iloc[a][pop.columns[i]], popc.iloc[b][pop.columns[i]] = pop.iloc[b][pop.columns[i]], pop.iloc[a][pop.columns[i]]\n",
      "C:\\Users\\Asus\\AppData\\Local\\Temp\\ipykernel_9884\\3626351311.py:19: SettingWithCopyWarning: \n",
      "A value is trying to be set on a copy of a slice from a DataFrame\n",
      "\n",
      "See the caveats in the documentation: https://pandas.pydata.org/pandas-docs/stable/user_guide/indexing.html#returning-a-view-versus-a-copy\n",
      "  popm.iloc[i][mutation]=source[0]\n"
     ]
    },
    {
     "name": "stdout",
     "output_type": "stream",
     "text": [
      "Index([379, 481, 309], dtype='int64')\n",
      "Index([311, 535, 530], dtype='int64')\n",
      "Index([539, 377, 321], dtype='int64')\n",
      "Index([290, 520, 479], dtype='int64')\n",
      "Index([390, 381, 540], dtype='int64')\n"
     ]
    },
    {
     "name": "stderr",
     "output_type": "stream",
     "text": [
      "C:\\Users\\Asus\\AppData\\Local\\Temp\\ipykernel_9884\\2229102978.py:9: SettingWithCopyWarning: \n",
      "A value is trying to be set on a copy of a slice from a DataFrame\n",
      "\n",
      "See the caveats in the documentation: https://pandas.pydata.org/pandas-docs/stable/user_guide/indexing.html#returning-a-view-versus-a-copy\n",
      "  popc.iloc[a][pop.columns[i]], popc.iloc[b][pop.columns[i]] = pop.iloc[b][pop.columns[i]], pop.iloc[a][pop.columns[i]]\n",
      "C:\\Users\\Asus\\AppData\\Local\\Temp\\ipykernel_9884\\3626351311.py:19: SettingWithCopyWarning: \n",
      "A value is trying to be set on a copy of a slice from a DataFrame\n",
      "\n",
      "See the caveats in the documentation: https://pandas.pydata.org/pandas-docs/stable/user_guide/indexing.html#returning-a-view-versus-a-copy\n",
      "  popm.iloc[i][mutation]=source[0]\n"
     ]
    },
    {
     "name": "stdout",
     "output_type": "stream",
     "text": [
      "Index([448, 384, 319], dtype='int64')\n",
      "Index([528, 311, 477], dtype='int64')\n",
      "Index([523, 503, 400], dtype='int64')\n",
      "Index([324, 293, 475], dtype='int64')\n",
      "Index([527, 295, 331], dtype='int64')\n"
     ]
    },
    {
     "name": "stderr",
     "output_type": "stream",
     "text": [
      "C:\\Users\\Asus\\AppData\\Local\\Temp\\ipykernel_9884\\2229102978.py:9: SettingWithCopyWarning: \n",
      "A value is trying to be set on a copy of a slice from a DataFrame\n",
      "\n",
      "See the caveats in the documentation: https://pandas.pydata.org/pandas-docs/stable/user_guide/indexing.html#returning-a-view-versus-a-copy\n",
      "  popc.iloc[a][pop.columns[i]], popc.iloc[b][pop.columns[i]] = pop.iloc[b][pop.columns[i]], pop.iloc[a][pop.columns[i]]\n",
      "C:\\Users\\Asus\\AppData\\Local\\Temp\\ipykernel_9884\\3626351311.py:19: SettingWithCopyWarning: \n",
      "A value is trying to be set on a copy of a slice from a DataFrame\n",
      "\n",
      "See the caveats in the documentation: https://pandas.pydata.org/pandas-docs/stable/user_guide/indexing.html#returning-a-view-versus-a-copy\n",
      "  popm.iloc[i][mutation]=source[0]\n"
     ]
    },
    {
     "name": "stdout",
     "output_type": "stream",
     "text": [
      "Index([324, 307, 396], dtype='int64')\n",
      "Index([527, 532, 450], dtype='int64')\n",
      "Index([315, 330, 345], dtype='int64')\n",
      "Index([370, 334, 299], dtype='int64')\n",
      "Index([308, 497, 347], dtype='int64')\n"
     ]
    },
    {
     "name": "stderr",
     "output_type": "stream",
     "text": [
      "C:\\Users\\Asus\\AppData\\Local\\Temp\\ipykernel_9884\\2229102978.py:9: SettingWithCopyWarning: \n",
      "A value is trying to be set on a copy of a slice from a DataFrame\n",
      "\n",
      "See the caveats in the documentation: https://pandas.pydata.org/pandas-docs/stable/user_guide/indexing.html#returning-a-view-versus-a-copy\n",
      "  popc.iloc[a][pop.columns[i]], popc.iloc[b][pop.columns[i]] = pop.iloc[b][pop.columns[i]], pop.iloc[a][pop.columns[i]]\n",
      "C:\\Users\\Asus\\AppData\\Local\\Temp\\ipykernel_9884\\3626351311.py:19: SettingWithCopyWarning: \n",
      "A value is trying to be set on a copy of a slice from a DataFrame\n",
      "\n",
      "See the caveats in the documentation: https://pandas.pydata.org/pandas-docs/stable/user_guide/indexing.html#returning-a-view-versus-a-copy\n",
      "  popm.iloc[i][mutation]=source[0]\n"
     ]
    },
    {
     "name": "stdout",
     "output_type": "stream",
     "text": [
      "Index([305, 375, 320], dtype='int64')\n",
      "Index([346, 538, 449], dtype='int64')\n",
      "Index([448, 503, 346], dtype='int64')\n",
      "Index([510, 333, 495], dtype='int64')\n",
      "Index([528, 320, 500], dtype='int64')\n"
     ]
    },
    {
     "name": "stderr",
     "output_type": "stream",
     "text": [
      "C:\\Users\\Asus\\AppData\\Local\\Temp\\ipykernel_9884\\2229102978.py:9: SettingWithCopyWarning: \n",
      "A value is trying to be set on a copy of a slice from a DataFrame\n",
      "\n",
      "See the caveats in the documentation: https://pandas.pydata.org/pandas-docs/stable/user_guide/indexing.html#returning-a-view-versus-a-copy\n",
      "  popc.iloc[a][pop.columns[i]], popc.iloc[b][pop.columns[i]] = pop.iloc[b][pop.columns[i]], pop.iloc[a][pop.columns[i]]\n",
      "C:\\Users\\Asus\\AppData\\Local\\Temp\\ipykernel_9884\\3626351311.py:19: SettingWithCopyWarning: \n",
      "A value is trying to be set on a copy of a slice from a DataFrame\n",
      "\n",
      "See the caveats in the documentation: https://pandas.pydata.org/pandas-docs/stable/user_guide/indexing.html#returning-a-view-versus-a-copy\n",
      "  popm.iloc[i][mutation]=source[0]\n"
     ]
    },
    {
     "name": "stdout",
     "output_type": "stream",
     "text": [
      "Index([296, 504, 317], dtype='int64')\n",
      "Index([365, 473, 538], dtype='int64')\n",
      "Index([479, 316, 358], dtype='int64')\n",
      "Index([326, 327, 487], dtype='int64')\n",
      "Index([514, 517, 290], dtype='int64')\n"
     ]
    },
    {
     "name": "stderr",
     "output_type": "stream",
     "text": [
      "C:\\Users\\Asus\\AppData\\Local\\Temp\\ipykernel_9884\\2229102978.py:9: SettingWithCopyWarning: \n",
      "A value is trying to be set on a copy of a slice from a DataFrame\n",
      "\n",
      "See the caveats in the documentation: https://pandas.pydata.org/pandas-docs/stable/user_guide/indexing.html#returning-a-view-versus-a-copy\n",
      "  popc.iloc[a][pop.columns[i]], popc.iloc[b][pop.columns[i]] = pop.iloc[b][pop.columns[i]], pop.iloc[a][pop.columns[i]]\n",
      "C:\\Users\\Asus\\AppData\\Local\\Temp\\ipykernel_9884\\3626351311.py:19: SettingWithCopyWarning: \n",
      "A value is trying to be set on a copy of a slice from a DataFrame\n",
      "\n",
      "See the caveats in the documentation: https://pandas.pydata.org/pandas-docs/stable/user_guide/indexing.html#returning-a-view-versus-a-copy\n",
      "  popm.iloc[i][mutation]=source[0]\n"
     ]
    },
    {
     "name": "stdout",
     "output_type": "stream",
     "text": [
      "Index([304, 485, 345], dtype='int64')\n",
      "Index([451, 394, 323], dtype='int64')\n",
      "Index([309, 444, 359], dtype='int64')\n",
      "Index([492, 441, 321], dtype='int64')\n",
      "Index([401, 360, 396], dtype='int64')\n"
     ]
    },
    {
     "name": "stderr",
     "output_type": "stream",
     "text": [
      "C:\\Users\\Asus\\AppData\\Local\\Temp\\ipykernel_9884\\2229102978.py:9: SettingWithCopyWarning: \n",
      "A value is trying to be set on a copy of a slice from a DataFrame\n",
      "\n",
      "See the caveats in the documentation: https://pandas.pydata.org/pandas-docs/stable/user_guide/indexing.html#returning-a-view-versus-a-copy\n",
      "  popc.iloc[a][pop.columns[i]], popc.iloc[b][pop.columns[i]] = pop.iloc[b][pop.columns[i]], pop.iloc[a][pop.columns[i]]\n",
      "C:\\Users\\Asus\\AppData\\Local\\Temp\\ipykernel_9884\\3626351311.py:19: SettingWithCopyWarning: \n",
      "A value is trying to be set on a copy of a slice from a DataFrame\n",
      "\n",
      "See the caveats in the documentation: https://pandas.pydata.org/pandas-docs/stable/user_guide/indexing.html#returning-a-view-versus-a-copy\n",
      "  popm.iloc[i][mutation]=source[0]\n"
     ]
    },
    {
     "name": "stdout",
     "output_type": "stream",
     "text": [
      "Index([317, 399, 457], dtype='int64')\n",
      "Index([333, 456, 525], dtype='int64')\n",
      "Index([530, 508, 525], dtype='int64')\n",
      "Index([541, 303, 350], dtype='int64')\n",
      "Index([357, 373, 328], dtype='int64')\n"
     ]
    },
    {
     "name": "stderr",
     "output_type": "stream",
     "text": [
      "C:\\Users\\Asus\\AppData\\Local\\Temp\\ipykernel_9884\\2229102978.py:9: SettingWithCopyWarning: \n",
      "A value is trying to be set on a copy of a slice from a DataFrame\n",
      "\n",
      "See the caveats in the documentation: https://pandas.pydata.org/pandas-docs/stable/user_guide/indexing.html#returning-a-view-versus-a-copy\n",
      "  popc.iloc[a][pop.columns[i]], popc.iloc[b][pop.columns[i]] = pop.iloc[b][pop.columns[i]], pop.iloc[a][pop.columns[i]]\n",
      "C:\\Users\\Asus\\AppData\\Local\\Temp\\ipykernel_9884\\3626351311.py:19: SettingWithCopyWarning: \n",
      "A value is trying to be set on a copy of a slice from a DataFrame\n",
      "\n",
      "See the caveats in the documentation: https://pandas.pydata.org/pandas-docs/stable/user_guide/indexing.html#returning-a-view-versus-a-copy\n",
      "  popm.iloc[i][mutation]=source[0]\n"
     ]
    },
    {
     "name": "stdout",
     "output_type": "stream",
     "text": [
      "Index([354, 302, 331], dtype='int64')\n",
      "Index([520, 361, 442], dtype='int64')\n",
      "Index([338, 469, 353], dtype='int64')\n",
      "Index([376, 441, 439], dtype='int64')\n",
      "Index([378, 327, 349], dtype='int64')\n"
     ]
    },
    {
     "name": "stderr",
     "output_type": "stream",
     "text": [
      "C:\\Users\\Asus\\AppData\\Local\\Temp\\ipykernel_9884\\2229102978.py:9: SettingWithCopyWarning: \n",
      "A value is trying to be set on a copy of a slice from a DataFrame\n",
      "\n",
      "See the caveats in the documentation: https://pandas.pydata.org/pandas-docs/stable/user_guide/indexing.html#returning-a-view-versus-a-copy\n",
      "  popc.iloc[a][pop.columns[i]], popc.iloc[b][pop.columns[i]] = pop.iloc[b][pop.columns[i]], pop.iloc[a][pop.columns[i]]\n",
      "C:\\Users\\Asus\\AppData\\Local\\Temp\\ipykernel_9884\\3626351311.py:19: SettingWithCopyWarning: \n",
      "A value is trying to be set on a copy of a slice from a DataFrame\n",
      "\n",
      "See the caveats in the documentation: https://pandas.pydata.org/pandas-docs/stable/user_guide/indexing.html#returning-a-view-versus-a-copy\n",
      "  popm.iloc[i][mutation]=source[0]\n"
     ]
    },
    {
     "name": "stdout",
     "output_type": "stream",
     "text": [
      "Index([303, 379, 447], dtype='int64')\n",
      "Index([524, 533, 354], dtype='int64')\n",
      "Index([456, 446, 337], dtype='int64')\n",
      "Index([495, 527, 448], dtype='int64')\n",
      "Index([508, 390, 374], dtype='int64')\n"
     ]
    },
    {
     "name": "stderr",
     "output_type": "stream",
     "text": [
      "C:\\Users\\Asus\\AppData\\Local\\Temp\\ipykernel_9884\\2229102978.py:9: SettingWithCopyWarning: \n",
      "A value is trying to be set on a copy of a slice from a DataFrame\n",
      "\n",
      "See the caveats in the documentation: https://pandas.pydata.org/pandas-docs/stable/user_guide/indexing.html#returning-a-view-versus-a-copy\n",
      "  popc.iloc[a][pop.columns[i]], popc.iloc[b][pop.columns[i]] = pop.iloc[b][pop.columns[i]], pop.iloc[a][pop.columns[i]]\n",
      "C:\\Users\\Asus\\AppData\\Local\\Temp\\ipykernel_9884\\3626351311.py:19: SettingWithCopyWarning: \n",
      "A value is trying to be set on a copy of a slice from a DataFrame\n",
      "\n",
      "See the caveats in the documentation: https://pandas.pydata.org/pandas-docs/stable/user_guide/indexing.html#returning-a-view-versus-a-copy\n",
      "  popm.iloc[i][mutation]=source[0]\n"
     ]
    },
    {
     "name": "stdout",
     "output_type": "stream",
     "text": [
      "Index([471, 374, 489], dtype='int64')\n",
      "Index([368, 524, 449], dtype='int64')\n",
      "Index([515, 364, 329], dtype='int64')\n",
      "Index([307, 456, 449], dtype='int64')\n",
      "Index([357, 390, 342], dtype='int64')\n"
     ]
    },
    {
     "name": "stderr",
     "output_type": "stream",
     "text": [
      "C:\\Users\\Asus\\AppData\\Local\\Temp\\ipykernel_9884\\2229102978.py:9: SettingWithCopyWarning: \n",
      "A value is trying to be set on a copy of a slice from a DataFrame\n",
      "\n",
      "See the caveats in the documentation: https://pandas.pydata.org/pandas-docs/stable/user_guide/indexing.html#returning-a-view-versus-a-copy\n",
      "  popc.iloc[a][pop.columns[i]], popc.iloc[b][pop.columns[i]] = pop.iloc[b][pop.columns[i]], pop.iloc[a][pop.columns[i]]\n",
      "C:\\Users\\Asus\\AppData\\Local\\Temp\\ipykernel_9884\\3626351311.py:19: SettingWithCopyWarning: \n",
      "A value is trying to be set on a copy of a slice from a DataFrame\n",
      "\n",
      "See the caveats in the documentation: https://pandas.pydata.org/pandas-docs/stable/user_guide/indexing.html#returning-a-view-versus-a-copy\n",
      "  popm.iloc[i][mutation]=source[0]\n"
     ]
    },
    {
     "name": "stdout",
     "output_type": "stream",
     "text": [
      "Index([537, 347, 336], dtype='int64')\n",
      "Index([343, 391, 396], dtype='int64')\n",
      "Index([358, 332, 318], dtype='int64')\n",
      "Index([475, 527, 476], dtype='int64')\n",
      "Index([478, 465, 299], dtype='int64')\n"
     ]
    },
    {
     "name": "stderr",
     "output_type": "stream",
     "text": [
      "C:\\Users\\Asus\\AppData\\Local\\Temp\\ipykernel_9884\\2229102978.py:9: SettingWithCopyWarning: \n",
      "A value is trying to be set on a copy of a slice from a DataFrame\n",
      "\n",
      "See the caveats in the documentation: https://pandas.pydata.org/pandas-docs/stable/user_guide/indexing.html#returning-a-view-versus-a-copy\n",
      "  popc.iloc[a][pop.columns[i]], popc.iloc[b][pop.columns[i]] = pop.iloc[b][pop.columns[i]], pop.iloc[a][pop.columns[i]]\n",
      "C:\\Users\\Asus\\AppData\\Local\\Temp\\ipykernel_9884\\3626351311.py:19: SettingWithCopyWarning: \n",
      "A value is trying to be set on a copy of a slice from a DataFrame\n",
      "\n",
      "See the caveats in the documentation: https://pandas.pydata.org/pandas-docs/stable/user_guide/indexing.html#returning-a-view-versus-a-copy\n",
      "  popm.iloc[i][mutation]=source[0]\n"
     ]
    },
    {
     "name": "stdout",
     "output_type": "stream",
     "text": [
      "Index([355, 339, 385], dtype='int64')\n",
      "Index([373, 439, 469], dtype='int64')\n",
      "Index([397, 482, 386], dtype='int64')\n",
      "Index([458, 294, 399], dtype='int64')\n",
      "Index([456, 331, 329], dtype='int64')\n"
     ]
    },
    {
     "name": "stderr",
     "output_type": "stream",
     "text": [
      "C:\\Users\\Asus\\AppData\\Local\\Temp\\ipykernel_9884\\2229102978.py:9: SettingWithCopyWarning: \n",
      "A value is trying to be set on a copy of a slice from a DataFrame\n",
      "\n",
      "See the caveats in the documentation: https://pandas.pydata.org/pandas-docs/stable/user_guide/indexing.html#returning-a-view-versus-a-copy\n",
      "  popc.iloc[a][pop.columns[i]], popc.iloc[b][pop.columns[i]] = pop.iloc[b][pop.columns[i]], pop.iloc[a][pop.columns[i]]\n",
      "C:\\Users\\Asus\\AppData\\Local\\Temp\\ipykernel_9884\\3626351311.py:19: SettingWithCopyWarning: \n",
      "A value is trying to be set on a copy of a slice from a DataFrame\n",
      "\n",
      "See the caveats in the documentation: https://pandas.pydata.org/pandas-docs/stable/user_guide/indexing.html#returning-a-view-versus-a-copy\n",
      "  popm.iloc[i][mutation]=source[0]\n"
     ]
    },
    {
     "name": "stdout",
     "output_type": "stream",
     "text": [
      "Index([313, 303, 333], dtype='int64')\n",
      "Index([537, 477, 397], dtype='int64')\n",
      "Index([318, 536, 489], dtype='int64')\n",
      "Index([476, 511, 337], dtype='int64')\n",
      "Index([506, 368, 388], dtype='int64')\n"
     ]
    },
    {
     "name": "stderr",
     "output_type": "stream",
     "text": [
      "C:\\Users\\Asus\\AppData\\Local\\Temp\\ipykernel_9884\\2229102978.py:9: SettingWithCopyWarning: \n",
      "A value is trying to be set on a copy of a slice from a DataFrame\n",
      "\n",
      "See the caveats in the documentation: https://pandas.pydata.org/pandas-docs/stable/user_guide/indexing.html#returning-a-view-versus-a-copy\n",
      "  popc.iloc[a][pop.columns[i]], popc.iloc[b][pop.columns[i]] = pop.iloc[b][pop.columns[i]], pop.iloc[a][pop.columns[i]]\n",
      "C:\\Users\\Asus\\AppData\\Local\\Temp\\ipykernel_9884\\3626351311.py:19: SettingWithCopyWarning: \n",
      "A value is trying to be set on a copy of a slice from a DataFrame\n",
      "\n",
      "See the caveats in the documentation: https://pandas.pydata.org/pandas-docs/stable/user_guide/indexing.html#returning-a-view-versus-a-copy\n",
      "  popm.iloc[i][mutation]=source[0]\n"
     ]
    },
    {
     "name": "stdout",
     "output_type": "stream",
     "text": [
      "Index([532, 539, 524], dtype='int64')\n",
      "Index([402, 519, 483], dtype='int64')\n",
      "Index([523, 297, 366], dtype='int64')\n",
      "Index([376, 307, 444], dtype='int64')\n",
      "Index([524, 308, 531], dtype='int64')\n"
     ]
    },
    {
     "name": "stderr",
     "output_type": "stream",
     "text": [
      "C:\\Users\\Asus\\AppData\\Local\\Temp\\ipykernel_9884\\2229102978.py:9: SettingWithCopyWarning: \n",
      "A value is trying to be set on a copy of a slice from a DataFrame\n",
      "\n",
      "See the caveats in the documentation: https://pandas.pydata.org/pandas-docs/stable/user_guide/indexing.html#returning-a-view-versus-a-copy\n",
      "  popc.iloc[a][pop.columns[i]], popc.iloc[b][pop.columns[i]] = pop.iloc[b][pop.columns[i]], pop.iloc[a][pop.columns[i]]\n",
      "C:\\Users\\Asus\\AppData\\Local\\Temp\\ipykernel_9884\\3626351311.py:19: SettingWithCopyWarning: \n",
      "A value is trying to be set on a copy of a slice from a DataFrame\n",
      "\n",
      "See the caveats in the documentation: https://pandas.pydata.org/pandas-docs/stable/user_guide/indexing.html#returning-a-view-versus-a-copy\n",
      "  popm.iloc[i][mutation]=source[0]\n"
     ]
    },
    {
     "name": "stdout",
     "output_type": "stream",
     "text": [
      "Index([537, 375, 373], dtype='int64')\n",
      "Index([320, 487, 533], dtype='int64')\n",
      "Index([506, 329, 512], dtype='int64')\n",
      "Index([324, 348, 392], dtype='int64')\n",
      "Index([302, 450, 346], dtype='int64')\n"
     ]
    },
    {
     "name": "stderr",
     "output_type": "stream",
     "text": [
      "C:\\Users\\Asus\\AppData\\Local\\Temp\\ipykernel_9884\\2229102978.py:9: SettingWithCopyWarning: \n",
      "A value is trying to be set on a copy of a slice from a DataFrame\n",
      "\n",
      "See the caveats in the documentation: https://pandas.pydata.org/pandas-docs/stable/user_guide/indexing.html#returning-a-view-versus-a-copy\n",
      "  popc.iloc[a][pop.columns[i]], popc.iloc[b][pop.columns[i]] = pop.iloc[b][pop.columns[i]], pop.iloc[a][pop.columns[i]]\n",
      "C:\\Users\\Asus\\AppData\\Local\\Temp\\ipykernel_9884\\3626351311.py:19: SettingWithCopyWarning: \n",
      "A value is trying to be set on a copy of a slice from a DataFrame\n",
      "\n",
      "See the caveats in the documentation: https://pandas.pydata.org/pandas-docs/stable/user_guide/indexing.html#returning-a-view-versus-a-copy\n",
      "  popm.iloc[i][mutation]=source[0]\n"
     ]
    },
    {
     "name": "stdout",
     "output_type": "stream",
     "text": [
      "Index([461, 379, 485], dtype='int64')\n",
      "Index([509, 383, 476], dtype='int64')\n",
      "Index([292, 291, 503], dtype='int64')\n",
      "Index([476, 473, 535], dtype='int64')\n",
      "Index([355, 530, 466], dtype='int64')\n"
     ]
    },
    {
     "name": "stderr",
     "output_type": "stream",
     "text": [
      "C:\\Users\\Asus\\AppData\\Local\\Temp\\ipykernel_9884\\2229102978.py:9: SettingWithCopyWarning: \n",
      "A value is trying to be set on a copy of a slice from a DataFrame\n",
      "\n",
      "See the caveats in the documentation: https://pandas.pydata.org/pandas-docs/stable/user_guide/indexing.html#returning-a-view-versus-a-copy\n",
      "  popc.iloc[a][pop.columns[i]], popc.iloc[b][pop.columns[i]] = pop.iloc[b][pop.columns[i]], pop.iloc[a][pop.columns[i]]\n",
      "C:\\Users\\Asus\\AppData\\Local\\Temp\\ipykernel_9884\\3626351311.py:19: SettingWithCopyWarning: \n",
      "A value is trying to be set on a copy of a slice from a DataFrame\n",
      "\n",
      "See the caveats in the documentation: https://pandas.pydata.org/pandas-docs/stable/user_guide/indexing.html#returning-a-view-versus-a-copy\n",
      "  popm.iloc[i][mutation]=source[0]\n"
     ]
    },
    {
     "name": "stdout",
     "output_type": "stream",
     "text": [
      "Index([303, 359, 346], dtype='int64')\n",
      "Index([387, 351, 299], dtype='int64')\n",
      "Index([398, 309, 487], dtype='int64')\n",
      "Index([477, 292, 374], dtype='int64')\n",
      "Index([512, 346, 485], dtype='int64')\n"
     ]
    },
    {
     "name": "stderr",
     "output_type": "stream",
     "text": [
      "C:\\Users\\Asus\\AppData\\Local\\Temp\\ipykernel_9884\\2229102978.py:9: SettingWithCopyWarning: \n",
      "A value is trying to be set on a copy of a slice from a DataFrame\n",
      "\n",
      "See the caveats in the documentation: https://pandas.pydata.org/pandas-docs/stable/user_guide/indexing.html#returning-a-view-versus-a-copy\n",
      "  popc.iloc[a][pop.columns[i]], popc.iloc[b][pop.columns[i]] = pop.iloc[b][pop.columns[i]], pop.iloc[a][pop.columns[i]]\n",
      "C:\\Users\\Asus\\AppData\\Local\\Temp\\ipykernel_9884\\3626351311.py:19: SettingWithCopyWarning: \n",
      "A value is trying to be set on a copy of a slice from a DataFrame\n",
      "\n",
      "See the caveats in the documentation: https://pandas.pydata.org/pandas-docs/stable/user_guide/indexing.html#returning-a-view-versus-a-copy\n",
      "  popm.iloc[i][mutation]=source[0]\n"
     ]
    },
    {
     "name": "stdout",
     "output_type": "stream",
     "text": [
      "Index([474, 510, 298], dtype='int64')\n",
      "Index([467, 353, 355], dtype='int64')\n",
      "Index([376, 331, 348], dtype='int64')\n",
      "Index([399, 497, 444], dtype='int64')\n",
      "Index([323, 401, 358], dtype='int64')\n"
     ]
    },
    {
     "name": "stderr",
     "output_type": "stream",
     "text": [
      "C:\\Users\\Asus\\AppData\\Local\\Temp\\ipykernel_9884\\2229102978.py:9: SettingWithCopyWarning: \n",
      "A value is trying to be set on a copy of a slice from a DataFrame\n",
      "\n",
      "See the caveats in the documentation: https://pandas.pydata.org/pandas-docs/stable/user_guide/indexing.html#returning-a-view-versus-a-copy\n",
      "  popc.iloc[a][pop.columns[i]], popc.iloc[b][pop.columns[i]] = pop.iloc[b][pop.columns[i]], pop.iloc[a][pop.columns[i]]\n",
      "C:\\Users\\Asus\\AppData\\Local\\Temp\\ipykernel_9884\\3626351311.py:19: SettingWithCopyWarning: \n",
      "A value is trying to be set on a copy of a slice from a DataFrame\n",
      "\n",
      "See the caveats in the documentation: https://pandas.pydata.org/pandas-docs/stable/user_guide/indexing.html#returning-a-view-versus-a-copy\n",
      "  popm.iloc[i][mutation]=source[0]\n"
     ]
    },
    {
     "name": "stdout",
     "output_type": "stream",
     "text": [
      "Index([486, 385, 339], dtype='int64')\n",
      "Index([349, 485, 518], dtype='int64')\n",
      "Index([371, 314, 497], dtype='int64')\n",
      "Index([530, 396, 460], dtype='int64')\n",
      "Index([320, 322, 352], dtype='int64')\n"
     ]
    },
    {
     "name": "stderr",
     "output_type": "stream",
     "text": [
      "C:\\Users\\Asus\\AppData\\Local\\Temp\\ipykernel_9884\\2229102978.py:9: SettingWithCopyWarning: \n",
      "A value is trying to be set on a copy of a slice from a DataFrame\n",
      "\n",
      "See the caveats in the documentation: https://pandas.pydata.org/pandas-docs/stable/user_guide/indexing.html#returning-a-view-versus-a-copy\n",
      "  popc.iloc[a][pop.columns[i]], popc.iloc[b][pop.columns[i]] = pop.iloc[b][pop.columns[i]], pop.iloc[a][pop.columns[i]]\n",
      "C:\\Users\\Asus\\AppData\\Local\\Temp\\ipykernel_9884\\3626351311.py:19: SettingWithCopyWarning: \n",
      "A value is trying to be set on a copy of a slice from a DataFrame\n",
      "\n",
      "See the caveats in the documentation: https://pandas.pydata.org/pandas-docs/stable/user_guide/indexing.html#returning-a-view-versus-a-copy\n",
      "  popm.iloc[i][mutation]=source[0]\n"
     ]
    },
    {
     "name": "stdout",
     "output_type": "stream",
     "text": [
      "Index([400, 532, 303], dtype='int64')\n",
      "Index([390, 460, 297], dtype='int64')\n",
      "Index([540, 378, 490], dtype='int64')\n",
      "Index([363, 492, 305], dtype='int64')\n",
      "Index([347, 492, 340], dtype='int64')\n"
     ]
    },
    {
     "name": "stderr",
     "output_type": "stream",
     "text": [
      "C:\\Users\\Asus\\AppData\\Local\\Temp\\ipykernel_9884\\2229102978.py:9: SettingWithCopyWarning: \n",
      "A value is trying to be set on a copy of a slice from a DataFrame\n",
      "\n",
      "See the caveats in the documentation: https://pandas.pydata.org/pandas-docs/stable/user_guide/indexing.html#returning-a-view-versus-a-copy\n",
      "  popc.iloc[a][pop.columns[i]], popc.iloc[b][pop.columns[i]] = pop.iloc[b][pop.columns[i]], pop.iloc[a][pop.columns[i]]\n",
      "C:\\Users\\Asus\\AppData\\Local\\Temp\\ipykernel_9884\\3626351311.py:19: SettingWithCopyWarning: \n",
      "A value is trying to be set on a copy of a slice from a DataFrame\n",
      "\n",
      "See the caveats in the documentation: https://pandas.pydata.org/pandas-docs/stable/user_guide/indexing.html#returning-a-view-versus-a-copy\n",
      "  popm.iloc[i][mutation]=source[0]\n"
     ]
    },
    {
     "name": "stdout",
     "output_type": "stream",
     "text": [
      "Index([398, 541, 457], dtype='int64')\n",
      "Index([491, 360, 496], dtype='int64')\n",
      "Index([490, 502, 336], dtype='int64')\n",
      "Index([525, 484, 481], dtype='int64')\n",
      "Index([320, 358, 530], dtype='int64')\n"
     ]
    },
    {
     "name": "stderr",
     "output_type": "stream",
     "text": [
      "C:\\Users\\Asus\\AppData\\Local\\Temp\\ipykernel_9884\\2229102978.py:9: SettingWithCopyWarning: \n",
      "A value is trying to be set on a copy of a slice from a DataFrame\n",
      "\n",
      "See the caveats in the documentation: https://pandas.pydata.org/pandas-docs/stable/user_guide/indexing.html#returning-a-view-versus-a-copy\n",
      "  popc.iloc[a][pop.columns[i]], popc.iloc[b][pop.columns[i]] = pop.iloc[b][pop.columns[i]], pop.iloc[a][pop.columns[i]]\n",
      "C:\\Users\\Asus\\AppData\\Local\\Temp\\ipykernel_9884\\3626351311.py:19: SettingWithCopyWarning: \n",
      "A value is trying to be set on a copy of a slice from a DataFrame\n",
      "\n",
      "See the caveats in the documentation: https://pandas.pydata.org/pandas-docs/stable/user_guide/indexing.html#returning-a-view-versus-a-copy\n",
      "  popm.iloc[i][mutation]=source[0]\n"
     ]
    },
    {
     "name": "stdout",
     "output_type": "stream",
     "text": [
      "Index([317, 456, 332], dtype='int64')\n",
      "Index([307, 291, 400], dtype='int64')\n",
      "Index([308, 491, 379], dtype='int64')\n",
      "Index([329, 531, 341], dtype='int64')\n",
      "Index([461, 523, 380], dtype='int64')\n"
     ]
    },
    {
     "name": "stderr",
     "output_type": "stream",
     "text": [
      "C:\\Users\\Asus\\AppData\\Local\\Temp\\ipykernel_9884\\2229102978.py:9: SettingWithCopyWarning: \n",
      "A value is trying to be set on a copy of a slice from a DataFrame\n",
      "\n",
      "See the caveats in the documentation: https://pandas.pydata.org/pandas-docs/stable/user_guide/indexing.html#returning-a-view-versus-a-copy\n",
      "  popc.iloc[a][pop.columns[i]], popc.iloc[b][pop.columns[i]] = pop.iloc[b][pop.columns[i]], pop.iloc[a][pop.columns[i]]\n",
      "C:\\Users\\Asus\\AppData\\Local\\Temp\\ipykernel_9884\\3626351311.py:19: SettingWithCopyWarning: \n",
      "A value is trying to be set on a copy of a slice from a DataFrame\n",
      "\n",
      "See the caveats in the documentation: https://pandas.pydata.org/pandas-docs/stable/user_guide/indexing.html#returning-a-view-versus-a-copy\n",
      "  popm.iloc[i][mutation]=source[0]\n"
     ]
    },
    {
     "name": "stdout",
     "output_type": "stream",
     "text": [
      "Index([455, 464, 540], dtype='int64')\n",
      "Index([515, 483, 325], dtype='int64')\n",
      "Index([372, 308, 513], dtype='int64')\n",
      "Index([488, 371, 512], dtype='int64')\n",
      "Index([475, 447, 313], dtype='int64')\n"
     ]
    },
    {
     "name": "stderr",
     "output_type": "stream",
     "text": [
      "C:\\Users\\Asus\\AppData\\Local\\Temp\\ipykernel_9884\\2229102978.py:9: SettingWithCopyWarning: \n",
      "A value is trying to be set on a copy of a slice from a DataFrame\n",
      "\n",
      "See the caveats in the documentation: https://pandas.pydata.org/pandas-docs/stable/user_guide/indexing.html#returning-a-view-versus-a-copy\n",
      "  popc.iloc[a][pop.columns[i]], popc.iloc[b][pop.columns[i]] = pop.iloc[b][pop.columns[i]], pop.iloc[a][pop.columns[i]]\n",
      "C:\\Users\\Asus\\AppData\\Local\\Temp\\ipykernel_9884\\3626351311.py:19: SettingWithCopyWarning: \n",
      "A value is trying to be set on a copy of a slice from a DataFrame\n",
      "\n",
      "See the caveats in the documentation: https://pandas.pydata.org/pandas-docs/stable/user_guide/indexing.html#returning-a-view-versus-a-copy\n",
      "  popm.iloc[i][mutation]=source[0]\n"
     ]
    },
    {
     "name": "stdout",
     "output_type": "stream",
     "text": [
      "Index([489, 302, 315], dtype='int64')\n",
      "Index([479, 329, 331], dtype='int64')\n",
      "Index([439, 516, 397], dtype='int64')\n",
      "Index([501, 455, 387], dtype='int64')\n",
      "Index([321, 301, 380], dtype='int64')\n"
     ]
    },
    {
     "name": "stderr",
     "output_type": "stream",
     "text": [
      "C:\\Users\\Asus\\AppData\\Local\\Temp\\ipykernel_9884\\2229102978.py:9: SettingWithCopyWarning: \n",
      "A value is trying to be set on a copy of a slice from a DataFrame\n",
      "\n",
      "See the caveats in the documentation: https://pandas.pydata.org/pandas-docs/stable/user_guide/indexing.html#returning-a-view-versus-a-copy\n",
      "  popc.iloc[a][pop.columns[i]], popc.iloc[b][pop.columns[i]] = pop.iloc[b][pop.columns[i]], pop.iloc[a][pop.columns[i]]\n",
      "C:\\Users\\Asus\\AppData\\Local\\Temp\\ipykernel_9884\\3626351311.py:19: SettingWithCopyWarning: \n",
      "A value is trying to be set on a copy of a slice from a DataFrame\n",
      "\n",
      "See the caveats in the documentation: https://pandas.pydata.org/pandas-docs/stable/user_guide/indexing.html#returning-a-view-versus-a-copy\n",
      "  popm.iloc[i][mutation]=source[0]\n"
     ]
    },
    {
     "name": "stdout",
     "output_type": "stream",
     "text": [
      "Index([534, 384, 372], dtype='int64')\n",
      "Index([338, 391, 498], dtype='int64')\n",
      "Index([472, 324, 320], dtype='int64')\n",
      "Index([486, 373, 353], dtype='int64')\n",
      "Index([450, 296, 463], dtype='int64')\n"
     ]
    },
    {
     "name": "stderr",
     "output_type": "stream",
     "text": [
      "C:\\Users\\Asus\\AppData\\Local\\Temp\\ipykernel_9884\\2229102978.py:9: SettingWithCopyWarning: \n",
      "A value is trying to be set on a copy of a slice from a DataFrame\n",
      "\n",
      "See the caveats in the documentation: https://pandas.pydata.org/pandas-docs/stable/user_guide/indexing.html#returning-a-view-versus-a-copy\n",
      "  popc.iloc[a][pop.columns[i]], popc.iloc[b][pop.columns[i]] = pop.iloc[b][pop.columns[i]], pop.iloc[a][pop.columns[i]]\n",
      "C:\\Users\\Asus\\AppData\\Local\\Temp\\ipykernel_9884\\3626351311.py:19: SettingWithCopyWarning: \n",
      "A value is trying to be set on a copy of a slice from a DataFrame\n",
      "\n",
      "See the caveats in the documentation: https://pandas.pydata.org/pandas-docs/stable/user_guide/indexing.html#returning-a-view-versus-a-copy\n",
      "  popm.iloc[i][mutation]=source[0]\n"
     ]
    },
    {
     "name": "stdout",
     "output_type": "stream",
     "text": [
      "Index([345, 523, 372], dtype='int64')\n",
      "Index([375, 523, 490], dtype='int64')\n",
      "Index([397, 507, 534], dtype='int64')\n",
      "Index([339, 340, 540], dtype='int64')\n",
      "Index([517, 371, 521], dtype='int64')\n"
     ]
    },
    {
     "name": "stderr",
     "output_type": "stream",
     "text": [
      "C:\\Users\\Asus\\AppData\\Local\\Temp\\ipykernel_9884\\2229102978.py:9: SettingWithCopyWarning: \n",
      "A value is trying to be set on a copy of a slice from a DataFrame\n",
      "\n",
      "See the caveats in the documentation: https://pandas.pydata.org/pandas-docs/stable/user_guide/indexing.html#returning-a-view-versus-a-copy\n",
      "  popc.iloc[a][pop.columns[i]], popc.iloc[b][pop.columns[i]] = pop.iloc[b][pop.columns[i]], pop.iloc[a][pop.columns[i]]\n",
      "C:\\Users\\Asus\\AppData\\Local\\Temp\\ipykernel_9884\\3626351311.py:19: SettingWithCopyWarning: \n",
      "A value is trying to be set on a copy of a slice from a DataFrame\n",
      "\n",
      "See the caveats in the documentation: https://pandas.pydata.org/pandas-docs/stable/user_guide/indexing.html#returning-a-view-versus-a-copy\n",
      "  popm.iloc[i][mutation]=source[0]\n"
     ]
    },
    {
     "name": "stdout",
     "output_type": "stream",
     "text": [
      "Index([350, 361, 459], dtype='int64')\n",
      "Index([453, 399, 383], dtype='int64')\n",
      "Index([335, 530, 299], dtype='int64')\n",
      "Index([453, 325, 470], dtype='int64')\n",
      "Index([527, 315, 389], dtype='int64')\n"
     ]
    },
    {
     "name": "stderr",
     "output_type": "stream",
     "text": [
      "C:\\Users\\Asus\\AppData\\Local\\Temp\\ipykernel_9884\\2229102978.py:9: SettingWithCopyWarning: \n",
      "A value is trying to be set on a copy of a slice from a DataFrame\n",
      "\n",
      "See the caveats in the documentation: https://pandas.pydata.org/pandas-docs/stable/user_guide/indexing.html#returning-a-view-versus-a-copy\n",
      "  popc.iloc[a][pop.columns[i]], popc.iloc[b][pop.columns[i]] = pop.iloc[b][pop.columns[i]], pop.iloc[a][pop.columns[i]]\n",
      "C:\\Users\\Asus\\AppData\\Local\\Temp\\ipykernel_9884\\3626351311.py:19: SettingWithCopyWarning: \n",
      "A value is trying to be set on a copy of a slice from a DataFrame\n",
      "\n",
      "See the caveats in the documentation: https://pandas.pydata.org/pandas-docs/stable/user_guide/indexing.html#returning-a-view-versus-a-copy\n",
      "  popm.iloc[i][mutation]=source[0]\n"
     ]
    },
    {
     "name": "stdout",
     "output_type": "stream",
     "text": [
      "Index([378, 300, 384], dtype='int64')\n",
      "Index([374, 394, 519], dtype='int64')\n",
      "Index([482, 520, 292], dtype='int64')\n",
      "Index([333, 486, 445], dtype='int64')\n",
      "Index([382, 299, 347], dtype='int64')\n"
     ]
    },
    {
     "name": "stderr",
     "output_type": "stream",
     "text": [
      "C:\\Users\\Asus\\AppData\\Local\\Temp\\ipykernel_9884\\2229102978.py:9: SettingWithCopyWarning: \n",
      "A value is trying to be set on a copy of a slice from a DataFrame\n",
      "\n",
      "See the caveats in the documentation: https://pandas.pydata.org/pandas-docs/stable/user_guide/indexing.html#returning-a-view-versus-a-copy\n",
      "  popc.iloc[a][pop.columns[i]], popc.iloc[b][pop.columns[i]] = pop.iloc[b][pop.columns[i]], pop.iloc[a][pop.columns[i]]\n",
      "C:\\Users\\Asus\\AppData\\Local\\Temp\\ipykernel_9884\\3626351311.py:19: SettingWithCopyWarning: \n",
      "A value is trying to be set on a copy of a slice from a DataFrame\n",
      "\n",
      "See the caveats in the documentation: https://pandas.pydata.org/pandas-docs/stable/user_guide/indexing.html#returning-a-view-versus-a-copy\n",
      "  popm.iloc[i][mutation]=source[0]\n"
     ]
    },
    {
     "name": "stdout",
     "output_type": "stream",
     "text": [
      "Index([385, 398, 310], dtype='int64')\n",
      "Index([344, 455, 532], dtype='int64')\n",
      "Index([480, 352, 531], dtype='int64')\n",
      "Index([479, 358, 381], dtype='int64')\n",
      "Index([365, 352, 313], dtype='int64')\n"
     ]
    },
    {
     "name": "stderr",
     "output_type": "stream",
     "text": [
      "C:\\Users\\Asus\\AppData\\Local\\Temp\\ipykernel_9884\\2229102978.py:9: SettingWithCopyWarning: \n",
      "A value is trying to be set on a copy of a slice from a DataFrame\n",
      "\n",
      "See the caveats in the documentation: https://pandas.pydata.org/pandas-docs/stable/user_guide/indexing.html#returning-a-view-versus-a-copy\n",
      "  popc.iloc[a][pop.columns[i]], popc.iloc[b][pop.columns[i]] = pop.iloc[b][pop.columns[i]], pop.iloc[a][pop.columns[i]]\n",
      "C:\\Users\\Asus\\AppData\\Local\\Temp\\ipykernel_9884\\3626351311.py:19: SettingWithCopyWarning: \n",
      "A value is trying to be set on a copy of a slice from a DataFrame\n",
      "\n",
      "See the caveats in the documentation: https://pandas.pydata.org/pandas-docs/stable/user_guide/indexing.html#returning-a-view-versus-a-copy\n",
      "  popm.iloc[i][mutation]=source[0]\n"
     ]
    },
    {
     "name": "stdout",
     "output_type": "stream",
     "text": [
      "Index([453, 459, 375], dtype='int64')\n",
      "Index([533, 385, 458], dtype='int64')\n",
      "Index([340, 317, 351], dtype='int64')\n",
      "Index([328, 494, 370], dtype='int64')\n",
      "Index([369, 537, 496], dtype='int64')\n"
     ]
    },
    {
     "name": "stderr",
     "output_type": "stream",
     "text": [
      "C:\\Users\\Asus\\AppData\\Local\\Temp\\ipykernel_9884\\2229102978.py:9: SettingWithCopyWarning: \n",
      "A value is trying to be set on a copy of a slice from a DataFrame\n",
      "\n",
      "See the caveats in the documentation: https://pandas.pydata.org/pandas-docs/stable/user_guide/indexing.html#returning-a-view-versus-a-copy\n",
      "  popc.iloc[a][pop.columns[i]], popc.iloc[b][pop.columns[i]] = pop.iloc[b][pop.columns[i]], pop.iloc[a][pop.columns[i]]\n",
      "C:\\Users\\Asus\\AppData\\Local\\Temp\\ipykernel_9884\\3626351311.py:19: SettingWithCopyWarning: \n",
      "A value is trying to be set on a copy of a slice from a DataFrame\n",
      "\n",
      "See the caveats in the documentation: https://pandas.pydata.org/pandas-docs/stable/user_guide/indexing.html#returning-a-view-versus-a-copy\n",
      "  popm.iloc[i][mutation]=source[0]\n"
     ]
    },
    {
     "name": "stdout",
     "output_type": "stream",
     "text": [
      "Index([462, 301, 350], dtype='int64')\n",
      "Index([461, 476, 493], dtype='int64')\n",
      "Index([331, 541, 498], dtype='int64')\n",
      "Index([300, 324, 539], dtype='int64')\n",
      "Index([451, 353, 501], dtype='int64')\n"
     ]
    },
    {
     "name": "stderr",
     "output_type": "stream",
     "text": [
      "C:\\Users\\Asus\\AppData\\Local\\Temp\\ipykernel_9884\\2229102978.py:9: SettingWithCopyWarning: \n",
      "A value is trying to be set on a copy of a slice from a DataFrame\n",
      "\n",
      "See the caveats in the documentation: https://pandas.pydata.org/pandas-docs/stable/user_guide/indexing.html#returning-a-view-versus-a-copy\n",
      "  popc.iloc[a][pop.columns[i]], popc.iloc[b][pop.columns[i]] = pop.iloc[b][pop.columns[i]], pop.iloc[a][pop.columns[i]]\n",
      "C:\\Users\\Asus\\AppData\\Local\\Temp\\ipykernel_9884\\3626351311.py:19: SettingWithCopyWarning: \n",
      "A value is trying to be set on a copy of a slice from a DataFrame\n",
      "\n",
      "See the caveats in the documentation: https://pandas.pydata.org/pandas-docs/stable/user_guide/indexing.html#returning-a-view-versus-a-copy\n",
      "  popm.iloc[i][mutation]=source[0]\n"
     ]
    },
    {
     "name": "stdout",
     "output_type": "stream",
     "text": [
      "Index([445, 517, 443], dtype='int64')\n",
      "Index([458, 443, 499], dtype='int64')\n",
      "Index([456, 393, 503], dtype='int64')\n",
      "Index([529, 323, 515], dtype='int64')\n",
      "Index([362, 384, 378], dtype='int64')\n"
     ]
    },
    {
     "name": "stderr",
     "output_type": "stream",
     "text": [
      "C:\\Users\\Asus\\AppData\\Local\\Temp\\ipykernel_9884\\2229102978.py:9: SettingWithCopyWarning: \n",
      "A value is trying to be set on a copy of a slice from a DataFrame\n",
      "\n",
      "See the caveats in the documentation: https://pandas.pydata.org/pandas-docs/stable/user_guide/indexing.html#returning-a-view-versus-a-copy\n",
      "  popc.iloc[a][pop.columns[i]], popc.iloc[b][pop.columns[i]] = pop.iloc[b][pop.columns[i]], pop.iloc[a][pop.columns[i]]\n",
      "C:\\Users\\Asus\\AppData\\Local\\Temp\\ipykernel_9884\\3626351311.py:19: SettingWithCopyWarning: \n",
      "A value is trying to be set on a copy of a slice from a DataFrame\n",
      "\n",
      "See the caveats in the documentation: https://pandas.pydata.org/pandas-docs/stable/user_guide/indexing.html#returning-a-view-versus-a-copy\n",
      "  popm.iloc[i][mutation]=source[0]\n"
     ]
    },
    {
     "name": "stdout",
     "output_type": "stream",
     "text": [
      "Index([317, 457, 401], dtype='int64')\n",
      "Index([480, 399, 503], dtype='int64')\n",
      "Index([392, 391, 446], dtype='int64')\n",
      "Index([374, 359, 383], dtype='int64')\n",
      "Index([496, 344, 540], dtype='int64')\n"
     ]
    },
    {
     "name": "stderr",
     "output_type": "stream",
     "text": [
      "C:\\Users\\Asus\\AppData\\Local\\Temp\\ipykernel_9884\\2229102978.py:9: SettingWithCopyWarning: \n",
      "A value is trying to be set on a copy of a slice from a DataFrame\n",
      "\n",
      "See the caveats in the documentation: https://pandas.pydata.org/pandas-docs/stable/user_guide/indexing.html#returning-a-view-versus-a-copy\n",
      "  popc.iloc[a][pop.columns[i]], popc.iloc[b][pop.columns[i]] = pop.iloc[b][pop.columns[i]], pop.iloc[a][pop.columns[i]]\n",
      "C:\\Users\\Asus\\AppData\\Local\\Temp\\ipykernel_9884\\3626351311.py:19: SettingWithCopyWarning: \n",
      "A value is trying to be set on a copy of a slice from a DataFrame\n",
      "\n",
      "See the caveats in the documentation: https://pandas.pydata.org/pandas-docs/stable/user_guide/indexing.html#returning-a-view-versus-a-copy\n",
      "  popm.iloc[i][mutation]=source[0]\n"
     ]
    },
    {
     "name": "stdout",
     "output_type": "stream",
     "text": [
      "Index([496, 517, 381], dtype='int64')\n",
      "Index([475, 454, 498], dtype='int64')\n",
      "Index([364, 342, 302], dtype='int64')\n",
      "Index([534, 454, 486], dtype='int64')\n",
      "Index([396, 489, 318], dtype='int64')\n"
     ]
    },
    {
     "name": "stderr",
     "output_type": "stream",
     "text": [
      "C:\\Users\\Asus\\AppData\\Local\\Temp\\ipykernel_9884\\2229102978.py:9: SettingWithCopyWarning: \n",
      "A value is trying to be set on a copy of a slice from a DataFrame\n",
      "\n",
      "See the caveats in the documentation: https://pandas.pydata.org/pandas-docs/stable/user_guide/indexing.html#returning-a-view-versus-a-copy\n",
      "  popc.iloc[a][pop.columns[i]], popc.iloc[b][pop.columns[i]] = pop.iloc[b][pop.columns[i]], pop.iloc[a][pop.columns[i]]\n",
      "C:\\Users\\Asus\\AppData\\Local\\Temp\\ipykernel_9884\\3626351311.py:19: SettingWithCopyWarning: \n",
      "A value is trying to be set on a copy of a slice from a DataFrame\n",
      "\n",
      "See the caveats in the documentation: https://pandas.pydata.org/pandas-docs/stable/user_guide/indexing.html#returning-a-view-versus-a-copy\n",
      "  popm.iloc[i][mutation]=source[0]\n"
     ]
    },
    {
     "name": "stdout",
     "output_type": "stream",
     "text": [
      "Index([487, 518, 533], dtype='int64')\n",
      "Index([521, 460, 306], dtype='int64')\n",
      "Index([460, 487, 490], dtype='int64')\n",
      "Index([402, 462, 333], dtype='int64')\n",
      "Index([391, 453, 326], dtype='int64')\n"
     ]
    },
    {
     "name": "stderr",
     "output_type": "stream",
     "text": [
      "C:\\Users\\Asus\\AppData\\Local\\Temp\\ipykernel_9884\\2229102978.py:9: SettingWithCopyWarning: \n",
      "A value is trying to be set on a copy of a slice from a DataFrame\n",
      "\n",
      "See the caveats in the documentation: https://pandas.pydata.org/pandas-docs/stable/user_guide/indexing.html#returning-a-view-versus-a-copy\n",
      "  popc.iloc[a][pop.columns[i]], popc.iloc[b][pop.columns[i]] = pop.iloc[b][pop.columns[i]], pop.iloc[a][pop.columns[i]]\n",
      "C:\\Users\\Asus\\AppData\\Local\\Temp\\ipykernel_9884\\3626351311.py:19: SettingWithCopyWarning: \n",
      "A value is trying to be set on a copy of a slice from a DataFrame\n",
      "\n",
      "See the caveats in the documentation: https://pandas.pydata.org/pandas-docs/stable/user_guide/indexing.html#returning-a-view-versus-a-copy\n",
      "  popm.iloc[i][mutation]=source[0]\n"
     ]
    },
    {
     "name": "stdout",
     "output_type": "stream",
     "text": [
      "Index([357, 371, 457], dtype='int64')\n",
      "Index([444, 442, 292], dtype='int64')\n",
      "Index([465, 371, 318], dtype='int64')\n",
      "Index([360, 344, 314], dtype='int64')\n",
      "Index([458, 348, 396], dtype='int64')\n"
     ]
    },
    {
     "name": "stderr",
     "output_type": "stream",
     "text": [
      "C:\\Users\\Asus\\AppData\\Local\\Temp\\ipykernel_9884\\2229102978.py:9: SettingWithCopyWarning: \n",
      "A value is trying to be set on a copy of a slice from a DataFrame\n",
      "\n",
      "See the caveats in the documentation: https://pandas.pydata.org/pandas-docs/stable/user_guide/indexing.html#returning-a-view-versus-a-copy\n",
      "  popc.iloc[a][pop.columns[i]], popc.iloc[b][pop.columns[i]] = pop.iloc[b][pop.columns[i]], pop.iloc[a][pop.columns[i]]\n",
      "C:\\Users\\Asus\\AppData\\Local\\Temp\\ipykernel_9884\\3626351311.py:19: SettingWithCopyWarning: \n",
      "A value is trying to be set on a copy of a slice from a DataFrame\n",
      "\n",
      "See the caveats in the documentation: https://pandas.pydata.org/pandas-docs/stable/user_guide/indexing.html#returning-a-view-versus-a-copy\n",
      "  popm.iloc[i][mutation]=source[0]\n"
     ]
    },
    {
     "name": "stdout",
     "output_type": "stream",
     "text": [
      "Index([397, 371, 300], dtype='int64')\n",
      "Index([519, 492, 514], dtype='int64')\n",
      "Index([476, 506, 504], dtype='int64')\n",
      "Index([359, 305, 538], dtype='int64')\n",
      "Index([374, 314, 517], dtype='int64')\n"
     ]
    },
    {
     "name": "stderr",
     "output_type": "stream",
     "text": [
      "C:\\Users\\Asus\\AppData\\Local\\Temp\\ipykernel_9884\\2229102978.py:9: SettingWithCopyWarning: \n",
      "A value is trying to be set on a copy of a slice from a DataFrame\n",
      "\n",
      "See the caveats in the documentation: https://pandas.pydata.org/pandas-docs/stable/user_guide/indexing.html#returning-a-view-versus-a-copy\n",
      "  popc.iloc[a][pop.columns[i]], popc.iloc[b][pop.columns[i]] = pop.iloc[b][pop.columns[i]], pop.iloc[a][pop.columns[i]]\n",
      "C:\\Users\\Asus\\AppData\\Local\\Temp\\ipykernel_9884\\3626351311.py:19: SettingWithCopyWarning: \n",
      "A value is trying to be set on a copy of a slice from a DataFrame\n",
      "\n",
      "See the caveats in the documentation: https://pandas.pydata.org/pandas-docs/stable/user_guide/indexing.html#returning-a-view-versus-a-copy\n",
      "  popm.iloc[i][mutation]=source[0]\n"
     ]
    },
    {
     "name": "stdout",
     "output_type": "stream",
     "text": [
      "Index([442, 317, 520], dtype='int64')\n",
      "Index([457, 387, 444], dtype='int64')\n",
      "Index([351, 483, 389], dtype='int64')\n",
      "Index([538, 338, 351], dtype='int64')\n",
      "Index([471, 375, 358], dtype='int64')\n"
     ]
    },
    {
     "name": "stderr",
     "output_type": "stream",
     "text": [
      "C:\\Users\\Asus\\AppData\\Local\\Temp\\ipykernel_9884\\2229102978.py:9: SettingWithCopyWarning: \n",
      "A value is trying to be set on a copy of a slice from a DataFrame\n",
      "\n",
      "See the caveats in the documentation: https://pandas.pydata.org/pandas-docs/stable/user_guide/indexing.html#returning-a-view-versus-a-copy\n",
      "  popc.iloc[a][pop.columns[i]], popc.iloc[b][pop.columns[i]] = pop.iloc[b][pop.columns[i]], pop.iloc[a][pop.columns[i]]\n",
      "C:\\Users\\Asus\\AppData\\Local\\Temp\\ipykernel_9884\\3626351311.py:19: SettingWithCopyWarning: \n",
      "A value is trying to be set on a copy of a slice from a DataFrame\n",
      "\n",
      "See the caveats in the documentation: https://pandas.pydata.org/pandas-docs/stable/user_guide/indexing.html#returning-a-view-versus-a-copy\n",
      "  popm.iloc[i][mutation]=source[0]\n"
     ]
    },
    {
     "name": "stdout",
     "output_type": "stream",
     "text": [
      "Index([450, 518, 319], dtype='int64')\n",
      "Index([380, 514, 367], dtype='int64')\n",
      "Index([325, 444, 368], dtype='int64')\n",
      "Index([476, 445, 477], dtype='int64')\n",
      "Index([362, 520, 300], dtype='int64')\n"
     ]
    },
    {
     "name": "stderr",
     "output_type": "stream",
     "text": [
      "C:\\Users\\Asus\\AppData\\Local\\Temp\\ipykernel_9884\\2229102978.py:9: SettingWithCopyWarning: \n",
      "A value is trying to be set on a copy of a slice from a DataFrame\n",
      "\n",
      "See the caveats in the documentation: https://pandas.pydata.org/pandas-docs/stable/user_guide/indexing.html#returning-a-view-versus-a-copy\n",
      "  popc.iloc[a][pop.columns[i]], popc.iloc[b][pop.columns[i]] = pop.iloc[b][pop.columns[i]], pop.iloc[a][pop.columns[i]]\n",
      "C:\\Users\\Asus\\AppData\\Local\\Temp\\ipykernel_9884\\3626351311.py:19: SettingWithCopyWarning: \n",
      "A value is trying to be set on a copy of a slice from a DataFrame\n",
      "\n",
      "See the caveats in the documentation: https://pandas.pydata.org/pandas-docs/stable/user_guide/indexing.html#returning-a-view-versus-a-copy\n",
      "  popm.iloc[i][mutation]=source[0]\n"
     ]
    },
    {
     "name": "stdout",
     "output_type": "stream",
     "text": [
      "Index([460, 510, 481], dtype='int64')\n",
      "Index([319, 508, 357], dtype='int64')\n",
      "Index([323, 361, 374], dtype='int64')\n",
      "Index([379, 503, 539], dtype='int64')\n",
      "Index([357, 528, 311], dtype='int64')\n"
     ]
    },
    {
     "name": "stderr",
     "output_type": "stream",
     "text": [
      "C:\\Users\\Asus\\AppData\\Local\\Temp\\ipykernel_9884\\2229102978.py:9: SettingWithCopyWarning: \n",
      "A value is trying to be set on a copy of a slice from a DataFrame\n",
      "\n",
      "See the caveats in the documentation: https://pandas.pydata.org/pandas-docs/stable/user_guide/indexing.html#returning-a-view-versus-a-copy\n",
      "  popc.iloc[a][pop.columns[i]], popc.iloc[b][pop.columns[i]] = pop.iloc[b][pop.columns[i]], pop.iloc[a][pop.columns[i]]\n",
      "C:\\Users\\Asus\\AppData\\Local\\Temp\\ipykernel_9884\\3626351311.py:19: SettingWithCopyWarning: \n",
      "A value is trying to be set on a copy of a slice from a DataFrame\n",
      "\n",
      "See the caveats in the documentation: https://pandas.pydata.org/pandas-docs/stable/user_guide/indexing.html#returning-a-view-versus-a-copy\n",
      "  popm.iloc[i][mutation]=source[0]\n"
     ]
    },
    {
     "name": "stdout",
     "output_type": "stream",
     "text": [
      "Index([444, 530, 501], dtype='int64')\n",
      "Index([452, 312, 333], dtype='int64')\n",
      "Index([338, 513, 293], dtype='int64')\n",
      "Index([498, 351, 488], dtype='int64')\n",
      "Index([472, 340, 315], dtype='int64')\n"
     ]
    },
    {
     "name": "stderr",
     "output_type": "stream",
     "text": [
      "C:\\Users\\Asus\\AppData\\Local\\Temp\\ipykernel_9884\\2229102978.py:9: SettingWithCopyWarning: \n",
      "A value is trying to be set on a copy of a slice from a DataFrame\n",
      "\n",
      "See the caveats in the documentation: https://pandas.pydata.org/pandas-docs/stable/user_guide/indexing.html#returning-a-view-versus-a-copy\n",
      "  popc.iloc[a][pop.columns[i]], popc.iloc[b][pop.columns[i]] = pop.iloc[b][pop.columns[i]], pop.iloc[a][pop.columns[i]]\n",
      "C:\\Users\\Asus\\AppData\\Local\\Temp\\ipykernel_9884\\3626351311.py:19: SettingWithCopyWarning: \n",
      "A value is trying to be set on a copy of a slice from a DataFrame\n",
      "\n",
      "See the caveats in the documentation: https://pandas.pydata.org/pandas-docs/stable/user_guide/indexing.html#returning-a-view-versus-a-copy\n",
      "  popm.iloc[i][mutation]=source[0]\n"
     ]
    },
    {
     "name": "stdout",
     "output_type": "stream",
     "text": [
      "Index([504, 522, 448], dtype='int64')\n",
      "Index([296, 322, 529], dtype='int64')\n",
      "Index([531, 501, 334], dtype='int64')\n",
      "Index([470, 321, 515], dtype='int64')\n",
      "Index([369, 525, 473], dtype='int64')\n"
     ]
    },
    {
     "name": "stderr",
     "output_type": "stream",
     "text": [
      "C:\\Users\\Asus\\AppData\\Local\\Temp\\ipykernel_9884\\2229102978.py:9: SettingWithCopyWarning: \n",
      "A value is trying to be set on a copy of a slice from a DataFrame\n",
      "\n",
      "See the caveats in the documentation: https://pandas.pydata.org/pandas-docs/stable/user_guide/indexing.html#returning-a-view-versus-a-copy\n",
      "  popc.iloc[a][pop.columns[i]], popc.iloc[b][pop.columns[i]] = pop.iloc[b][pop.columns[i]], pop.iloc[a][pop.columns[i]]\n",
      "C:\\Users\\Asus\\AppData\\Local\\Temp\\ipykernel_9884\\3626351311.py:19: SettingWithCopyWarning: \n",
      "A value is trying to be set on a copy of a slice from a DataFrame\n",
      "\n",
      "See the caveats in the documentation: https://pandas.pydata.org/pandas-docs/stable/user_guide/indexing.html#returning-a-view-versus-a-copy\n",
      "  popm.iloc[i][mutation]=source[0]\n"
     ]
    },
    {
     "name": "stdout",
     "output_type": "stream",
     "text": [
      "Index([508, 442, 526], dtype='int64')\n",
      "Index([400, 480, 325], dtype='int64')\n",
      "Index([457, 475, 365], dtype='int64')\n",
      "Index([291, 293, 465], dtype='int64')\n",
      "Index([501, 363, 295], dtype='int64')\n"
     ]
    },
    {
     "name": "stderr",
     "output_type": "stream",
     "text": [
      "C:\\Users\\Asus\\AppData\\Local\\Temp\\ipykernel_9884\\2229102978.py:9: SettingWithCopyWarning: \n",
      "A value is trying to be set on a copy of a slice from a DataFrame\n",
      "\n",
      "See the caveats in the documentation: https://pandas.pydata.org/pandas-docs/stable/user_guide/indexing.html#returning-a-view-versus-a-copy\n",
      "  popc.iloc[a][pop.columns[i]], popc.iloc[b][pop.columns[i]] = pop.iloc[b][pop.columns[i]], pop.iloc[a][pop.columns[i]]\n",
      "C:\\Users\\Asus\\AppData\\Local\\Temp\\ipykernel_9884\\3626351311.py:19: SettingWithCopyWarning: \n",
      "A value is trying to be set on a copy of a slice from a DataFrame\n",
      "\n",
      "See the caveats in the documentation: https://pandas.pydata.org/pandas-docs/stable/user_guide/indexing.html#returning-a-view-versus-a-copy\n",
      "  popm.iloc[i][mutation]=source[0]\n"
     ]
    },
    {
     "name": "stdout",
     "output_type": "stream",
     "text": [
      "Index([440, 529, 467], dtype='int64')\n",
      "Index([311, 347, 480], dtype='int64')\n",
      "Index([320, 468, 385], dtype='int64')\n",
      "Index([374, 315, 305], dtype='int64')\n",
      "Index([362, 470, 304], dtype='int64')\n"
     ]
    },
    {
     "name": "stderr",
     "output_type": "stream",
     "text": [
      "C:\\Users\\Asus\\AppData\\Local\\Temp\\ipykernel_9884\\2229102978.py:9: SettingWithCopyWarning: \n",
      "A value is trying to be set on a copy of a slice from a DataFrame\n",
      "\n",
      "See the caveats in the documentation: https://pandas.pydata.org/pandas-docs/stable/user_guide/indexing.html#returning-a-view-versus-a-copy\n",
      "  popc.iloc[a][pop.columns[i]], popc.iloc[b][pop.columns[i]] = pop.iloc[b][pop.columns[i]], pop.iloc[a][pop.columns[i]]\n",
      "C:\\Users\\Asus\\AppData\\Local\\Temp\\ipykernel_9884\\3626351311.py:19: SettingWithCopyWarning: \n",
      "A value is trying to be set on a copy of a slice from a DataFrame\n",
      "\n",
      "See the caveats in the documentation: https://pandas.pydata.org/pandas-docs/stable/user_guide/indexing.html#returning-a-view-versus-a-copy\n",
      "  popm.iloc[i][mutation]=source[0]\n"
     ]
    },
    {
     "name": "stdout",
     "output_type": "stream",
     "text": [
      "Index([351, 395, 511], dtype='int64')\n",
      "Index([530, 497, 502], dtype='int64')\n",
      "Index([510, 539, 462], dtype='int64')\n",
      "Index([503, 456, 316], dtype='int64')\n",
      "Index([347, 296, 473], dtype='int64')\n"
     ]
    },
    {
     "name": "stderr",
     "output_type": "stream",
     "text": [
      "C:\\Users\\Asus\\AppData\\Local\\Temp\\ipykernel_9884\\2229102978.py:9: SettingWithCopyWarning: \n",
      "A value is trying to be set on a copy of a slice from a DataFrame\n",
      "\n",
      "See the caveats in the documentation: https://pandas.pydata.org/pandas-docs/stable/user_guide/indexing.html#returning-a-view-versus-a-copy\n",
      "  popc.iloc[a][pop.columns[i]], popc.iloc[b][pop.columns[i]] = pop.iloc[b][pop.columns[i]], pop.iloc[a][pop.columns[i]]\n",
      "C:\\Users\\Asus\\AppData\\Local\\Temp\\ipykernel_9884\\3626351311.py:19: SettingWithCopyWarning: \n",
      "A value is trying to be set on a copy of a slice from a DataFrame\n",
      "\n",
      "See the caveats in the documentation: https://pandas.pydata.org/pandas-docs/stable/user_guide/indexing.html#returning-a-view-versus-a-copy\n",
      "  popm.iloc[i][mutation]=source[0]\n"
     ]
    },
    {
     "name": "stdout",
     "output_type": "stream",
     "text": [
      "Index([454, 391, 298], dtype='int64')\n",
      "Index([347, 454, 499], dtype='int64')\n",
      "Index([369, 506, 445], dtype='int64')\n",
      "Index([294, 358, 325], dtype='int64')\n",
      "Index([518, 444, 302], dtype='int64')\n"
     ]
    },
    {
     "name": "stderr",
     "output_type": "stream",
     "text": [
      "C:\\Users\\Asus\\AppData\\Local\\Temp\\ipykernel_9884\\2229102978.py:9: SettingWithCopyWarning: \n",
      "A value is trying to be set on a copy of a slice from a DataFrame\n",
      "\n",
      "See the caveats in the documentation: https://pandas.pydata.org/pandas-docs/stable/user_guide/indexing.html#returning-a-view-versus-a-copy\n",
      "  popc.iloc[a][pop.columns[i]], popc.iloc[b][pop.columns[i]] = pop.iloc[b][pop.columns[i]], pop.iloc[a][pop.columns[i]]\n",
      "C:\\Users\\Asus\\AppData\\Local\\Temp\\ipykernel_9884\\3626351311.py:19: SettingWithCopyWarning: \n",
      "A value is trying to be set on a copy of a slice from a DataFrame\n",
      "\n",
      "See the caveats in the documentation: https://pandas.pydata.org/pandas-docs/stable/user_guide/indexing.html#returning-a-view-versus-a-copy\n",
      "  popm.iloc[i][mutation]=source[0]\n"
     ]
    },
    {
     "name": "stdout",
     "output_type": "stream",
     "text": [
      "Index([349, 387, 484], dtype='int64')\n",
      "Index([313, 460, 520], dtype='int64')\n",
      "Index([391, 467, 490], dtype='int64')\n",
      "Index([317, 517, 531], dtype='int64')\n",
      "Index([466, 371, 534], dtype='int64')\n"
     ]
    },
    {
     "name": "stderr",
     "output_type": "stream",
     "text": [
      "C:\\Users\\Asus\\AppData\\Local\\Temp\\ipykernel_9884\\2229102978.py:9: SettingWithCopyWarning: \n",
      "A value is trying to be set on a copy of a slice from a DataFrame\n",
      "\n",
      "See the caveats in the documentation: https://pandas.pydata.org/pandas-docs/stable/user_guide/indexing.html#returning-a-view-versus-a-copy\n",
      "  popc.iloc[a][pop.columns[i]], popc.iloc[b][pop.columns[i]] = pop.iloc[b][pop.columns[i]], pop.iloc[a][pop.columns[i]]\n",
      "C:\\Users\\Asus\\AppData\\Local\\Temp\\ipykernel_9884\\3626351311.py:19: SettingWithCopyWarning: \n",
      "A value is trying to be set on a copy of a slice from a DataFrame\n",
      "\n",
      "See the caveats in the documentation: https://pandas.pydata.org/pandas-docs/stable/user_guide/indexing.html#returning-a-view-versus-a-copy\n",
      "  popm.iloc[i][mutation]=source[0]\n"
     ]
    },
    {
     "name": "stdout",
     "output_type": "stream",
     "text": [
      "Index([357, 461, 478], dtype='int64')\n",
      "Index([324, 524, 368], dtype='int64')\n",
      "Index([363, 385, 531], dtype='int64')\n",
      "Index([518, 304, 353], dtype='int64')\n",
      "Index([454, 505, 514], dtype='int64')\n"
     ]
    },
    {
     "name": "stderr",
     "output_type": "stream",
     "text": [
      "C:\\Users\\Asus\\AppData\\Local\\Temp\\ipykernel_9884\\2229102978.py:9: SettingWithCopyWarning: \n",
      "A value is trying to be set on a copy of a slice from a DataFrame\n",
      "\n",
      "See the caveats in the documentation: https://pandas.pydata.org/pandas-docs/stable/user_guide/indexing.html#returning-a-view-versus-a-copy\n",
      "  popc.iloc[a][pop.columns[i]], popc.iloc[b][pop.columns[i]] = pop.iloc[b][pop.columns[i]], pop.iloc[a][pop.columns[i]]\n",
      "C:\\Users\\Asus\\AppData\\Local\\Temp\\ipykernel_9884\\3626351311.py:19: SettingWithCopyWarning: \n",
      "A value is trying to be set on a copy of a slice from a DataFrame\n",
      "\n",
      "See the caveats in the documentation: https://pandas.pydata.org/pandas-docs/stable/user_guide/indexing.html#returning-a-view-versus-a-copy\n",
      "  popm.iloc[i][mutation]=source[0]\n"
     ]
    },
    {
     "name": "stdout",
     "output_type": "stream",
     "text": [
      "Index([369, 382, 347], dtype='int64')\n",
      "Index([522, 390, 332], dtype='int64')\n",
      "Index([293, 323, 450], dtype='int64')\n",
      "Index([380, 525, 462], dtype='int64')\n",
      "Index([540, 499, 467], dtype='int64')\n"
     ]
    },
    {
     "name": "stderr",
     "output_type": "stream",
     "text": [
      "C:\\Users\\Asus\\AppData\\Local\\Temp\\ipykernel_9884\\2229102978.py:9: SettingWithCopyWarning: \n",
      "A value is trying to be set on a copy of a slice from a DataFrame\n",
      "\n",
      "See the caveats in the documentation: https://pandas.pydata.org/pandas-docs/stable/user_guide/indexing.html#returning-a-view-versus-a-copy\n",
      "  popc.iloc[a][pop.columns[i]], popc.iloc[b][pop.columns[i]] = pop.iloc[b][pop.columns[i]], pop.iloc[a][pop.columns[i]]\n",
      "C:\\Users\\Asus\\AppData\\Local\\Temp\\ipykernel_9884\\3626351311.py:19: SettingWithCopyWarning: \n",
      "A value is trying to be set on a copy of a slice from a DataFrame\n",
      "\n",
      "See the caveats in the documentation: https://pandas.pydata.org/pandas-docs/stable/user_guide/indexing.html#returning-a-view-versus-a-copy\n",
      "  popm.iloc[i][mutation]=source[0]\n"
     ]
    },
    {
     "name": "stdout",
     "output_type": "stream",
     "text": [
      "Index([340, 450, 311], dtype='int64')\n",
      "Index([480, 376, 491], dtype='int64')\n",
      "Index([304, 343, 520], dtype='int64')\n",
      "Index([485, 385, 477], dtype='int64')\n",
      "Index([521, 334, 361], dtype='int64')\n"
     ]
    },
    {
     "name": "stderr",
     "output_type": "stream",
     "text": [
      "C:\\Users\\Asus\\AppData\\Local\\Temp\\ipykernel_9884\\2229102978.py:9: SettingWithCopyWarning: \n",
      "A value is trying to be set on a copy of a slice from a DataFrame\n",
      "\n",
      "See the caveats in the documentation: https://pandas.pydata.org/pandas-docs/stable/user_guide/indexing.html#returning-a-view-versus-a-copy\n",
      "  popc.iloc[a][pop.columns[i]], popc.iloc[b][pop.columns[i]] = pop.iloc[b][pop.columns[i]], pop.iloc[a][pop.columns[i]]\n",
      "C:\\Users\\Asus\\AppData\\Local\\Temp\\ipykernel_9884\\3626351311.py:19: SettingWithCopyWarning: \n",
      "A value is trying to be set on a copy of a slice from a DataFrame\n",
      "\n",
      "See the caveats in the documentation: https://pandas.pydata.org/pandas-docs/stable/user_guide/indexing.html#returning-a-view-versus-a-copy\n",
      "  popm.iloc[i][mutation]=source[0]\n"
     ]
    },
    {
     "name": "stdout",
     "output_type": "stream",
     "text": [
      "Index([361, 390, 526], dtype='int64')\n",
      "Index([522, 332, 471], dtype='int64')\n",
      "Index([320, 382, 462], dtype='int64')\n",
      "Index([316, 476, 520], dtype='int64')\n",
      "Index([502, 368, 468], dtype='int64')\n"
     ]
    },
    {
     "name": "stderr",
     "output_type": "stream",
     "text": [
      "C:\\Users\\Asus\\AppData\\Local\\Temp\\ipykernel_9884\\2229102978.py:9: SettingWithCopyWarning: \n",
      "A value is trying to be set on a copy of a slice from a DataFrame\n",
      "\n",
      "See the caveats in the documentation: https://pandas.pydata.org/pandas-docs/stable/user_guide/indexing.html#returning-a-view-versus-a-copy\n",
      "  popc.iloc[a][pop.columns[i]], popc.iloc[b][pop.columns[i]] = pop.iloc[b][pop.columns[i]], pop.iloc[a][pop.columns[i]]\n",
      "C:\\Users\\Asus\\AppData\\Local\\Temp\\ipykernel_9884\\3626351311.py:19: SettingWithCopyWarning: \n",
      "A value is trying to be set on a copy of a slice from a DataFrame\n",
      "\n",
      "See the caveats in the documentation: https://pandas.pydata.org/pandas-docs/stable/user_guide/indexing.html#returning-a-view-versus-a-copy\n",
      "  popm.iloc[i][mutation]=source[0]\n"
     ]
    },
    {
     "name": "stdout",
     "output_type": "stream",
     "text": [
      "Index([357, 374, 514], dtype='int64')\n",
      "Index([533, 323, 497], dtype='int64')\n",
      "Index([325, 380, 341], dtype='int64')\n",
      "Index([526, 458, 297], dtype='int64')\n",
      "Index([387, 388, 456], dtype='int64')\n"
     ]
    },
    {
     "name": "stderr",
     "output_type": "stream",
     "text": [
      "C:\\Users\\Asus\\AppData\\Local\\Temp\\ipykernel_9884\\2229102978.py:9: SettingWithCopyWarning: \n",
      "A value is trying to be set on a copy of a slice from a DataFrame\n",
      "\n",
      "See the caveats in the documentation: https://pandas.pydata.org/pandas-docs/stable/user_guide/indexing.html#returning-a-view-versus-a-copy\n",
      "  popc.iloc[a][pop.columns[i]], popc.iloc[b][pop.columns[i]] = pop.iloc[b][pop.columns[i]], pop.iloc[a][pop.columns[i]]\n",
      "C:\\Users\\Asus\\AppData\\Local\\Temp\\ipykernel_9884\\3626351311.py:19: SettingWithCopyWarning: \n",
      "A value is trying to be set on a copy of a slice from a DataFrame\n",
      "\n",
      "See the caveats in the documentation: https://pandas.pydata.org/pandas-docs/stable/user_guide/indexing.html#returning-a-view-versus-a-copy\n",
      "  popm.iloc[i][mutation]=source[0]\n"
     ]
    },
    {
     "name": "stdout",
     "output_type": "stream",
     "text": [
      "Index([362, 396, 314], dtype='int64')\n",
      "Index([539, 297, 494], dtype='int64')\n",
      "Index([475, 527, 291], dtype='int64')\n",
      "Index([335, 465, 384], dtype='int64')\n",
      "Index([376, 510, 355], dtype='int64')\n"
     ]
    },
    {
     "name": "stderr",
     "output_type": "stream",
     "text": [
      "C:\\Users\\Asus\\AppData\\Local\\Temp\\ipykernel_9884\\2229102978.py:9: SettingWithCopyWarning: \n",
      "A value is trying to be set on a copy of a slice from a DataFrame\n",
      "\n",
      "See the caveats in the documentation: https://pandas.pydata.org/pandas-docs/stable/user_guide/indexing.html#returning-a-view-versus-a-copy\n",
      "  popc.iloc[a][pop.columns[i]], popc.iloc[b][pop.columns[i]] = pop.iloc[b][pop.columns[i]], pop.iloc[a][pop.columns[i]]\n",
      "C:\\Users\\Asus\\AppData\\Local\\Temp\\ipykernel_9884\\3626351311.py:19: SettingWithCopyWarning: \n",
      "A value is trying to be set on a copy of a slice from a DataFrame\n",
      "\n",
      "See the caveats in the documentation: https://pandas.pydata.org/pandas-docs/stable/user_guide/indexing.html#returning-a-view-versus-a-copy\n",
      "  popm.iloc[i][mutation]=source[0]\n"
     ]
    },
    {
     "name": "stdout",
     "output_type": "stream",
     "text": [
      "Index([297, 522, 538], dtype='int64')\n",
      "Index([444, 474, 365], dtype='int64')\n",
      "Index([484, 401, 338], dtype='int64')\n",
      "Index([318, 380, 311], dtype='int64')\n",
      "Index([478, 382, 473], dtype='int64')\n"
     ]
    },
    {
     "name": "stderr",
     "output_type": "stream",
     "text": [
      "C:\\Users\\Asus\\AppData\\Local\\Temp\\ipykernel_9884\\2229102978.py:9: SettingWithCopyWarning: \n",
      "A value is trying to be set on a copy of a slice from a DataFrame\n",
      "\n",
      "See the caveats in the documentation: https://pandas.pydata.org/pandas-docs/stable/user_guide/indexing.html#returning-a-view-versus-a-copy\n",
      "  popc.iloc[a][pop.columns[i]], popc.iloc[b][pop.columns[i]] = pop.iloc[b][pop.columns[i]], pop.iloc[a][pop.columns[i]]\n",
      "C:\\Users\\Asus\\AppData\\Local\\Temp\\ipykernel_9884\\3626351311.py:19: SettingWithCopyWarning: \n",
      "A value is trying to be set on a copy of a slice from a DataFrame\n",
      "\n",
      "See the caveats in the documentation: https://pandas.pydata.org/pandas-docs/stable/user_guide/indexing.html#returning-a-view-versus-a-copy\n",
      "  popm.iloc[i][mutation]=source[0]\n"
     ]
    },
    {
     "name": "stdout",
     "output_type": "stream",
     "text": [
      "Index([383, 292, 480], dtype='int64')\n",
      "Index([480, 533, 320], dtype='int64')\n",
      "Index([376, 526, 448], dtype='int64')\n",
      "Index([335, 487, 331], dtype='int64')\n",
      "Index([511, 356, 463], dtype='int64')\n"
     ]
    },
    {
     "name": "stderr",
     "output_type": "stream",
     "text": [
      "C:\\Users\\Asus\\AppData\\Local\\Temp\\ipykernel_9884\\2229102978.py:9: SettingWithCopyWarning: \n",
      "A value is trying to be set on a copy of a slice from a DataFrame\n",
      "\n",
      "See the caveats in the documentation: https://pandas.pydata.org/pandas-docs/stable/user_guide/indexing.html#returning-a-view-versus-a-copy\n",
      "  popc.iloc[a][pop.columns[i]], popc.iloc[b][pop.columns[i]] = pop.iloc[b][pop.columns[i]], pop.iloc[a][pop.columns[i]]\n",
      "C:\\Users\\Asus\\AppData\\Local\\Temp\\ipykernel_9884\\3626351311.py:19: SettingWithCopyWarning: \n",
      "A value is trying to be set on a copy of a slice from a DataFrame\n",
      "\n",
      "See the caveats in the documentation: https://pandas.pydata.org/pandas-docs/stable/user_guide/indexing.html#returning-a-view-versus-a-copy\n",
      "  popm.iloc[i][mutation]=source[0]\n"
     ]
    },
    {
     "name": "stdout",
     "output_type": "stream",
     "text": [
      "Index([522, 329, 457], dtype='int64')\n",
      "Index([509, 312, 337], dtype='int64')\n",
      "Index([335, 502, 375], dtype='int64')\n",
      "Index([352, 351, 460], dtype='int64')\n",
      "Index([367, 453, 333], dtype='int64')\n"
     ]
    },
    {
     "name": "stderr",
     "output_type": "stream",
     "text": [
      "C:\\Users\\Asus\\AppData\\Local\\Temp\\ipykernel_9884\\2229102978.py:9: SettingWithCopyWarning: \n",
      "A value is trying to be set on a copy of a slice from a DataFrame\n",
      "\n",
      "See the caveats in the documentation: https://pandas.pydata.org/pandas-docs/stable/user_guide/indexing.html#returning-a-view-versus-a-copy\n",
      "  popc.iloc[a][pop.columns[i]], popc.iloc[b][pop.columns[i]] = pop.iloc[b][pop.columns[i]], pop.iloc[a][pop.columns[i]]\n",
      "C:\\Users\\Asus\\AppData\\Local\\Temp\\ipykernel_9884\\3626351311.py:19: SettingWithCopyWarning: \n",
      "A value is trying to be set on a copy of a slice from a DataFrame\n",
      "\n",
      "See the caveats in the documentation: https://pandas.pydata.org/pandas-docs/stable/user_guide/indexing.html#returning-a-view-versus-a-copy\n",
      "  popm.iloc[i][mutation]=source[0]\n"
     ]
    },
    {
     "name": "stdout",
     "output_type": "stream",
     "text": [
      "Index([306, 519, 323], dtype='int64')\n",
      "Index([341, 305, 332], dtype='int64')\n",
      "Index([318, 463, 336], dtype='int64')\n",
      "Index([290, 518, 330], dtype='int64')\n",
      "Index([353, 511, 380], dtype='int64')\n"
     ]
    },
    {
     "name": "stderr",
     "output_type": "stream",
     "text": [
      "C:\\Users\\Asus\\AppData\\Local\\Temp\\ipykernel_9884\\2229102978.py:9: SettingWithCopyWarning: \n",
      "A value is trying to be set on a copy of a slice from a DataFrame\n",
      "\n",
      "See the caveats in the documentation: https://pandas.pydata.org/pandas-docs/stable/user_guide/indexing.html#returning-a-view-versus-a-copy\n",
      "  popc.iloc[a][pop.columns[i]], popc.iloc[b][pop.columns[i]] = pop.iloc[b][pop.columns[i]], pop.iloc[a][pop.columns[i]]\n",
      "C:\\Users\\Asus\\AppData\\Local\\Temp\\ipykernel_9884\\3626351311.py:19: SettingWithCopyWarning: \n",
      "A value is trying to be set on a copy of a slice from a DataFrame\n",
      "\n",
      "See the caveats in the documentation: https://pandas.pydata.org/pandas-docs/stable/user_guide/indexing.html#returning-a-view-versus-a-copy\n",
      "  popm.iloc[i][mutation]=source[0]\n"
     ]
    },
    {
     "name": "stdout",
     "output_type": "stream",
     "text": [
      "Index([485, 537, 479], dtype='int64')\n",
      "Index([511, 321, 302], dtype='int64')\n",
      "Index([339, 470, 482], dtype='int64')\n",
      "Index([358, 445, 441], dtype='int64')\n",
      "Index([300, 302, 329], dtype='int64')\n"
     ]
    },
    {
     "name": "stderr",
     "output_type": "stream",
     "text": [
      "C:\\Users\\Asus\\AppData\\Local\\Temp\\ipykernel_9884\\2229102978.py:9: SettingWithCopyWarning: \n",
      "A value is trying to be set on a copy of a slice from a DataFrame\n",
      "\n",
      "See the caveats in the documentation: https://pandas.pydata.org/pandas-docs/stable/user_guide/indexing.html#returning-a-view-versus-a-copy\n",
      "  popc.iloc[a][pop.columns[i]], popc.iloc[b][pop.columns[i]] = pop.iloc[b][pop.columns[i]], pop.iloc[a][pop.columns[i]]\n",
      "C:\\Users\\Asus\\AppData\\Local\\Temp\\ipykernel_9884\\3626351311.py:19: SettingWithCopyWarning: \n",
      "A value is trying to be set on a copy of a slice from a DataFrame\n",
      "\n",
      "See the caveats in the documentation: https://pandas.pydata.org/pandas-docs/stable/user_guide/indexing.html#returning-a-view-versus-a-copy\n",
      "  popm.iloc[i][mutation]=source[0]\n"
     ]
    },
    {
     "name": "stdout",
     "output_type": "stream",
     "text": [
      "Index([373, 331, 300], dtype='int64')\n",
      "Index([359, 365, 358], dtype='int64')\n",
      "Index([510, 526, 318], dtype='int64')\n",
      "Index([338, 354, 343], dtype='int64')\n",
      "Index([351, 372, 332], dtype='int64')\n"
     ]
    },
    {
     "name": "stderr",
     "output_type": "stream",
     "text": [
      "C:\\Users\\Asus\\AppData\\Local\\Temp\\ipykernel_9884\\2229102978.py:9: SettingWithCopyWarning: \n",
      "A value is trying to be set on a copy of a slice from a DataFrame\n",
      "\n",
      "See the caveats in the documentation: https://pandas.pydata.org/pandas-docs/stable/user_guide/indexing.html#returning-a-view-versus-a-copy\n",
      "  popc.iloc[a][pop.columns[i]], popc.iloc[b][pop.columns[i]] = pop.iloc[b][pop.columns[i]], pop.iloc[a][pop.columns[i]]\n",
      "C:\\Users\\Asus\\AppData\\Local\\Temp\\ipykernel_9884\\3626351311.py:19: SettingWithCopyWarning: \n",
      "A value is trying to be set on a copy of a slice from a DataFrame\n",
      "\n",
      "See the caveats in the documentation: https://pandas.pydata.org/pandas-docs/stable/user_guide/indexing.html#returning-a-view-versus-a-copy\n",
      "  popm.iloc[i][mutation]=source[0]\n"
     ]
    },
    {
     "name": "stdout",
     "output_type": "stream",
     "text": [
      "Index([303, 491, 499], dtype='int64')\n",
      "Index([322, 315, 360], dtype='int64')\n",
      "Index([541, 530, 482], dtype='int64')\n",
      "Index([315, 461, 527], dtype='int64')\n",
      "Index([319, 525, 494], dtype='int64')\n"
     ]
    },
    {
     "name": "stderr",
     "output_type": "stream",
     "text": [
      "C:\\Users\\Asus\\AppData\\Local\\Temp\\ipykernel_9884\\2229102978.py:9: SettingWithCopyWarning: \n",
      "A value is trying to be set on a copy of a slice from a DataFrame\n",
      "\n",
      "See the caveats in the documentation: https://pandas.pydata.org/pandas-docs/stable/user_guide/indexing.html#returning-a-view-versus-a-copy\n",
      "  popc.iloc[a][pop.columns[i]], popc.iloc[b][pop.columns[i]] = pop.iloc[b][pop.columns[i]], pop.iloc[a][pop.columns[i]]\n",
      "C:\\Users\\Asus\\AppData\\Local\\Temp\\ipykernel_9884\\3626351311.py:19: SettingWithCopyWarning: \n",
      "A value is trying to be set on a copy of a slice from a DataFrame\n",
      "\n",
      "See the caveats in the documentation: https://pandas.pydata.org/pandas-docs/stable/user_guide/indexing.html#returning-a-view-versus-a-copy\n",
      "  popm.iloc[i][mutation]=source[0]\n"
     ]
    },
    {
     "name": "stdout",
     "output_type": "stream",
     "text": [
      "Index([469, 454, 329], dtype='int64')\n",
      "Index([362, 512, 345], dtype='int64')\n",
      "Index([540, 326, 465], dtype='int64')\n",
      "Index([308, 357, 482], dtype='int64')\n",
      "Index([341, 342, 507], dtype='int64')\n"
     ]
    },
    {
     "name": "stderr",
     "output_type": "stream",
     "text": [
      "C:\\Users\\Asus\\AppData\\Local\\Temp\\ipykernel_9884\\2229102978.py:9: SettingWithCopyWarning: \n",
      "A value is trying to be set on a copy of a slice from a DataFrame\n",
      "\n",
      "See the caveats in the documentation: https://pandas.pydata.org/pandas-docs/stable/user_guide/indexing.html#returning-a-view-versus-a-copy\n",
      "  popc.iloc[a][pop.columns[i]], popc.iloc[b][pop.columns[i]] = pop.iloc[b][pop.columns[i]], pop.iloc[a][pop.columns[i]]\n",
      "C:\\Users\\Asus\\AppData\\Local\\Temp\\ipykernel_9884\\3626351311.py:19: SettingWithCopyWarning: \n",
      "A value is trying to be set on a copy of a slice from a DataFrame\n",
      "\n",
      "See the caveats in the documentation: https://pandas.pydata.org/pandas-docs/stable/user_guide/indexing.html#returning-a-view-versus-a-copy\n",
      "  popm.iloc[i][mutation]=source[0]\n"
     ]
    },
    {
     "name": "stdout",
     "output_type": "stream",
     "text": [
      "Index([313, 353, 446], dtype='int64')\n",
      "Index([466, 342, 441], dtype='int64')\n",
      "Index([377, 500, 530], dtype='int64')\n",
      "Index([516, 345, 483], dtype='int64')\n",
      "Index([291, 485, 307], dtype='int64')\n"
     ]
    },
    {
     "name": "stderr",
     "output_type": "stream",
     "text": [
      "C:\\Users\\Asus\\AppData\\Local\\Temp\\ipykernel_9884\\2229102978.py:9: SettingWithCopyWarning: \n",
      "A value is trying to be set on a copy of a slice from a DataFrame\n",
      "\n",
      "See the caveats in the documentation: https://pandas.pydata.org/pandas-docs/stable/user_guide/indexing.html#returning-a-view-versus-a-copy\n",
      "  popc.iloc[a][pop.columns[i]], popc.iloc[b][pop.columns[i]] = pop.iloc[b][pop.columns[i]], pop.iloc[a][pop.columns[i]]\n",
      "C:\\Users\\Asus\\AppData\\Local\\Temp\\ipykernel_9884\\3626351311.py:19: SettingWithCopyWarning: \n",
      "A value is trying to be set on a copy of a slice from a DataFrame\n",
      "\n",
      "See the caveats in the documentation: https://pandas.pydata.org/pandas-docs/stable/user_guide/indexing.html#returning-a-view-versus-a-copy\n",
      "  popm.iloc[i][mutation]=source[0]\n"
     ]
    },
    {
     "name": "stdout",
     "output_type": "stream",
     "text": [
      "Index([308, 464, 484], dtype='int64')\n",
      "Index([476, 529, 514], dtype='int64')\n",
      "Index([477, 479, 401], dtype='int64')\n",
      "Index([320, 386, 484], dtype='int64')\n",
      "Index([487, 313, 393], dtype='int64')\n"
     ]
    },
    {
     "name": "stderr",
     "output_type": "stream",
     "text": [
      "C:\\Users\\Asus\\AppData\\Local\\Temp\\ipykernel_9884\\2229102978.py:9: SettingWithCopyWarning: \n",
      "A value is trying to be set on a copy of a slice from a DataFrame\n",
      "\n",
      "See the caveats in the documentation: https://pandas.pydata.org/pandas-docs/stable/user_guide/indexing.html#returning-a-view-versus-a-copy\n",
      "  popc.iloc[a][pop.columns[i]], popc.iloc[b][pop.columns[i]] = pop.iloc[b][pop.columns[i]], pop.iloc[a][pop.columns[i]]\n",
      "C:\\Users\\Asus\\AppData\\Local\\Temp\\ipykernel_9884\\3626351311.py:19: SettingWithCopyWarning: \n",
      "A value is trying to be set on a copy of a slice from a DataFrame\n",
      "\n",
      "See the caveats in the documentation: https://pandas.pydata.org/pandas-docs/stable/user_guide/indexing.html#returning-a-view-versus-a-copy\n",
      "  popm.iloc[i][mutation]=source[0]\n"
     ]
    },
    {
     "name": "stdout",
     "output_type": "stream",
     "text": [
      "Index([506, 471, 293], dtype='int64')\n",
      "Index([480, 504, 513], dtype='int64')\n",
      "Index([314, 390, 333], dtype='int64')\n",
      "Index([356, 492, 462], dtype='int64')\n",
      "Index([291, 341, 481], dtype='int64')\n"
     ]
    },
    {
     "name": "stderr",
     "output_type": "stream",
     "text": [
      "C:\\Users\\Asus\\AppData\\Local\\Temp\\ipykernel_9884\\2229102978.py:9: SettingWithCopyWarning: \n",
      "A value is trying to be set on a copy of a slice from a DataFrame\n",
      "\n",
      "See the caveats in the documentation: https://pandas.pydata.org/pandas-docs/stable/user_guide/indexing.html#returning-a-view-versus-a-copy\n",
      "  popc.iloc[a][pop.columns[i]], popc.iloc[b][pop.columns[i]] = pop.iloc[b][pop.columns[i]], pop.iloc[a][pop.columns[i]]\n",
      "C:\\Users\\Asus\\AppData\\Local\\Temp\\ipykernel_9884\\3626351311.py:19: SettingWithCopyWarning: \n",
      "A value is trying to be set on a copy of a slice from a DataFrame\n",
      "\n",
      "See the caveats in the documentation: https://pandas.pydata.org/pandas-docs/stable/user_guide/indexing.html#returning-a-view-versus-a-copy\n",
      "  popm.iloc[i][mutation]=source[0]\n"
     ]
    },
    {
     "data": {
      "image/png": "[encoded data removed]",
      "text/plain": [
       "<Figure size 432x288 with 1 Axes>"
      ]
     },
     "metadata": {
      "needs_background": "light"
     },
     "output_type": "display_data"
    },
    {
     "name": "stdout",
     "output_type": "stream",
     "text": [
      "===TESTING RESULT===\n",
      "optimal fitness :  14.211274277593606\n",
      "optimal n population outer :  1\n",
      "optimal n population inner :  4\n"
     ]
    }
   ],
   "source": [
    "import matplotlib.pyplot as plt\n",
    "import numpy as np\n",
    "def populationTestingVisualization():\n",
    "    calNeeds=1700\n",
    "    popSize_outer=5\n",
    "    popSize_inner=5\n",
    "    optimalFitness=-1\n",
    "    optimal_n_outer = 0\n",
    "    optimal_n_inner = 0\n",
    "    fig = plt.figure()\n",
    "    ax = fig.add_subplot(projection='3d')\n",
    "\n",
    "    colors = ['r', 'g', 'b','y','r']\n",
    "    n_population_outer = [1,2,3,4,5]\n",
    "    n_population_inner=[1,2,3,4,5]\n",
    "    # ys=[34,56,34,89,34,67,12,9,23,5]\n",
    "\n",
    "    for c, n_outer in zip(colors,n_population_outer):\n",
    "        ys = []\n",
    "        for i in (n_population_inner):\n",
    "            fitness = generateMealPlan(calNeeds,n_outer,i,popSize_outer,popSize_inner)\n",
    "            fitness= fitness*1000\n",
    "            ys.append(fitness)\n",
    "            if(fitness>optimalFitness):\n",
    "                optimalFitness=fitness\n",
    "                optimal_n_outer = n_outer\n",
    "                optimal_n_inner = i\n",
    "            # ys.append(n_outer+i)\n",
    "        \n",
    "        cs = [c] * len(n_population_outer)\n",
    "        ax.bar(n_population_inner, ys, zs=n_outer, zdir='y', color=cs, alpha=0.8)\n",
    "\n",
    "    ax.set_xlabel('X')\n",
    "    ax.set_ylabel('Y')\n",
    "    ax.set_zlabel('Z')\n",
    "\n",
    "    ax.set_yticks(n_population_outer)\n",
    "\n",
    "    plt.show()\n",
    "    return optimalFitness, optimal_n_inner, optimal_n_outer\n",
    "\n",
    "optimalFitness, optimal_n_inner, optimal_n_outer = populationTestingVisualization()\n",
    "print(\"===TESTING RESULT===\")\n",
    "print(\"optimal fitness : \", optimalFitness)\n",
    "print(\"optimal n population outer : \", optimal_n_outer)\n",
    "print(\"optimal n population inner : \", optimal_n_inner)\n"
   ]
  },
  {
   "cell_type": "code",
   "execution_count": 60,
   "metadata": {},
   "outputs": [
    {
     "data": {
      "image/png": "[encoded data removed]",
      "text/plain": [
       "<Figure size 432x288 with 1 Axes>"
      ]
     },
     "metadata": {
      "needs_background": "light"
     },
     "output_type": "display_data"
    }
   ],
   "source": [
    "import matplotlib.pyplot as plt\n",
    "import numpy as np\n",
    "\n",
    "# Fixing random state for reproducibility\n",
    "np.random.seed(19680801)\n",
    "\n",
    "\n",
    "fig = plt.figure()\n",
    "ax = fig.add_subplot(projection='3d')\n",
    "\n",
    "colors = ['r', 'g', 'b', 'y']\n",
    "yticks = [3, 2, 1, 0]\n",
    "for c, k in zip(colors, yticks):\n",
    "    # Generate the random data for the y=k 'layer'.\n",
    "    xs = np.arange(20)\n",
    "    ys = np.random.rand(20)\n",
    "\n",
    "    # You can provide either a single color or an array with the same length as\n",
    "    # xs and ys. To demonstrate this, we color the first bar of each set cyan.\n",
    "    cs = [c] * len(xs)\n",
    "    cs[0] = 'c'\n",
    "\n",
    "    # Plot the bar graph given by xs and ys on the plane y=k with 80% opacity.\n",
    "    ax.bar(xs, ys, zs=k, zdir='y', color=cs, alpha=0.8)\n",
    "\n",
    "ax.set_xlabel('X')\n",
    "ax.set_ylabel('Y')\n",
    "ax.set_zlabel('Z')\n",
    "\n",
    "# On the y-axis let's only label the discrete values that we have data for.\n",
    "ax.set_yticks(yticks)\n",
    "\n",
    "plt.show()"
   ]
  }
 ],
 "metadata": {
  "kernelspec": {
   "display_name": "Python 3",
   "language": "python",
   "name": "python3"
  },
  "language_info": {
   "codemirror_mode": {
    "name": "ipython",
    "version": 3
   },
   "file_extension": ".py",
   "mimetype": "text/x-python",
   "name": "python",
   "nbconvert_exporter": "python",
   "pygments_lexer": "ipython3",
   "version": "3.10.1"
  },
  "orig_nbformat": 4
 },
 "nbformat": 4,
 "nbformat_minor": 2
}
